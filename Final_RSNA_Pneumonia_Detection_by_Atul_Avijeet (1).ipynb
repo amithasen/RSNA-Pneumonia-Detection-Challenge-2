{
  "nbformat": 4,
  "nbformat_minor": 0,
  "metadata": {
    "colab": {
      "name": "Final RSNA -Pneumonia-Detection by Atul Avijeet",
      "version": "0.3.2",
      "provenance": [],
      "collapsed_sections": [],
      "toc_visible": true
    },
    "kernelspec": {
      "name": "python3",
      "display_name": "Python 3"
    },
    "accelerator": "GPU"
  },
  "cells": [
    {
      "cell_type": "markdown",
      "metadata": {
        "id": "KBeAf8WgaeSk",
        "colab_type": "text"
      },
      "source": [
        "# **RSNA Pneumonia Detection Challenge**\n",
        "(Final Project for Data Mining in NJIT)\n",
        "\n",
        "Subitted to:         \n",
        "**Pantelis Monogioudis**         \n",
        "(Head of the Applied Machine Learning Department @ Bell Labs. \n",
        "Adjunct Prof. @NJIT\n",
        "                        \n",
        "\n",
        "\n",
        "---\n",
        "\n",
        "\n",
        "Submitted by:\n",
        "\n",
        "*  Atul Avijeet (aa2758@njit.edu)\n",
        "*  Saurav Harjaii                       \n",
        "*   Subhasree Kurusamy\n",
        "\n",
        "\n",
        "\n",
        "---\n",
        "\n",
        "\n",
        "\n",
        "Kaggle Link of the challenge:\n",
        "The [Radiological Society of North America](http://www.rsna.org/) Pneumonia Detection Challenge: https://www.kaggle.com/c/rsna-pneumonia-detection-challenge\n",
        "\n",
        "This notebook covers the basics of parsing the competition dataset, training using a detector basd on the [Mask-RCNN algorithm](https://arxiv.org/abs/1703.06870) for object detection and instance segmentation.  \n",
        "\n",
        "\n",
        "This notebook is developed by Atul Avijeet, Saurav Hajrai and Subhasree based upon the kernel by MD.ai., START HERE: Beginner Intro to Lung Opacity S1, RSNA Pneumonia Detection EDA, \tRPN mask r-cnn regions exploration on RSNA data\n",
        "\n",
        "This notebook requires Google's [TensorFlow](https://www.tensorflow.org/) machine learning framework.\n",
        "\n",
        "\n",
        "---\n",
        "\n",
        "\n"
      ]
    },
    {
      "cell_type": "markdown",
      "metadata": {
        "id": "2YVdCsaJ1cPc",
        "colab_type": "text"
      },
      "source": [
        "Here we will install 3 dependencies, which are not present in Colab.\n",
        "\n",
        "**Pydicom**\n",
        "\n",
        "Pydicom is a pure Python package for working with DICOM files such as medical images, reports, and radiotherapy objects.\n",
        "\n",
        "Pydicom makes it easy to read these complex files into natural pythonic structures for easy manipulation. Modified datasets can be written again to DICOM format files.\n",
        "\n",
        "\n"
      ]
    },
    {
      "cell_type": "markdown",
      "metadata": {
        "id": "gW2umt4CMAph",
        "colab_type": "text"
      },
      "source": [
        "** Tqdm**\n",
        " \n",
        " When dealing with large datasets, even the simplest operations can take hours. Progress bars can help make data processing jobs less of a headache because:\n",
        " \n",
        "\n",
        "1. You get a reliable estimate of how long it will take\n",
        ".\n",
        "\n",
        "2. You can see immediately if it’s gotten stuck\n",
        "\n",
        ".\n",
        "The first of these is especially valuable in a business environment, where having a solid delivery estimate can make you look super professional. The best/only way I’ve found to add progress bars to Python code is with tqdm.)."
      ]
    },
    {
      "cell_type": "markdown",
      "metadata": {
        "id": "AyYZujszMoal",
        "colab_type": "text"
      },
      "source": [
        "**Imaug**\n",
        "\n",
        "A library for image augmentation in machine learning experiments, particularly convolutional neural networks. Supports the augmentation of images, keypoints/landmarks, bounding boxes, heatmaps and segmentation maps in a variety of different ways."
      ]
    },
    {
      "cell_type": "markdown",
      "metadata": {
        "id": "Q8XpUB8w-d36",
        "colab_type": "text"
      },
      "source": [
        "\n",
        "\n",
        "---\n",
        "\n"
      ]
    },
    {
      "cell_type": "code",
      "metadata": {
        "id": "tA57TGos4mtN",
        "colab_type": "code",
        "outputId": "c02906f8-f9ed-46b9-d961-a65e3544417e",
        "colab": {
          "base_uri": "https://localhost:8080/",
          "height": 34
        }
      },
      "source": [
        "# install dependencies not included by Colab\n",
        "# use pip3 to ensure compatibility w/ Google Deep Learning Images \n",
        "\n",
        "!pip3 install -q pydicom \n",
        "!pip3 install -q tqdm \n",
        "!pip3 install -q imgaug "
      ],
      "execution_count": 1,
      "outputs": [
        {
          "output_type": "stream",
          "text": [
            "\u001b[K     |████████████████████████████████| 7.0MB 4.4MB/s \n",
            "\u001b[?25h"
          ],
          "name": "stdout"
        }
      ]
    },
    {
      "cell_type": "markdown",
      "metadata": {
        "id": "ACoNeLVm9xBr",
        "colab_type": "text"
      },
      "source": [
        "\n",
        "\n",
        "---\n",
        "\n",
        "**Importing packages**"
      ]
    },
    {
      "cell_type": "markdown",
      "metadata": {
        "id": "8imfF0VDM5dK",
        "colab_type": "text"
      },
      "source": [
        "Now we will import the requied such as \n",
        "os, sys, random, math, numpy, cv2,\n",
        "matplotlib, json, pydicom, imaguag, tqdm, pandas,\n",
        "glob and others which are given below."
      ]
    },
    {
      "cell_type": "markdown",
      "metadata": {
        "id": "WIhZpjaqW9UM",
        "colab_type": "text"
      },
      "source": [
        "The following library is used for-\n",
        "\n",
        "\n",
        "**os**: This module provides a portable way of using operating system dependent functionality. If you just want to read or write a file see open(), if you want to manipulate paths, see the os.path module, and if you want to read all the lines in all the files on the command line see the fileinput module. "
      ]
    },
    {
      "cell_type": "markdown",
      "metadata": {
        "id": "Ly1mN1BgXUBS",
        "colab_type": "text"
      },
      "source": [
        "**sys**: This module provides access to some variables used or maintained by the interpreter and to functions that interact strongly with the interpreter. It is always available."
      ]
    },
    {
      "cell_type": "markdown",
      "metadata": {
        "id": "K6ykHEhZXk5t",
        "colab_type": "text"
      },
      "source": [
        "**random**: This module implements pseudo-random number generators for various distributions."
      ]
    },
    {
      "cell_type": "markdown",
      "metadata": {
        "id": "ekG1euwiXthM",
        "colab_type": "text"
      },
      "source": [
        "**math**: This module is always available. It provides access to the mathematical functions defined by the C standard.\n"
      ]
    },
    {
      "cell_type": "markdown",
      "metadata": {
        "id": "iSx-I0oaXxaM",
        "colab_type": "text"
      },
      "source": [
        "**numpy**: NumPy is the fundamental package for scientific computing with Python. It contains among other things:\n",
        "\n",
        "a powerful N-dimensional array object\n",
        "sophisticated (broadcasting) functions\n",
        "tools for integrating C/C++ and Fortran code\n",
        "useful linear algebra, Fourier transform, and random number capabilities"
      ]
    },
    {
      "cell_type": "markdown",
      "metadata": {
        "id": "-IgvWbbvYhQp",
        "colab_type": "text"
      },
      "source": [
        "**cv2**: Use the function cv2.imread() to read an image. The image should be in the working directory or a full path of image should be given"
      ]
    },
    {
      "cell_type": "markdown",
      "metadata": {
        "id": "r3mG1qsb5mHY",
        "colab_type": "text"
      },
      "source": [
        "**matplotlib.pyplot**: matplotlib.pyplot is a collection of command style functions that make matplotlib work like MATLAB. Each pyplot function makes some change to a figure: e.g., creates a figure, creates a plotting area in a figure, plots some lines in a plotting area, decorates the plot with labels, etc."
      ]
    },
    {
      "cell_type": "markdown",
      "metadata": {
        "id": "ExqtkA-S5ly8",
        "colab_type": "text"
      },
      "source": [
        "**json**: JSON is a syntax for storing and exchanging data."
      ]
    },
    {
      "cell_type": "markdown",
      "metadata": {
        "id": "kPdPvd-87C4f",
        "colab_type": "text"
      },
      "source": [
        "**pydicom**: Pydicom is a pure Python package for working with DICOM files such as medical images, reports, and radiotherapy objects."
      ]
    },
    {
      "cell_type": "markdown",
      "metadata": {
        "id": "5ACJy3cF7Csn",
        "colab_type": "text"
      },
      "source": [
        "\n",
        "**Imaug**: A library for image augmentation in machine learning experiments, particularly convolutional neural networks. Supports the augmentation of images, keypoints/landmarks, bounding boxes, heatmaps and segmentation maps in a variety of different ways.A library for image augmentation in machine learning experiments, particularly convolutional neural networks. Supports the augmentation of images, keypoints/landmarks, bounding boxes, heatmaps and segmentation maps in a variety of different ways."
      ]
    },
    {
      "cell_type": "markdown",
      "metadata": {
        "id": "T9eVCXT67ZB4",
        "colab_type": "text"
      },
      "source": [
        "**pandas**: pandas is an open source, BSD-licensed library providing high-performance, easy-to-use data structures and data analysis tools for the Python programming language."
      ]
    },
    {
      "cell_type": "markdown",
      "metadata": {
        "id": "S1rKebEB7msR",
        "colab_type": "text"
      },
      "source": [
        "**glob** : is a general term used to define techniques to match specified pattern according to rules related Unix shell."
      ]
    },
    {
      "cell_type": "code",
      "metadata": {
        "id": "4kjcC6QqywWl",
        "colab_type": "code",
        "colab": {}
      },
      "source": [
        "import os \n",
        "import sys\n",
        "\n",
        "import random\n",
        "import math\n",
        "import numpy as np\n",
        "import cv2\n",
        "import matplotlib.pyplot as plt\n",
        "import json\n",
        "import pydicom\n",
        "from imgaug import augmenters as iaa\n",
        "from tqdm import tqdm\n",
        "import pandas as pd \n",
        "import glob "
      ],
      "execution_count": 0,
      "outputs": []
    },
    {
      "cell_type": "markdown",
      "metadata": {
        "id": "eCXdW8QfjB81",
        "colab_type": "text"
      },
      "source": [
        "### First: Install Kaggle API for download competition data."
      ]
    },
    {
      "cell_type": "markdown",
      "metadata": {
        "id": "Y16k5lMq8Mm5",
        "colab_type": "text"
      },
      "source": [
        "\n",
        "Installation\n",
        "Ensure you have Python and the package manager pip installed. Run the following command to access the Kaggle API using the command line: pip install kaggle (You may need to do pip install --user kaggle on Mac/Linux. This is recommended if problems come up during the installation process.) Follow the authentication steps below and you’ll be able to use the kaggle CLI tool."
      ]
    },
    {
      "cell_type": "code",
      "metadata": {
        "id": "m3XCS28Oqw8Q",
        "colab_type": "code",
        "colab": {}
      },
      "source": [
        "# Install Kaggle API for downloading the competition data\n",
        "!pip3 install -q kaggle"
      ],
      "execution_count": 0,
      "outputs": []
    },
    {
      "cell_type": "markdown",
      "metadata": {
        "id": "5h0Pm-DP7KX5",
        "colab_type": "text"
      },
      "source": [
        "### Next: Accept the user agreement of the competition website! Then follow [instructions to obtain your Kaggle Credentials.](https://github.com/Kaggle/kaggle-api#api-credentials)  \n",
        "If you are unable to download the competition dataset, check to see if you have accepted the **user agreement** on the competition website. "
      ]
    },
    {
      "cell_type": "markdown",
      "metadata": {
        "id": "Q7T4b2nE9IOc",
        "colab_type": "text"
      },
      "source": [
        "To install the Kaggle API, we will first get the Jason file from going into the Kaggle profile.\n",
        "\n",
        "After that we will run the kaggle file in another notebook to get the kaggle data and key.\n"
      ]
    },
    {
      "cell_type": "markdown",
      "metadata": {
        "id": "RbrHDO3poctz",
        "colab_type": "text"
      },
      "source": [
        "To know your Kaggle Credentials, run this code and upload the jason file. (Since we already have this we will skip this step and mark it as a comment)\n",
        "\n",
        "from google.colab import files\n",
        "files.upload()"
      ]
    },
    {
      "cell_type": "code",
      "metadata": {
        "id": "PvGVpsN0tZqj",
        "colab_type": "code",
        "colab": {}
      },
      "source": [
        "# enter your Kaggle credentionals here\n",
        "\n",
        "os.environ['KAGGLE_USERNAME']=\"aadatamining\"\n",
        "os.environ['KAGGLE_KEY']=\"08b724d41563013a507bc7cf8652ada5\""
      ],
      "execution_count": 0,
      "outputs": []
    },
    {
      "cell_type": "markdown",
      "metadata": {
        "id": "HcjCiVyv9d7b",
        "colab_type": "text"
      },
      "source": [
        "Then we will create a root directory of the project and a directory to save the logs and trained model."
      ]
    },
    {
      "cell_type": "code",
      "metadata": {
        "id": "yP0XLJx_x_6o",
        "colab_type": "code",
        "colab": {}
      },
      "source": [
        "# Root directory of the project\n",
        "ROOT_DIR = os.path.abspath('./DataminingProject')\n",
        "\n",
        "# Directory to save logs and trained model\n",
        "MODEL_DIR = os.path.join(ROOT_DIR, 'logs')\n",
        "\n",
        "if not os.path.exists(ROOT_DIR):\n",
        "    os.makedirs(ROOT_DIR)\n",
        "os.chdir(ROOT_DIR)"
      ],
      "execution_count": 0,
      "outputs": []
    },
    {
      "cell_type": "markdown",
      "metadata": {
        "id": "743Q6-8p-D1G",
        "colab_type": "text"
      },
      "source": [
        "Now we will download the dataset using Kaggle in colab."
      ]
    },
    {
      "cell_type": "code",
      "metadata": {
        "id": "kdEZnDqjr7tp",
        "colab_type": "code",
        "outputId": "3b1c1587-58f2-4779-a8ee-e108e46d6785",
        "colab": {
          "base_uri": "https://localhost:8080/",
          "height": 319
        }
      },
      "source": [
        "# If you are unable to download the competition dataset, check to see if you have \n",
        "# accepted the user agreement on the competition website. \n",
        "!kaggle competitions download -c rsna-pneumonia-detection-challenge"
      ],
      "execution_count": 6,
      "outputs": [
        {
          "output_type": "stream",
          "text": [
            "Downloading stage_2_detailed_class_info.csv.zip to /content/DataminingProject\n",
            "\r  0% 0.00/583k [00:00<?, ?B/s]\n",
            "100% 583k/583k [00:00<00:00, 39.2MB/s]\n",
            "Downloading stage_2_sample_submission.csv to /content/DataminingProject\n",
            "  0% 0.00/155k [00:00<?, ?B/s]\n",
            "100% 155k/155k [00:00<00:00, 50.8MB/s]\n",
            "Downloading stage_2_train_labels.csv.zip to /content/DataminingProject\n",
            "  0% 0.00/661k [00:00<?, ?B/s]\n",
            "100% 661k/661k [00:00<00:00, 42.2MB/s]\n",
            "Downloading stage_2_test_images.zip to /content/DataminingProject\n",
            " 96% 361M/377M [00:03<00:00, 103MB/s]\n",
            "100% 377M/377M [00:03<00:00, 108MB/s]\n",
            "Downloading stage_2_train_images.zip to /content/DataminingProject\n",
            "100% 3.28G/3.29G [00:33<00:00, 81.0MB/s]\n",
            "100% 3.29G/3.29G [00:33<00:00, 107MB/s] \n",
            "Downloading GCP%20Credits%20Request%20Link%20-%20RSNA.txt to /content/DataminingProject\n",
            "  0% 0.00/55.0 [00:00<?, ?B/s]\n",
            "100% 55.0/55.0 [00:00<00:00, 45.1kB/s]\n"
          ],
          "name": "stdout"
        }
      ]
    },
    {
      "cell_type": "markdown",
      "metadata": {
        "id": "femDm6VVev6m",
        "colab_type": "text"
      },
      "source": [
        "### Download is completed. Now, unzip the test and train datasets as well as the csv of  annotations."
      ]
    },
    {
      "cell_type": "markdown",
      "metadata": {
        "id": "scwzPTXd-NQN",
        "colab_type": "text"
      },
      "source": [
        "Now we will unzip the required test and train folder. Also the csv annotations."
      ]
    },
    {
      "cell_type": "markdown",
      "metadata": {
        "id": "lo4stTqkxwgN",
        "colab_type": "text"
      },
      "source": [
        "This will take few minutes to unzip as we have around 30000 files in total."
      ]
    },
    {
      "cell_type": "code",
      "metadata": {
        "id": "kHjgAwQyx_4H",
        "colab_type": "code",
        "colab": {}
      },
      "source": [
        "# unzipping takes a few minutes\n",
        "!unzip -q -o stage_2_test_images.zip -d stage_2_test_images\n",
        "!unzip -q -o stage_2_train_images.zip -d stage_2_train_images\n",
        "!unzip -q -o stage_2_train_labels.csv.zip"
      ],
      "execution_count": 0,
      "outputs": []
    },
    {
      "cell_type": "markdown",
      "metadata": {
        "id": "KLTUyeTMTe4u",
        "colab_type": "text"
      },
      "source": [
        "###  MD.ai Annotator \n",
        "MD.ai was founded by Harvard/Duke/Columbia trained doctors to accelerate the application of AI in medicine with a particular focus on medical imaging. \n",
        "\n",
        "**Annotator features**\n",
        "- The annotator can be used to view DICOM images and create image and exam level annotations.\n",
        "- You can apply the annotator to filter by label, adjudicate annotations, and assign annotation tasks to your team.\n",
        "- Notebooks can be built directly within the annotator for rapid model development.\n",
        "- The data wrangling is abstracted away by the interface and by our MD.ai library.\n",
        "- Simplifies image annotation in order to widen the participation in the futrue of medical image deep learning.\n",
        "\n",
        "The annotator allows you to create initial annotations, build and run models, modify/finetune the annotations based on predicted values, and repeat.  \n",
        "The MD.ai python client library implements functions to easily download images and annotations and to prepare the datasets used to train the model for classification."
      ]
    },
    {
      "cell_type": "markdown",
      "metadata": {
        "id": "kdYzLq1zfKL4",
        "colab_type": "text"
      },
      "source": [
        "###  To install Matterport's Mask-RCNN model from github.\n",
        "See the [Matterport's implementation of Mask-RCNN](https://github.com/matterport/Mask_RCNN)."
      ]
    },
    {
      "cell_type": "markdown",
      "metadata": {
        "id": "HVwuvkQt-rYX",
        "colab_type": "text"
      },
      "source": [
        "This is an implementation of Mask R-CNN on Python 3, Keras, and TensorFlow. The model generates bounding boxes and segmentation masks for each instance of an object in the image. It's based on Feature Pyramid Network (FPN) and a ResNet101 backbone."
      ]
    },
    {
      "cell_type": "markdown",
      "metadata": {
        "id": "BenkewNe-2FB",
        "colab_type": "text"
      },
      "source": [
        "To install this we will install this in the root directory and use !git clone link\n",
        "\n",
        "To clone the Mask RCNN model from github."
      ]
    },
    {
      "cell_type": "code",
      "metadata": {
        "id": "KgllzLnDr7kF",
        "colab_type": "code",
        "outputId": "782e2cad-59f3-4957-e837-86d407134328",
        "colab": {
          "base_uri": "https://localhost:8080/",
          "height": 134
        }
      },
      "source": [
        "os.chdir(ROOT_DIR)\n",
        "!git clone https://github.com/matterport/Mask_RCNN.git\n",
        "os.chdir('Mask_RCNN')\n",
        "!python setup.py -q install"
      ],
      "execution_count": 8,
      "outputs": [
        {
          "output_type": "stream",
          "text": [
            "Cloning into 'Mask_RCNN'...\n",
            "remote: Enumerating objects: 956, done.\u001b[K\n",
            "remote: Total 956 (delta 0), reused 0 (delta 0), pack-reused 956\u001b[K\n",
            "Receiving objects: 100% (956/956), 119.70 MiB | 33.33 MiB/s, done.\n",
            "Resolving deltas: 100% (555/555), done.\n",
            "WARNING:root:Fail load requirements file, so using default ones.\n",
            "zip_safe flag not set; analyzing archive contents...\n"
          ],
          "name": "stdout"
        }
      ]
    },
    {
      "cell_type": "markdown",
      "metadata": {
        "id": "UI-zTCFSptzi",
        "colab_type": "text"
      },
      "source": [
        "Now import the Mask RCNN in the next step."
      ]
    },
    {
      "cell_type": "code",
      "metadata": {
        "id": "-KZXyWwhzOVU",
        "colab_type": "code",
        "outputId": "66a8c0c5-b1bd-4dcd-c237-2cb83fa9fc76",
        "colab": {
          "base_uri": "https://localhost:8080/",
          "height": 34
        }
      },
      "source": [
        "# Import Mask RCNN\n",
        "sys.path.append(os.path.join(ROOT_DIR, 'Mask_RCNN'))  # To find local version of the library\n",
        "from mrcnn.config import Config\n",
        "from mrcnn import utils\n",
        "import mrcnn.model as modellib\n",
        "from mrcnn import visualize\n",
        "from mrcnn.model import log"
      ],
      "execution_count": 9,
      "outputs": [
        {
          "output_type": "stream",
          "text": [
            "Using TensorFlow backend.\n"
          ],
          "name": "stderr"
        }
      ]
    },
    {
      "cell_type": "markdown",
      "metadata": {
        "id": "TQJvRoNlqC3V",
        "colab_type": "text"
      },
      "source": [
        "**TensorFlow**-\n",
        "The core open source library to help you develop and train ML models. Get started quickly by running Colab notebooks directly in your browser."
      ]
    },
    {
      "cell_type": "code",
      "metadata": {
        "id": "FghMmiMjzOX2",
        "colab_type": "code",
        "colab": {}
      },
      "source": [
        "train_dicom_dir = os.path.join(ROOT_DIR, 'stage_2_train_images')\n",
        "test_dicom_dir = os.path.join(ROOT_DIR, 'stage_2_test_images')"
      ],
      "execution_count": 0,
      "outputs": []
    },
    {
      "cell_type": "markdown",
      "metadata": {
        "id": "gj-tvDvEaDiC",
        "colab_type": "text"
      },
      "source": [
        "### Some setup functions and classes for Mask-RCNN\n",
        "\n",
        "- dicom_fps is a list of the dicom image path and filenames \n",
        "- image_annotions is a dictionary of the annotations keyed by the filenames\n",
        "- parsing the dataset returns a list of the image filenames and the annotations dictionary"
      ]
    },
    {
      "cell_type": "code",
      "metadata": {
        "id": "ivqC4cnszOaM",
        "colab_type": "code",
        "colab": {}
      },
      "source": [
        "def get_dicom_fps(dicom_dir):\n",
        "    dicom_fps = glob.glob(dicom_dir+'/'+'*.dcm')\n",
        "    return list(set(dicom_fps))\n",
        "\n",
        "def parse_dataset(dicom_dir, anns): \n",
        "    image_fps = get_dicom_fps(dicom_dir)\n",
        "    image_annotations = {fp: [] for fp in image_fps}\n",
        "    for index, row in anns.iterrows(): \n",
        "        fp = os.path.join(dicom_dir, row['patientId']+'.dcm')\n",
        "        image_annotations[fp].append(row)\n",
        "    return image_fps, image_annotations "
      ],
      "execution_count": 0,
      "outputs": []
    },
    {
      "cell_type": "markdown",
      "metadata": {
        "id": "v3UGW-1uqMI1",
        "colab_type": "text"
      },
      "source": [
        "Now since it takes very much time we have to train the deta, hence we will set parameters which helps us to run the code faster, but it is not the optimal solution."
      ]
    },
    {
      "cell_type": "code",
      "metadata": {
        "id": "_SfzTa-1zOck",
        "colab_type": "code",
        "outputId": "2f4cd97e-24cb-4a4e-ef85-d877d9746237",
        "colab": {
          "base_uri": "https://localhost:8080/",
          "height": 910
        }
      },
      "source": [
        "# The following parameters have been selected to reduce running time for demonstration purposes \n",
        "# These are not optimal \n",
        "\n",
        "class DetectorConfig(Config):\n",
        "    \"\"\"Configuration for training pneumonia detection on the RSNA pneumonia dataset.\n",
        "    Overrides values in the base Config class.\n",
        "    \"\"\"\n",
        "    \n",
        "    # Give the configuration a recognizable name  \n",
        "    NAME = 'pneumonia'\n",
        "    \n",
        "    # Train on 1 GPU and 8 images per GPU. We can put multiple images on each\n",
        "    # GPU because the images are small. Batch size is 8 (GPUs * images/GPU).\n",
        "    GPU_COUNT = 1\n",
        "    IMAGES_PER_GPU = 8 \n",
        "    \n",
        "    BACKBONE = 'resnet50'\n",
        "    \n",
        "    NUM_CLASSES = 2  # background + 1 pneumonia classes\n",
        "    \n",
        "    # Use small images for faster training. Set the limits of the small side\n",
        "    # the large side, and that determines the image shape.\n",
        "    IMAGE_MIN_DIM = 64\n",
        "    IMAGE_MAX_DIM = 64\n",
        "    \n",
        "    RPN_ANCHOR_SCALES = (32, 64)\n",
        "    \n",
        "    TRAIN_ROIS_PER_IMAGE = 16\n",
        "    \n",
        "    MAX_GT_INSTANCES = 3\n",
        "    \n",
        "    DETECTION_MAX_INSTANCES = 3\n",
        "    DETECTION_MIN_CONFIDENCE = 0.9\n",
        "    DETECTION_NMS_THRESHOLD = 0.1\n",
        "    \n",
        "    RPN_TRAIN_ANCHORS_PER_IMAGE = 16\n",
        "    STEPS_PER_EPOCH = 100 \n",
        "    TOP_DOWN_PYRAMID_SIZE = 32\n",
        "    STEPS_PER_EPOCH = 100\n",
        "    \n",
        "    \n",
        "config = DetectorConfig()\n",
        "config.display()"
      ],
      "execution_count": 12,
      "outputs": [
        {
          "output_type": "stream",
          "text": [
            "\n",
            "Configurations:\n",
            "BACKBONE                       resnet50\n",
            "BACKBONE_STRIDES               [4, 8, 16, 32, 64]\n",
            "BATCH_SIZE                     8\n",
            "BBOX_STD_DEV                   [0.1 0.1 0.2 0.2]\n",
            "COMPUTE_BACKBONE_SHAPE         None\n",
            "DETECTION_MAX_INSTANCES        3\n",
            "DETECTION_MIN_CONFIDENCE       0.9\n",
            "DETECTION_NMS_THRESHOLD        0.1\n",
            "FPN_CLASSIF_FC_LAYERS_SIZE     1024\n",
            "GPU_COUNT                      1\n",
            "GRADIENT_CLIP_NORM             5.0\n",
            "IMAGES_PER_GPU                 8\n",
            "IMAGE_CHANNEL_COUNT            3\n",
            "IMAGE_MAX_DIM                  64\n",
            "IMAGE_META_SIZE                14\n",
            "IMAGE_MIN_DIM                  64\n",
            "IMAGE_MIN_SCALE                0\n",
            "IMAGE_RESIZE_MODE              square\n",
            "IMAGE_SHAPE                    [64 64  3]\n",
            "LEARNING_MOMENTUM              0.9\n",
            "LEARNING_RATE                  0.001\n",
            "LOSS_WEIGHTS                   {'rpn_class_loss': 1.0, 'rpn_bbox_loss': 1.0, 'mrcnn_class_loss': 1.0, 'mrcnn_bbox_loss': 1.0, 'mrcnn_mask_loss': 1.0}\n",
            "MASK_POOL_SIZE                 14\n",
            "MASK_SHAPE                     [28, 28]\n",
            "MAX_GT_INSTANCES               3\n",
            "MEAN_PIXEL                     [123.7 116.8 103.9]\n",
            "MINI_MASK_SHAPE                (56, 56)\n",
            "NAME                           pneumonia\n",
            "NUM_CLASSES                    2\n",
            "POOL_SIZE                      7\n",
            "POST_NMS_ROIS_INFERENCE        1000\n",
            "POST_NMS_ROIS_TRAINING         2000\n",
            "PRE_NMS_LIMIT                  6000\n",
            "ROI_POSITIVE_RATIO             0.33\n",
            "RPN_ANCHOR_RATIOS              [0.5, 1, 2]\n",
            "RPN_ANCHOR_SCALES              (32, 64)\n",
            "RPN_ANCHOR_STRIDE              1\n",
            "RPN_BBOX_STD_DEV               [0.1 0.1 0.2 0.2]\n",
            "RPN_NMS_THRESHOLD              0.7\n",
            "RPN_TRAIN_ANCHORS_PER_IMAGE    16\n",
            "STEPS_PER_EPOCH                100\n",
            "TOP_DOWN_PYRAMID_SIZE          32\n",
            "TRAIN_BN                       False\n",
            "TRAIN_ROIS_PER_IMAGE           16\n",
            "USE_MINI_MASK                  True\n",
            "USE_RPN_ROIS                   True\n",
            "VALIDATION_STEPS               50\n",
            "WEIGHT_DECAY                   0.0001\n",
            "\n",
            "\n"
          ],
          "name": "stdout"
        }
      ]
    },
    {
      "cell_type": "markdown",
      "metadata": {
        "id": "_vzc0dpMqpb5",
        "colab_type": "text"
      },
      "source": [
        "Now in this class, we will use it for the training the pneunomia detection.\n",
        "Also note we are using the RSNA pneumonia dataset, which we imported from kaggle.\n",
        "Here add classes and images are added."
      ]
    },
    {
      "cell_type": "code",
      "metadata": {
        "id": "8EBVA1M60yAj",
        "colab_type": "code",
        "colab": {}
      },
      "source": [
        "class DetectorDataset(utils.Dataset):\n",
        "    \"\"\"Dataset class for training pneumonia detection on the RSNA pneumonia dataset.\n",
        "    \"\"\"\n",
        "\n",
        "    def __init__(self, image_fps, image_annotations, orig_height, orig_width):\n",
        "        super().__init__(self)\n",
        "        \n",
        "        # Add classes\n",
        "        self.add_class('pneumonia', 1, 'Lung Opacity')\n",
        "   \n",
        "        # add images \n",
        "        for i, fp in enumerate(image_fps):\n",
        "            annotations = image_annotations[fp]\n",
        "            self.add_image('pneumonia', image_id=i, path=fp, \n",
        "                           annotations=annotations, orig_height=orig_height, orig_width=orig_width)\n",
        "            \n",
        "    def image_reference(self, image_id):\n",
        "        info = self.image_info[image_id]\n",
        "        return info['path']\n",
        "\n",
        "    def load_image(self, image_id):\n",
        "        info = self.image_info[image_id]\n",
        "        fp = info['path']\n",
        "        ds = pydicom.read_file(fp)\n",
        "        image = ds.pixel_array\n",
        "        # If grayscale. Convert to RGB for consistency.\n",
        "        if len(image.shape) != 3 or image.shape[2] != 3:\n",
        "            image = np.stack((image,) * 3, -1)\n",
        "        return image\n",
        "\n",
        "    def load_mask(self, image_id):\n",
        "        info = self.image_info[image_id]\n",
        "        annotations = info['annotations']\n",
        "        count = len(annotations)\n",
        "        if count == 0:\n",
        "            mask = np.zeros((info['orig_height'], info['orig_width'], 1), dtype=np.uint8)\n",
        "            class_ids = np.zeros((1,), dtype=np.int32)\n",
        "        else:\n",
        "            mask = np.zeros((info['orig_height'], info['orig_width'], count), dtype=np.uint8)\n",
        "            class_ids = np.zeros((count,), dtype=np.int32)\n",
        "            for i, a in enumerate(annotations):\n",
        "                if a['Target'] == 1:\n",
        "                    x = int(a['x'])\n",
        "                    y = int(a['y'])\n",
        "                    w = int(a['width'])\n",
        "                    h = int(a['height'])\n",
        "                    mask_instance = mask[:, :, i].copy()\n",
        "                    cv2.rectangle(mask_instance, (x, y), (x+w, y+h), 255, -1)\n",
        "                    mask[:, :, i] = mask_instance\n",
        "                    class_ids[i] = 1\n",
        "        return mask.astype(np.bool), class_ids.astype(np.int32)"
      ],
      "execution_count": 0,
      "outputs": []
    },
    {
      "cell_type": "markdown",
      "metadata": {
        "id": "9RlMo04ckd98",
        "colab_type": "text"
      },
      "source": [
        "### Examine the annotation data, parse the dataset, and view dicom fields"
      ]
    },
    {
      "cell_type": "markdown",
      "metadata": {
        "id": "_iQdOSxHflJW",
        "colab_type": "text"
      },
      "source": [
        "We will examine the annotation data and then parse the dataset and after that we will view the dicom fields.\n",
        "\n",
        "In anns, stage_2_train_labels.csv is used.\n",
        "\n",
        "after that we use anns.head to display 6 patient data."
      ]
    },
    {
      "cell_type": "code",
      "metadata": {
        "id": "EdhUEFDr0yDA",
        "colab_type": "code",
        "outputId": "87bf5779-0593-4ed7-af6a-faa0dd8dc923",
        "colab": {
          "base_uri": "https://localhost:8080/",
          "height": 225
        }
      },
      "source": [
        "# training dataset\n",
        "anns = pd.read_csv(os.path.join(ROOT_DIR, 'stage_2_train_labels.csv'))\n",
        "anns.head(6)"
      ],
      "execution_count": 14,
      "outputs": [
        {
          "output_type": "execute_result",
          "data": {
            "text/html": [
              "<div>\n",
              "<style scoped>\n",
              "    .dataframe tbody tr th:only-of-type {\n",
              "        vertical-align: middle;\n",
              "    }\n",
              "\n",
              "    .dataframe tbody tr th {\n",
              "        vertical-align: top;\n",
              "    }\n",
              "\n",
              "    .dataframe thead th {\n",
              "        text-align: right;\n",
              "    }\n",
              "</style>\n",
              "<table border=\"1\" class=\"dataframe\">\n",
              "  <thead>\n",
              "    <tr style=\"text-align: right;\">\n",
              "      <th></th>\n",
              "      <th>patientId</th>\n",
              "      <th>x</th>\n",
              "      <th>y</th>\n",
              "      <th>width</th>\n",
              "      <th>height</th>\n",
              "      <th>Target</th>\n",
              "    </tr>\n",
              "  </thead>\n",
              "  <tbody>\n",
              "    <tr>\n",
              "      <th>0</th>\n",
              "      <td>0004cfab-14fd-4e49-80ba-63a80b6bddd6</td>\n",
              "      <td>NaN</td>\n",
              "      <td>NaN</td>\n",
              "      <td>NaN</td>\n",
              "      <td>NaN</td>\n",
              "      <td>0</td>\n",
              "    </tr>\n",
              "    <tr>\n",
              "      <th>1</th>\n",
              "      <td>00313ee0-9eaa-42f4-b0ab-c148ed3241cd</td>\n",
              "      <td>NaN</td>\n",
              "      <td>NaN</td>\n",
              "      <td>NaN</td>\n",
              "      <td>NaN</td>\n",
              "      <td>0</td>\n",
              "    </tr>\n",
              "    <tr>\n",
              "      <th>2</th>\n",
              "      <td>00322d4d-1c29-4943-afc9-b6754be640eb</td>\n",
              "      <td>NaN</td>\n",
              "      <td>NaN</td>\n",
              "      <td>NaN</td>\n",
              "      <td>NaN</td>\n",
              "      <td>0</td>\n",
              "    </tr>\n",
              "    <tr>\n",
              "      <th>3</th>\n",
              "      <td>003d8fa0-6bf1-40ed-b54c-ac657f8495c5</td>\n",
              "      <td>NaN</td>\n",
              "      <td>NaN</td>\n",
              "      <td>NaN</td>\n",
              "      <td>NaN</td>\n",
              "      <td>0</td>\n",
              "    </tr>\n",
              "    <tr>\n",
              "      <th>4</th>\n",
              "      <td>00436515-870c-4b36-a041-de91049b9ab4</td>\n",
              "      <td>264.0</td>\n",
              "      <td>152.0</td>\n",
              "      <td>213.0</td>\n",
              "      <td>379.0</td>\n",
              "      <td>1</td>\n",
              "    </tr>\n",
              "    <tr>\n",
              "      <th>5</th>\n",
              "      <td>00436515-870c-4b36-a041-de91049b9ab4</td>\n",
              "      <td>562.0</td>\n",
              "      <td>152.0</td>\n",
              "      <td>256.0</td>\n",
              "      <td>453.0</td>\n",
              "      <td>1</td>\n",
              "    </tr>\n",
              "  </tbody>\n",
              "</table>\n",
              "</div>"
            ],
            "text/plain": [
              "                              patientId      x      y  width  height  Target\n",
              "0  0004cfab-14fd-4e49-80ba-63a80b6bddd6    NaN    NaN    NaN     NaN       0\n",
              "1  00313ee0-9eaa-42f4-b0ab-c148ed3241cd    NaN    NaN    NaN     NaN       0\n",
              "2  00322d4d-1c29-4943-afc9-b6754be640eb    NaN    NaN    NaN     NaN       0\n",
              "3  003d8fa0-6bf1-40ed-b54c-ac657f8495c5    NaN    NaN    NaN     NaN       0\n",
              "4  00436515-870c-4b36-a041-de91049b9ab4  264.0  152.0  213.0   379.0       1\n",
              "5  00436515-870c-4b36-a041-de91049b9ab4  562.0  152.0  256.0   453.0       1"
            ]
          },
          "metadata": {
            "tags": []
          },
          "execution_count": 14
        }
      ]
    },
    {
      "cell_type": "code",
      "metadata": {
        "id": "Mxz-pNbt5txY",
        "colab_type": "code",
        "colab": {}
      },
      "source": [
        "image_fps, image_annotations = parse_dataset(train_dicom_dir, anns=anns)"
      ],
      "execution_count": 0,
      "outputs": []
    },
    {
      "cell_type": "markdown",
      "metadata": {
        "id": "IUOIDrrAe-wl",
        "colab_type": "text"
      },
      "source": [
        "In the next step we will read the dicom image from our file path and then will get the image array."
      ]
    },
    {
      "cell_type": "code",
      "metadata": {
        "id": "YPqjEIXWRhSf",
        "colab_type": "code",
        "colab": {}
      },
      "source": [
        "ds = pydicom.read_file(image_fps[0]) # read dicom image from filepath \n",
        "image = ds.pixel_array # get image array"
      ],
      "execution_count": 0,
      "outputs": []
    },
    {
      "cell_type": "markdown",
      "metadata": {
        "id": "_IG2dxfMe7gp",
        "colab_type": "text"
      },
      "source": [
        "We will use ds to show the dicom fields."
      ]
    },
    {
      "cell_type": "code",
      "metadata": {
        "id": "81lovwF2Ro5R",
        "colab_type": "code",
        "outputId": "f7ccdf45-6a1a-4797-fd48-0e0840423de3",
        "colab": {
          "base_uri": "https://localhost:8080/",
          "height": 605
        }
      },
      "source": [
        "# show dicom fields \n",
        "ds"
      ],
      "execution_count": 17,
      "outputs": [
        {
          "output_type": "execute_result",
          "data": {
            "text/plain": [
              "(0008, 0005) Specific Character Set              CS: 'ISO_IR 100'\n",
              "(0008, 0016) SOP Class UID                       UI: Secondary Capture Image Storage\n",
              "(0008, 0018) SOP Instance UID                    UI: 1.2.276.0.7230010.3.1.4.8323329.7974.1517874334.746500\n",
              "(0008, 0020) Study Date                          DA: '19010101'\n",
              "(0008, 0030) Study Time                          TM: '000000.00'\n",
              "(0008, 0050) Accession Number                    SH: ''\n",
              "(0008, 0060) Modality                            CS: 'CR'\n",
              "(0008, 0064) Conversion Type                     CS: 'WSD'\n",
              "(0008, 0090) Referring Physician's Name          PN: ''\n",
              "(0008, 103e) Series Description                  LO: 'view: AP'\n",
              "(0010, 0010) Patient's Name                      PN: 'f74e692e-1ccd-4f5e-bc19-482325025a41'\n",
              "(0010, 0020) Patient ID                          LO: 'f74e692e-1ccd-4f5e-bc19-482325025a41'\n",
              "(0010, 0030) Patient's Birth Date                DA: ''\n",
              "(0010, 0040) Patient's Sex                       CS: 'F'\n",
              "(0010, 1010) Patient's Age                       AS: '62'\n",
              "(0018, 0015) Body Part Examined                  CS: 'CHEST'\n",
              "(0018, 5101) View Position                       CS: 'AP'\n",
              "(0020, 000d) Study Instance UID                  UI: 1.2.276.0.7230010.3.1.2.8323329.7974.1517874334.746499\n",
              "(0020, 000e) Series Instance UID                 UI: 1.2.276.0.7230010.3.1.3.8323329.7974.1517874334.746498\n",
              "(0020, 0010) Study ID                            SH: ''\n",
              "(0020, 0011) Series Number                       IS: \"1\"\n",
              "(0020, 0013) Instance Number                     IS: \"1\"\n",
              "(0020, 0020) Patient Orientation                 CS: ''\n",
              "(0028, 0002) Samples per Pixel                   US: 1\n",
              "(0028, 0004) Photometric Interpretation          CS: 'MONOCHROME2'\n",
              "(0028, 0010) Rows                                US: 1024\n",
              "(0028, 0011) Columns                             US: 1024\n",
              "(0028, 0030) Pixel Spacing                       DS: ['0.168', '0.168']\n",
              "(0028, 0100) Bits Allocated                      US: 8\n",
              "(0028, 0101) Bits Stored                         US: 8\n",
              "(0028, 0102) High Bit                            US: 7\n",
              "(0028, 0103) Pixel Representation                US: 0\n",
              "(0028, 2110) Lossy Image Compression             CS: '01'\n",
              "(0028, 2114) Lossy Image Compression Method      CS: 'ISO_10918_1'\n",
              "(7fe0, 0010) Pixel Data                          OB: Array of 115502 bytes"
            ]
          },
          "metadata": {
            "tags": []
          },
          "execution_count": 17
        }
      ]
    },
    {
      "cell_type": "code",
      "metadata": {
        "id": "gYNSd1AhRqOV",
        "colab_type": "code",
        "colab": {}
      },
      "source": [
        "# Original DICOM image size: 1024 x 1024\n",
        "ORIG_SIZE = 1024"
      ],
      "execution_count": 0,
      "outputs": []
    },
    {
      "cell_type": "markdown",
      "metadata": {
        "id": "4FlRu8ML-ceg",
        "colab_type": "text"
      },
      "source": [
        "### Split the data into training and validation datasets\n",
        "**Note: We have only used only a portion of the images for demonstration purposes. See comments below.**\n",
        " \n",
        " - To use all the images do: image_fps_list = list(image_fps)\n",
        " - Or change the number of images from 100 to a custom number"
      ]
    },
    {
      "cell_type": "code",
      "metadata": {
        "id": "7jByVCZt-ZOC",
        "colab_type": "code",
        "outputId": "c556c760-21e6-41d8-e807-e756013ee97d",
        "colab": {
          "base_uri": "https://localhost:8080/",
          "height": 34
        }
      },
      "source": [
        "######################################################################\n",
        "# Modify this line to use more or fewer images for training/validation. \n",
        "# To use all images, do: image_fps_list = list(image_fps)\n",
        "image_fps_list = list(image_fps[:1000]) \n",
        "#####################################################################\n",
        "\n",
        "# split dataset into training vs. validation dataset \n",
        "# split ratio is set to 0.9 vs. 0.1 (train vs. validation, respectively)\n",
        "sorted(image_fps_list)\n",
        "random.seed(42)\n",
        "random.shuffle(image_fps_list)\n",
        "\n",
        "validation_split = 0.1\n",
        "split_index = int((1 - validation_split) * len(image_fps_list))\n",
        "\n",
        "image_fps_train = image_fps_list[:split_index]\n",
        "image_fps_val = image_fps_list[split_index:]\n",
        "\n",
        "print(len(image_fps_train), len(image_fps_val))"
      ],
      "execution_count": 19,
      "outputs": [
        {
          "output_type": "stream",
          "text": [
            "900 100\n"
          ],
          "name": "stdout"
        }
      ]
    },
    {
      "cell_type": "markdown",
      "metadata": {
        "id": "9KUvacUbgiEX",
        "colab_type": "text"
      },
      "source": [
        "### Create and prepare the training dataset using the DetectorDataset class."
      ]
    },
    {
      "cell_type": "code",
      "metadata": {
        "id": "jwMkhotP0yFf",
        "colab_type": "code",
        "colab": {}
      },
      "source": [
        "# prepare the training dataset\n",
        "dataset_train = DetectorDataset(image_fps_train, image_annotations, ORIG_SIZE, ORIG_SIZE)\n",
        "dataset_train.prepare()"
      ],
      "execution_count": 0,
      "outputs": []
    },
    {
      "cell_type": "markdown",
      "metadata": {
        "id": "wPDQ9EVDgxa6",
        "colab_type": "text"
      },
      "source": [
        "### Let's look at a sample annotation. We see a bounding box with (x, y) of the the top left corner as well as the width and height."
      ]
    },
    {
      "cell_type": "code",
      "metadata": {
        "id": "0xEc47Jz59x5",
        "colab_type": "code",
        "outputId": "62a89e64-4a57-48f3-c29f-47cf9dee2117",
        "colab": {
          "base_uri": "https://localhost:8080/",
          "height": 134
        }
      },
      "source": [
        "# Show annotation(s) for a DICOM image \n",
        "test_fp = random.choice(image_fps_train)\n",
        "image_annotations[test_fp]"
      ],
      "execution_count": 21,
      "outputs": [
        {
          "output_type": "execute_result",
          "data": {
            "text/plain": [
              "[patientId    a6148502-53a7-4916-93c1-9fa49c9a953b\n",
              " x                                             240\n",
              " y                                             436\n",
              " width                                         266\n",
              " height                                        259\n",
              " Target                                          1\n",
              " Name: 17359, dtype: object]"
            ]
          },
          "metadata": {
            "tags": []
          },
          "execution_count": 21
        }
      ]
    },
    {
      "cell_type": "code",
      "metadata": {
        "id": "K1TkWuGP0yHl",
        "colab_type": "code",
        "colab": {}
      },
      "source": [
        "# prepare the validation dataset\n",
        "dataset_val = DetectorDataset(image_fps_val, image_annotations, ORIG_SIZE, ORIG_SIZE)\n",
        "dataset_val.prepare()"
      ],
      "execution_count": 0,
      "outputs": []
    },
    {
      "cell_type": "markdown",
      "metadata": {
        "id": "pEXEt8fygWuC",
        "colab_type": "text"
      },
      "source": [
        "### Display a random image with bounding boxes"
      ]
    },
    {
      "cell_type": "markdown",
      "metadata": {
        "id": "sd5YTY3pcmjV",
        "colab_type": "text"
      },
      "source": [
        "Now here we will display a random image with bounding boxes. "
      ]
    },
    {
      "cell_type": "code",
      "metadata": {
        "id": "4xwsrf9G1lHR",
        "colab_type": "code",
        "outputId": "2ed52e39-3103-4cf3-b60c-9e2ccfe89e8c",
        "colab": {
          "base_uri": "https://localhost:8080/",
          "height": 355
        }
      },
      "source": [
        "# Load and display random samples and their bounding boxes\n",
        "# Suggestion: Run this a few times to see different examples. \n",
        "\n",
        "image_id = random.choice(dataset_train.image_ids)\n",
        "image_fp = dataset_train.image_reference(image_id)\n",
        "image = dataset_train.load_image(image_id)\n",
        "mask, class_ids = dataset_train.load_mask(image_id)\n",
        "\n",
        "print(image.shape)\n",
        "\n",
        "plt.figure(figsize=(10, 10))\n",
        "plt.subplot(1, 2, 1)\n",
        "plt.imshow(image[:, :, 0], cmap='gray')\n",
        "plt.axis('off')\n",
        "\n",
        "plt.subplot(1, 2, 2)\n",
        "masked = np.zeros(image.shape[:2])\n",
        "for i in range(mask.shape[2]):\n",
        "    masked += image[:, :, 0] * mask[:, :, i]\n",
        "plt.imshow(masked, cmap='gray')\n",
        "plt.axis('off')\n",
        "\n",
        "print(image_fp)\n",
        "print(class_ids)"
      ],
      "execution_count": 23,
      "outputs": [
        {
          "output_type": "stream",
          "text": [
            "(1024, 1024, 3)\n",
            "/content/DataminingProject/stage_2_train_images/78e64e55-99c4-4b43-8695-355ddd50bfef.dcm\n",
            "[0]\n"
          ],
          "name": "stdout"
        },
        {
          "output_type": "display_data",
          "data": {
            "image/png": "[encoded data removed]",
            "text/plain": [
              "<Figure size 720x720 with 2 Axes>"
            ]
          },
          "metadata": {
            "tags": []
          }
        }
      ]
    },
    {
      "cell_type": "code",
      "metadata": {
        "id": "geTvh0sU1lJo",
        "colab_type": "code",
        "outputId": "d8e87df4-0c2e-426c-b23c-231218fac70e",
        "colab": {
          "base_uri": "https://localhost:8080/",
          "height": 87
        }
      },
      "source": [
        "model = modellib.MaskRCNN(mode='training', config=config, model_dir=MODEL_DIR)"
      ],
      "execution_count": 24,
      "outputs": [
        {
          "output_type": "stream",
          "text": [
            "WARNING:tensorflow:From /usr/local/lib/python3.6/dist-packages/tensorflow/python/framework/op_def_library.py:263: colocate_with (from tensorflow.python.framework.ops) is deprecated and will be removed in a future version.\n",
            "Instructions for updating:\n",
            "Colocations handled automatically by placer.\n"
          ],
          "name": "stdout"
        }
      ]
    },
    {
      "cell_type": "markdown",
      "metadata": {
        "id": "_8NJlmjSAAYi",
        "colab_type": "text"
      },
      "source": [
        "Note: Warning is about the update of python, so we can ignore that."
      ]
    },
    {
      "cell_type": "markdown",
      "metadata": {
        "id": "ustAIH78hZI_",
        "colab_type": "text"
      },
      "source": [
        "### Image Augmentation. Try finetuning some variables to custom values"
      ]
    },
    {
      "cell_type": "code",
      "metadata": {
        "id": "STZnQTE61lME",
        "colab_type": "code",
        "colab": {}
      },
      "source": [
        "# Image augmentation \n",
        "augmentation = iaa.SomeOf((0, 1), [\n",
        "    iaa.Fliplr(0.5),\n",
        "    iaa.Affine(\n",
        "        scale={\"x\": (0.8, 1.2), \"y\": (0.8, 1.2)},\n",
        "        translate_percent={\"x\": (-0.2, 0.2), \"y\": (-0.2, 0.2)},\n",
        "        rotate=(-25, 25),\n",
        "        shear=(-8, 8)\n",
        "    ),\n",
        "    iaa.Multiply((0.9, 1.1))\n",
        "])"
      ],
      "execution_count": 0,
      "outputs": []
    },
    {
      "cell_type": "markdown",
      "metadata": {
        "id": "M4kt7LKuc78e",
        "colab_type": "text"
      },
      "source": [
        "### Now it's time to train the model. Note that training even a basic model can take a few hours. \n",
        "\n",
        "Note: the following model is for demonstration purpose only. We have limited the training to one epoch, and have set nominal values for the Detector Configuration to reduce run-time. \n",
        "\n",
        "- dataset_train and dataset_val are derived from DetectorDataset \n",
        "- DetectorDataset loads images from image filenames and  masks from the annotation data\n",
        "- model is Mask-RCNN"
      ]
    },
    {
      "cell_type": "markdown",
      "metadata": {
        "id": "lGqfDKOmdFKZ",
        "colab_type": "text"
      },
      "source": [
        "Now we have to select number of EPOCHS. An average time for 1 EPOCHS is around 18 minutes. \n",
        "\n",
        "As said by our Professor, we should select EPOCHS atleast 26. \n",
        "\n",
        "Therefore, we are selecting EPOCHS as 30"
      ]
    },
    {
      "cell_type": "code",
      "metadata": {
        "id": "RVgNhHjl1lOS",
        "colab_type": "code",
        "outputId": "eb1c9398-a222-4702-b977-04181bc8fcfa",
        "colab": {
          "base_uri": "https://localhost:8080/",
          "height": 3430
        }
      },
      "source": [
        "NUM_EPOCHS = 30\n",
        "\n",
        "# Train Mask-RCNN Model \n",
        "import warnings \n",
        "warnings.filterwarnings(\"ignore\")\n",
        "model.train(dataset_train, dataset_val, \n",
        "            learning_rate=config.LEARNING_RATE, \n",
        "            epochs=NUM_EPOCHS, \n",
        "            layers='all',\n",
        "            augmentation=augmentation)"
      ],
      "execution_count": 26,
      "outputs": [
        {
          "output_type": "stream",
          "text": [
            "\n",
            "Starting at epoch 0. LR=0.001\n",
            "\n",
            "Checkpoint Path: /content/DataminingProject/logs/pneumonia20190505T2156/mask_rcnn_pneumonia_{epoch:04d}.h5\n",
            "Selecting layers to train\n",
            "conv1                  (Conv2D)\n",
            "bn_conv1               (BatchNorm)\n",
            "res2a_branch2a         (Conv2D)\n",
            "bn2a_branch2a          (BatchNorm)\n",
            "res2a_branch2b         (Conv2D)\n",
            "bn2a_branch2b          (BatchNorm)\n",
            "res2a_branch2c         (Conv2D)\n",
            "res2a_branch1          (Conv2D)\n",
            "bn2a_branch2c          (BatchNorm)\n",
            "bn2a_branch1           (BatchNorm)\n",
            "res2b_branch2a         (Conv2D)\n",
            "bn2b_branch2a          (BatchNorm)\n",
            "res2b_branch2b         (Conv2D)\n",
            "bn2b_branch2b          (BatchNorm)\n",
            "res2b_branch2c         (Conv2D)\n",
            "bn2b_branch2c          (BatchNorm)\n",
            "res2c_branch2a         (Conv2D)\n",
            "bn2c_branch2a          (BatchNorm)\n",
            "res2c_branch2b         (Conv2D)\n",
            "bn2c_branch2b          (BatchNorm)\n",
            "res2c_branch2c         (Conv2D)\n",
            "bn2c_branch2c          (BatchNorm)\n",
            "res3a_branch2a         (Conv2D)\n",
            "bn3a_branch2a          (BatchNorm)\n",
            "res3a_branch2b         (Conv2D)\n",
            "bn3a_branch2b          (BatchNorm)\n",
            "res3a_branch2c         (Conv2D)\n",
            "res3a_branch1          (Conv2D)\n",
            "bn3a_branch2c          (BatchNorm)\n",
            "bn3a_branch1           (BatchNorm)\n",
            "res3b_branch2a         (Conv2D)\n",
            "bn3b_branch2a          (BatchNorm)\n",
            "res3b_branch2b         (Conv2D)\n",
            "bn3b_branch2b          (BatchNorm)\n",
            "res3b_branch2c         (Conv2D)\n",
            "bn3b_branch2c          (BatchNorm)\n",
            "res3c_branch2a         (Conv2D)\n",
            "bn3c_branch2a          (BatchNorm)\n",
            "res3c_branch2b         (Conv2D)\n",
            "bn3c_branch2b          (BatchNorm)\n",
            "res3c_branch2c         (Conv2D)\n",
            "bn3c_branch2c          (BatchNorm)\n",
            "res3d_branch2a         (Conv2D)\n",
            "bn3d_branch2a          (BatchNorm)\n",
            "res3d_branch2b         (Conv2D)\n",
            "bn3d_branch2b          (BatchNorm)\n",
            "res3d_branch2c         (Conv2D)\n",
            "bn3d_branch2c          (BatchNorm)\n",
            "res4a_branch2a         (Conv2D)\n",
            "bn4a_branch2a          (BatchNorm)\n",
            "res4a_branch2b         (Conv2D)\n",
            "bn4a_branch2b          (BatchNorm)\n",
            "res4a_branch2c         (Conv2D)\n",
            "res4a_branch1          (Conv2D)\n",
            "bn4a_branch2c          (BatchNorm)\n",
            "bn4a_branch1           (BatchNorm)\n",
            "res4b_branch2a         (Conv2D)\n",
            "bn4b_branch2a          (BatchNorm)\n",
            "res4b_branch2b         (Conv2D)\n",
            "bn4b_branch2b          (BatchNorm)\n",
            "res4b_branch2c         (Conv2D)\n",
            "bn4b_branch2c          (BatchNorm)\n",
            "res4c_branch2a         (Conv2D)\n",
            "bn4c_branch2a          (BatchNorm)\n",
            "res4c_branch2b         (Conv2D)\n",
            "bn4c_branch2b          (BatchNorm)\n",
            "res4c_branch2c         (Conv2D)\n",
            "bn4c_branch2c          (BatchNorm)\n",
            "res4d_branch2a         (Conv2D)\n",
            "bn4d_branch2a          (BatchNorm)\n",
            "res4d_branch2b         (Conv2D)\n",
            "bn4d_branch2b          (BatchNorm)\n",
            "res4d_branch2c         (Conv2D)\n",
            "bn4d_branch2c          (BatchNorm)\n",
            "res4e_branch2a         (Conv2D)\n",
            "bn4e_branch2a          (BatchNorm)\n",
            "res4e_branch2b         (Conv2D)\n",
            "bn4e_branch2b          (BatchNorm)\n",
            "res4e_branch2c         (Conv2D)\n",
            "bn4e_branch2c          (BatchNorm)\n",
            "res4f_branch2a         (Conv2D)\n",
            "bn4f_branch2a          (BatchNorm)\n",
            "res4f_branch2b         (Conv2D)\n",
            "bn4f_branch2b          (BatchNorm)\n",
            "res4f_branch2c         (Conv2D)\n",
            "bn4f_branch2c          (BatchNorm)\n",
            "res5a_branch2a         (Conv2D)\n",
            "bn5a_branch2a          (BatchNorm)\n",
            "res5a_branch2b         (Conv2D)\n",
            "bn5a_branch2b          (BatchNorm)\n",
            "res5a_branch2c         (Conv2D)\n",
            "res5a_branch1          (Conv2D)\n",
            "bn5a_branch2c          (BatchNorm)\n",
            "bn5a_branch1           (BatchNorm)\n",
            "res5b_branch2a         (Conv2D)\n",
            "bn5b_branch2a          (BatchNorm)\n",
            "res5b_branch2b         (Conv2D)\n",
            "bn5b_branch2b          (BatchNorm)\n",
            "res5b_branch2c         (Conv2D)\n",
            "bn5b_branch2c          (BatchNorm)\n",
            "res5c_branch2a         (Conv2D)\n",
            "bn5c_branch2a          (BatchNorm)\n",
            "res5c_branch2b         (Conv2D)\n",
            "bn5c_branch2b          (BatchNorm)\n",
            "res5c_branch2c         (Conv2D)\n",
            "bn5c_branch2c          (BatchNorm)\n",
            "fpn_c5p5               (Conv2D)\n",
            "fpn_c4p4               (Conv2D)\n",
            "fpn_c3p3               (Conv2D)\n",
            "fpn_c2p2               (Conv2D)\n",
            "fpn_p5                 (Conv2D)\n",
            "fpn_p2                 (Conv2D)\n",
            "fpn_p3                 (Conv2D)\n",
            "fpn_p4                 (Conv2D)\n",
            "In model:  rpn_model\n",
            "    rpn_conv_shared        (Conv2D)\n",
            "    rpn_class_raw          (Conv2D)\n",
            "    rpn_bbox_pred          (Conv2D)\n",
            "mrcnn_mask_conv1       (TimeDistributed)\n",
            "mrcnn_mask_bn1         (TimeDistributed)\n",
            "mrcnn_mask_conv2       (TimeDistributed)\n",
            "mrcnn_mask_bn2         (TimeDistributed)\n",
            "mrcnn_class_conv1      (TimeDistributed)\n",
            "mrcnn_class_bn1        (TimeDistributed)\n",
            "mrcnn_mask_conv3       (TimeDistributed)\n",
            "mrcnn_mask_bn3         (TimeDistributed)\n",
            "mrcnn_class_conv2      (TimeDistributed)\n",
            "mrcnn_class_bn2        (TimeDistributed)\n",
            "mrcnn_mask_conv4       (TimeDistributed)\n",
            "mrcnn_mask_bn4         (TimeDistributed)\n",
            "mrcnn_bbox_fc          (TimeDistributed)\n",
            "mrcnn_mask_deconv      (TimeDistributed)\n",
            "mrcnn_class_logits     (TimeDistributed)\n",
            "mrcnn_mask             (TimeDistributed)\n",
            "WARNING:tensorflow:From /usr/local/lib/python3.6/dist-packages/tensorflow/python/ops/math_ops.py:3066: to_int32 (from tensorflow.python.ops.math_ops) is deprecated and will be removed in a future version.\n",
            "Instructions for updating:\n",
            "Use tf.cast instead.\n",
            "Epoch 1/30\n",
            "100/100 [==============================] - 352s 4s/step - loss: 3.6072 - rpn_class_loss: 0.6312 - rpn_bbox_loss: 1.4240 - mrcnn_class_loss: 0.2565 - mrcnn_bbox_loss: 0.6831 - mrcnn_mask_loss: 0.6124 - val_loss: 2.9298 - val_rpn_class_loss: 0.5070 - val_rpn_bbox_loss: 1.0576 - val_mrcnn_class_loss: 0.2277 - val_mrcnn_bbox_loss: 0.5735 - val_mrcnn_mask_loss: 0.5640\n",
            "Epoch 2/30\n",
            "100/100 [==============================] - 48s 477ms/step - loss: 2.8461 - rpn_class_loss: 0.3895 - rpn_bbox_loss: 1.0429 - mrcnn_class_loss: 0.2514 - mrcnn_bbox_loss: 0.5866 - mrcnn_mask_loss: 0.5757 - val_loss: 2.7492 - val_rpn_class_loss: 0.4167 - val_rpn_bbox_loss: 0.9381 - val_mrcnn_class_loss: 0.2630 - val_mrcnn_bbox_loss: 0.5609 - val_mrcnn_mask_loss: 0.5705\n",
            "Epoch 3/30\n",
            "100/100 [==============================] - 247s 2s/step - loss: 2.6706 - rpn_class_loss: 0.3494 - rpn_bbox_loss: 0.9504 - mrcnn_class_loss: 0.2502 - mrcnn_bbox_loss: 0.5603 - mrcnn_mask_loss: 0.5602 - val_loss: 2.6009 - val_rpn_class_loss: 0.4172 - val_rpn_bbox_loss: 0.8580 - val_mrcnn_class_loss: 0.2752 - val_mrcnn_bbox_loss: 0.5045 - val_mrcnn_mask_loss: 0.5460\n",
            "Epoch 4/30\n",
            "100/100 [==============================] - 245s 2s/step - loss: 2.5262 - rpn_class_loss: 0.3195 - rpn_bbox_loss: 0.9047 - mrcnn_class_loss: 0.2400 - mrcnn_bbox_loss: 0.5259 - mrcnn_mask_loss: 0.5361 - val_loss: 2.4523 - val_rpn_class_loss: 0.3395 - val_rpn_bbox_loss: 0.8052 - val_mrcnn_class_loss: 0.2563 - val_mrcnn_bbox_loss: 0.5405 - val_mrcnn_mask_loss: 0.5107\n",
            "Epoch 5/30\n",
            "100/100 [==============================] - 240s 2s/step - loss: 2.3318 - rpn_class_loss: 0.2849 - rpn_bbox_loss: 0.8082 - mrcnn_class_loss: 0.2385 - mrcnn_bbox_loss: 0.4870 - mrcnn_mask_loss: 0.5131 - val_loss: 2.5266 - val_rpn_class_loss: 0.3409 - val_rpn_bbox_loss: 0.8669 - val_mrcnn_class_loss: 0.2282 - val_mrcnn_bbox_loss: 0.5746 - val_mrcnn_mask_loss: 0.5161\n",
            "Epoch 6/30\n",
            "100/100 [==============================] - 250s 2s/step - loss: 2.2853 - rpn_class_loss: 0.2747 - rpn_bbox_loss: 0.7936 - mrcnn_class_loss: 0.2354 - mrcnn_bbox_loss: 0.4826 - mrcnn_mask_loss: 0.4990 - val_loss: 2.4247 - val_rpn_class_loss: 0.3192 - val_rpn_bbox_loss: 0.8345 - val_mrcnn_class_loss: 0.2524 - val_mrcnn_bbox_loss: 0.5173 - val_mrcnn_mask_loss: 0.5013\n",
            "Epoch 7/30\n",
            "100/100 [==============================] - 241s 2s/step - loss: 2.2137 - rpn_class_loss: 0.2682 - rpn_bbox_loss: 0.7749 - mrcnn_class_loss: 0.2295 - mrcnn_bbox_loss: 0.4521 - mrcnn_mask_loss: 0.4889 - val_loss: 2.4563 - val_rpn_class_loss: 0.3097 - val_rpn_bbox_loss: 0.8220 - val_mrcnn_class_loss: 0.2725 - val_mrcnn_bbox_loss: 0.5570 - val_mrcnn_mask_loss: 0.4951\n",
            "Epoch 8/30\n",
            "100/100 [==============================] - 245s 2s/step - loss: 2.1659 - rpn_class_loss: 0.2572 - rpn_bbox_loss: 0.7455 - mrcnn_class_loss: 0.2327 - mrcnn_bbox_loss: 0.4515 - mrcnn_mask_loss: 0.4789 - val_loss: 2.3846 - val_rpn_class_loss: 0.3392 - val_rpn_bbox_loss: 0.8328 - val_mrcnn_class_loss: 0.2203 - val_mrcnn_bbox_loss: 0.5225 - val_mrcnn_mask_loss: 0.4697\n",
            "Epoch 9/30\n",
            "100/100 [==============================] - 244s 2s/step - loss: 2.0852 - rpn_class_loss: 0.2540 - rpn_bbox_loss: 0.7347 - mrcnn_class_loss: 0.2063 - mrcnn_bbox_loss: 0.4216 - mrcnn_mask_loss: 0.4686 - val_loss: 2.3314 - val_rpn_class_loss: 0.2956 - val_rpn_bbox_loss: 0.7951 - val_mrcnn_class_loss: 0.2634 - val_mrcnn_bbox_loss: 0.4949 - val_mrcnn_mask_loss: 0.4823\n",
            "Epoch 10/30\n",
            "100/100 [==============================] - 245s 2s/step - loss: 2.0439 - rpn_class_loss: 0.2438 - rpn_bbox_loss: 0.7054 - mrcnn_class_loss: 0.2143 - mrcnn_bbox_loss: 0.4161 - mrcnn_mask_loss: 0.4643 - val_loss: 2.2965 - val_rpn_class_loss: 0.2771 - val_rpn_bbox_loss: 0.7796 - val_mrcnn_class_loss: 0.2432 - val_mrcnn_bbox_loss: 0.5086 - val_mrcnn_mask_loss: 0.4879\n",
            "Epoch 11/30\n",
            "100/100 [==============================] - 246s 2s/step - loss: 2.0283 - rpn_class_loss: 0.2386 - rpn_bbox_loss: 0.7025 - mrcnn_class_loss: 0.2117 - mrcnn_bbox_loss: 0.4141 - mrcnn_mask_loss: 0.4613 - val_loss: 2.3711 - val_rpn_class_loss: 0.3161 - val_rpn_bbox_loss: 0.8200 - val_mrcnn_class_loss: 0.2370 - val_mrcnn_bbox_loss: 0.5183 - val_mrcnn_mask_loss: 0.4795\n",
            "Epoch 12/30\n",
            "100/100 [==============================] - 247s 2s/step - loss: 1.9905 - rpn_class_loss: 0.2378 - rpn_bbox_loss: 0.6686 - mrcnn_class_loss: 0.2112 - mrcnn_bbox_loss: 0.4142 - mrcnn_mask_loss: 0.4588 - val_loss: 2.4302 - val_rpn_class_loss: 0.2957 - val_rpn_bbox_loss: 0.8507 - val_mrcnn_class_loss: 0.2573 - val_mrcnn_bbox_loss: 0.5674 - val_mrcnn_mask_loss: 0.4591\n",
            "Epoch 13/30\n",
            "100/100 [==============================] - 242s 2s/step - loss: 2.0281 - rpn_class_loss: 0.2484 - rpn_bbox_loss: 0.6864 - mrcnn_class_loss: 0.2173 - mrcnn_bbox_loss: 0.4219 - mrcnn_mask_loss: 0.4540 - val_loss: 2.4438 - val_rpn_class_loss: 0.3187 - val_rpn_bbox_loss: 0.8069 - val_mrcnn_class_loss: 0.2677 - val_mrcnn_bbox_loss: 0.5652 - val_mrcnn_mask_loss: 0.4852\n",
            "Epoch 14/30\n",
            "100/100 [==============================] - 240s 2s/step - loss: 1.9844 - rpn_class_loss: 0.2219 - rpn_bbox_loss: 0.7092 - mrcnn_class_loss: 0.2059 - mrcnn_bbox_loss: 0.3992 - mrcnn_mask_loss: 0.4481 - val_loss: 2.3071 - val_rpn_class_loss: 0.2696 - val_rpn_bbox_loss: 0.7911 - val_mrcnn_class_loss: 0.2353 - val_mrcnn_bbox_loss: 0.5476 - val_mrcnn_mask_loss: 0.4636\n",
            "Epoch 15/30\n",
            "100/100 [==============================] - 243s 2s/step - loss: 1.8868 - rpn_class_loss: 0.2288 - rpn_bbox_loss: 0.6468 - mrcnn_class_loss: 0.1986 - mrcnn_bbox_loss: 0.3746 - mrcnn_mask_loss: 0.4380 - val_loss: 2.3961 - val_rpn_class_loss: 0.3476 - val_rpn_bbox_loss: 0.8325 - val_mrcnn_class_loss: 0.2499 - val_mrcnn_bbox_loss: 0.4664 - val_mrcnn_mask_loss: 0.4997\n",
            "Epoch 16/30\n",
            "100/100 [==============================] - 246s 2s/step - loss: 1.9035 - rpn_class_loss: 0.2161 - rpn_bbox_loss: 0.6821 - mrcnn_class_loss: 0.1852 - mrcnn_bbox_loss: 0.3758 - mrcnn_mask_loss: 0.4443 - val_loss: 2.2910 - val_rpn_class_loss: 0.3037 - val_rpn_bbox_loss: 0.7877 - val_mrcnn_class_loss: 0.2457 - val_mrcnn_bbox_loss: 0.5034 - val_mrcnn_mask_loss: 0.4506\n",
            "Epoch 17/30\n",
            "100/100 [==============================] - 239s 2s/step - loss: 1.9226 - rpn_class_loss: 0.2391 - rpn_bbox_loss: 0.6549 - mrcnn_class_loss: 0.2076 - mrcnn_bbox_loss: 0.3789 - mrcnn_mask_loss: 0.4421 - val_loss: 2.4839 - val_rpn_class_loss: 0.3702 - val_rpn_bbox_loss: 0.8862 - val_mrcnn_class_loss: 0.2402 - val_mrcnn_bbox_loss: 0.4883 - val_mrcnn_mask_loss: 0.4990\n",
            "Epoch 18/30\n",
            "100/100 [==============================] - 247s 2s/step - loss: 1.8137 - rpn_class_loss: 0.2147 - rpn_bbox_loss: 0.6231 - mrcnn_class_loss: 0.1871 - mrcnn_bbox_loss: 0.3580 - mrcnn_mask_loss: 0.4308 - val_loss: 2.4554 - val_rpn_class_loss: 0.3590 - val_rpn_bbox_loss: 0.8146 - val_mrcnn_class_loss: 0.2434 - val_mrcnn_bbox_loss: 0.5430 - val_mrcnn_mask_loss: 0.4955\n",
            "Epoch 19/30\n",
            "100/100 [==============================] - 244s 2s/step - loss: 1.7097 - rpn_class_loss: 0.1986 - rpn_bbox_loss: 0.5881 - mrcnn_class_loss: 0.1760 - mrcnn_bbox_loss: 0.3256 - mrcnn_mask_loss: 0.4213 - val_loss: 2.4628 - val_rpn_class_loss: 0.3766 - val_rpn_bbox_loss: 0.8164 - val_mrcnn_class_loss: 0.2693 - val_mrcnn_bbox_loss: 0.5430 - val_mrcnn_mask_loss: 0.4575\n",
            "Epoch 20/30\n",
            "100/100 [==============================] - 244s 2s/step - loss: 1.6219 - rpn_class_loss: 0.1900 - rpn_bbox_loss: 0.5459 - mrcnn_class_loss: 0.1718 - mrcnn_bbox_loss: 0.2946 - mrcnn_mask_loss: 0.4196 - val_loss: 2.4510 - val_rpn_class_loss: 0.2839 - val_rpn_bbox_loss: 0.8517 - val_mrcnn_class_loss: 0.2985 - val_mrcnn_bbox_loss: 0.5452 - val_mrcnn_mask_loss: 0.4716\n",
            "Epoch 21/30\n",
            "100/100 [==============================] - 244s 2s/step - loss: 1.6165 - rpn_class_loss: 0.2012 - rpn_bbox_loss: 0.5304 - mrcnn_class_loss: 0.1780 - mrcnn_bbox_loss: 0.2847 - mrcnn_mask_loss: 0.4223 - val_loss: 2.3711 - val_rpn_class_loss: 0.3337 - val_rpn_bbox_loss: 0.7967 - val_mrcnn_class_loss: 0.2710 - val_mrcnn_bbox_loss: 0.5121 - val_mrcnn_mask_loss: 0.4575\n",
            "Epoch 22/30\n",
            "100/100 [==============================] - 243s 2s/step - loss: 1.5716 - rpn_class_loss: 0.1878 - rpn_bbox_loss: 0.5199 - mrcnn_class_loss: 0.1728 - mrcnn_bbox_loss: 0.2824 - mrcnn_mask_loss: 0.4087 - val_loss: 2.4533 - val_rpn_class_loss: 0.3315 - val_rpn_bbox_loss: 0.8412 - val_mrcnn_class_loss: 0.2681 - val_mrcnn_bbox_loss: 0.5364 - val_mrcnn_mask_loss: 0.4761\n",
            "Epoch 23/30\n",
            "100/100 [==============================] - 243s 2s/step - loss: 1.5665 - rpn_class_loss: 0.1803 - rpn_bbox_loss: 0.5294 - mrcnn_class_loss: 0.1612 - mrcnn_bbox_loss: 0.2809 - mrcnn_mask_loss: 0.4148 - val_loss: 2.4123 - val_rpn_class_loss: 0.3508 - val_rpn_bbox_loss: 0.8344 - val_mrcnn_class_loss: 0.3087 - val_mrcnn_bbox_loss: 0.4567 - val_mrcnn_mask_loss: 0.4617\n",
            "Epoch 24/30\n",
            "100/100 [==============================] - 242s 2s/step - loss: 1.5250 - rpn_class_loss: 0.1888 - rpn_bbox_loss: 0.5044 - mrcnn_class_loss: 0.1618 - mrcnn_bbox_loss: 0.2644 - mrcnn_mask_loss: 0.4056 - val_loss: 2.5576 - val_rpn_class_loss: 0.4028 - val_rpn_bbox_loss: 0.8524 - val_mrcnn_class_loss: 0.3052 - val_mrcnn_bbox_loss: 0.5309 - val_mrcnn_mask_loss: 0.4662\n",
            "Epoch 25/30\n",
            "100/100 [==============================] - 246s 2s/step - loss: 1.4567 - rpn_class_loss: 0.1773 - rpn_bbox_loss: 0.4671 - mrcnn_class_loss: 0.1518 - mrcnn_bbox_loss: 0.2602 - mrcnn_mask_loss: 0.4003 - val_loss: 2.5148 - val_rpn_class_loss: 0.3607 - val_rpn_bbox_loss: 0.8335 - val_mrcnn_class_loss: 0.3098 - val_mrcnn_bbox_loss: 0.5415 - val_mrcnn_mask_loss: 0.4692\n",
            "Epoch 26/30\n",
            "100/100 [==============================] - 240s 2s/step - loss: 1.4517 - rpn_class_loss: 0.1786 - rpn_bbox_loss: 0.4826 - mrcnn_class_loss: 0.1557 - mrcnn_bbox_loss: 0.2355 - mrcnn_mask_loss: 0.3992 - val_loss: 2.4073 - val_rpn_class_loss: 0.3407 - val_rpn_bbox_loss: 0.7874 - val_mrcnn_class_loss: 0.2578 - val_mrcnn_bbox_loss: 0.5443 - val_mrcnn_mask_loss: 0.4770\n",
            "Epoch 27/30\n",
            "100/100 [==============================] - 235s 2s/step - loss: 1.4462 - rpn_class_loss: 0.1658 - rpn_bbox_loss: 0.4579 - mrcnn_class_loss: 0.1702 - mrcnn_bbox_loss: 0.2528 - mrcnn_mask_loss: 0.3994 - val_loss: 2.4465 - val_rpn_class_loss: 0.3176 - val_rpn_bbox_loss: 0.7919 - val_mrcnn_class_loss: 0.2692 - val_mrcnn_bbox_loss: 0.5912 - val_mrcnn_mask_loss: 0.4766\n",
            "Epoch 28/30\n",
            "100/100 [==============================] - 235s 2s/step - loss: 1.4088 - rpn_class_loss: 0.1718 - rpn_bbox_loss: 0.4585 - mrcnn_class_loss: 0.1532 - mrcnn_bbox_loss: 0.2350 - mrcnn_mask_loss: 0.3904 - val_loss: 2.4585 - val_rpn_class_loss: 0.3523 - val_rpn_bbox_loss: 0.8019 - val_mrcnn_class_loss: 0.2737 - val_mrcnn_bbox_loss: 0.5558 - val_mrcnn_mask_loss: 0.4747\n",
            "Epoch 29/30\n",
            "100/100 [==============================] - 237s 2s/step - loss: 1.4241 - rpn_class_loss: 0.1863 - rpn_bbox_loss: 0.4515 - mrcnn_class_loss: 0.1560 - mrcnn_bbox_loss: 0.2372 - mrcnn_mask_loss: 0.3930 - val_loss: 2.4797 - val_rpn_class_loss: 0.3033 - val_rpn_bbox_loss: 0.8295 - val_mrcnn_class_loss: 0.2748 - val_mrcnn_bbox_loss: 0.5892 - val_mrcnn_mask_loss: 0.4829\n",
            "Epoch 30/30\n",
            "100/100 [==============================] - 238s 2s/step - loss: 1.3093 - rpn_class_loss: 0.1573 - rpn_bbox_loss: 0.4220 - mrcnn_class_loss: 0.1440 - mrcnn_bbox_loss: 0.2081 - mrcnn_mask_loss: 0.3779 - val_loss: 2.6294 - val_rpn_class_loss: 0.3866 - val_rpn_bbox_loss: 0.8815 - val_mrcnn_class_loss: 0.2640 - val_mrcnn_bbox_loss: 0.6004 - val_mrcnn_mask_loss: 0.4968\n"
          ],
          "name": "stdout"
        }
      ]
    },
    {
      "cell_type": "markdown",
      "metadata": {
        "id": "4MNhLzSChK5l",
        "colab_type": "text"
      },
      "source": [
        "**Now we will select trained model.**"
      ]
    },
    {
      "cell_type": "code",
      "metadata": {
        "id": "eraRlzgPmmIZ",
        "colab_type": "code",
        "outputId": "44bad896-a851-40cb-89da-20f11d45ac11",
        "colab": {
          "base_uri": "https://localhost:8080/",
          "height": 34
        }
      },
      "source": [
        "# select trained model \n",
        "dir_names = next(os.walk(model.model_dir))[1]\n",
        "key = config.NAME.lower()\n",
        "dir_names = filter(lambda f: f.startswith(key), dir_names)\n",
        "dir_names = sorted(dir_names)\n",
        "\n",
        "if not dir_names:\n",
        "    import errno\n",
        "    raise FileNotFoundError(\n",
        "        errno.ENOENT,\n",
        "        \"Could not find model directory under {}\".format(self.model_dir))\n",
        "    \n",
        "fps = []\n",
        "# Pick last directory\n",
        "for d in dir_names: \n",
        "    dir_name = os.path.join(model.model_dir, d)\n",
        "    # Find the last checkpoint\n",
        "    checkpoints = next(os.walk(dir_name))[2]\n",
        "    checkpoints = filter(lambda f: f.startswith(\"mask_rcnn\"), checkpoints)\n",
        "    checkpoints = sorted(checkpoints)\n",
        "    if not checkpoints:\n",
        "        print('No weight files in {}'.format(dir_name))\n",
        "    else: \n",
        "      \n",
        "      checkpoint = os.path.join(dir_name, checkpoints[-1])\n",
        "      fps.append(checkpoint)\n",
        "\n",
        "model_path = sorted(fps)[-1]\n",
        "print('Found model {}'.format(model_path))"
      ],
      "execution_count": 27,
      "outputs": [
        {
          "output_type": "stream",
          "text": [
            "Found model /content/DataminingProject/logs/pneumonia20190505T2156/mask_rcnn_pneumonia_0030.h5\n"
          ],
          "name": "stdout"
        }
      ]
    },
    {
      "cell_type": "code",
      "metadata": {
        "id": "TgpT9AzC2Bgz",
        "colab_type": "code",
        "outputId": "bffe6f33-6fa6-4116-82c9-d9f09d57c68e",
        "colab": {
          "base_uri": "https://localhost:8080/",
          "height": 121
        }
      },
      "source": [
        "class InferenceConfig(DetectorConfig):\n",
        "    GPU_COUNT = 1\n",
        "    IMAGES_PER_GPU = 1\n",
        "\n",
        "inference_config = InferenceConfig()\n",
        "\n",
        "# Recreate the model in inference mode\n",
        "model = modellib.MaskRCNN(mode='inference', \n",
        "                          config=inference_config,\n",
        "                          model_dir=MODEL_DIR)\n",
        "\n",
        "# Load trained weights (fill in path to trained weights here)\n",
        "assert model_path != \"\", \"Provide path to trained weights\"\n",
        "print(\"Loading weights from \", model_path)\n",
        "model.load_weights(model_path, by_name=True)"
      ],
      "execution_count": 28,
      "outputs": [
        {
          "output_type": "stream",
          "text": [
            "WARNING:tensorflow:From /content/DataminingProject/Mask_RCNN/mrcnn/model.py:772: to_float (from tensorflow.python.ops.math_ops) is deprecated and will be removed in a future version.\n",
            "Instructions for updating:\n",
            "Use tf.cast instead.\n",
            "Loading weights from  /content/DataminingProject/logs/pneumonia20190505T2156/mask_rcnn_pneumonia_0030.h5\n",
            "Re-starting from epoch 30\n"
          ],
          "name": "stdout"
        }
      ]
    },
    {
      "cell_type": "markdown",
      "metadata": {
        "id": "qgoL1WkzywMW",
        "colab_type": "text"
      },
      "source": [
        "Now we will set the color for the class"
      ]
    },
    {
      "cell_type": "code",
      "metadata": {
        "id": "9mTBig7D2BjU",
        "colab_type": "code",
        "colab": {}
      },
      "source": [
        "# set color for class\n",
        "def get_colors_for_class_ids(class_ids):\n",
        "    colors = []\n",
        "    for class_id in class_ids:\n",
        "        if class_id == 1:\n",
        "            colors.append((.941, .204, .204))\n",
        "    return colors"
      ],
      "execution_count": 0,
      "outputs": []
    },
    {
      "cell_type": "markdown",
      "metadata": {
        "id": "A8EiL2LOiCr_",
        "colab_type": "text"
      },
      "source": [
        "### How does the predicted box compared to the expected value? Let's use the validation dataset to check. \n",
        "\n",
        "Note that we trained 27 epoch for demonstration purposes."
      ]
    },
    {
      "cell_type": "code",
      "metadata": {
        "id": "irheTbrW2Bl0",
        "colab_type": "code",
        "outputId": "d3f7587e-2b9f-48b0-ef43-cd7c7a38e19f",
        "colab": {
          "base_uri": "https://localhost:8080/",
          "height": 1326
        }
      },
      "source": [
        "# Show few example of ground truth vs. predictions on the validation dataset \n",
        "dataset = dataset_val\n",
        "fig = plt.figure(figsize=(10, 30))\n",
        "\n",
        "for i in range(4):\n",
        "\n",
        "    image_id = random.choice(dataset.image_ids)\n",
        "    \n",
        "    original_image, image_meta, gt_class_id, gt_bbox, gt_mask =\\\n",
        "        modellib.load_image_gt(dataset_val, inference_config, \n",
        "                               image_id, use_mini_mask=False)\n",
        "        \n",
        "    plt.subplot(6, 2, 2*i + 1)\n",
        "    visualize.display_instances(original_image, gt_bbox, gt_mask, gt_class_id, \n",
        "                                dataset.class_names,\n",
        "                                colors=get_colors_for_class_ids(gt_class_id), ax=fig.axes[-1])\n",
        "    \n",
        "    plt.subplot(6, 2, 2*i + 2)\n",
        "    results = model.detect([original_image]) #, verbose=1)\n",
        "    r = results[0]\n",
        "    visualize.display_instances(original_image, r['rois'], r['masks'], r['class_ids'], \n",
        "                                dataset.class_names, r['scores'], \n",
        "                                colors=get_colors_for_class_ids(r['class_ids']), ax=fig.axes[-1])"
      ],
      "execution_count": 30,
      "outputs": [
        {
          "output_type": "stream",
          "text": [
            "\n",
            "*** No instances to display *** \n",
            "\n",
            "\n",
            "*** No instances to display *** \n",
            "\n",
            "\n",
            "*** No instances to display *** \n",
            "\n",
            "\n",
            "*** No instances to display *** \n",
            "\n"
          ],
          "name": "stdout"
        },
        {
          "output_type": "display_data",
          "data": {
            "image/png": "[encoded data removed]",
            "text/plain": [
              "<Figure size 720x2160 with 8 Axes>"
            ]
          },
          "metadata": {
            "tags": []
          }
        }
      ]
    },
    {
      "cell_type": "code",
      "metadata": {
        "id": "qRWBVJKYNdWM",
        "colab_type": "code",
        "colab": {}
      },
      "source": [
        "# Get filenames of test dataset DICOM images\n",
        "test_image_fps = get_dicom_fps(test_dicom_dir)"
      ],
      "execution_count": 0,
      "outputs": []
    },
    {
      "cell_type": "markdown",
      "metadata": {
        "id": "WcV1cL_aiSc4",
        "colab_type": "text"
      },
      "source": [
        "### Final steps - Create the submission file"
      ]
    },
    {
      "cell_type": "markdown",
      "metadata": {
        "id": "r-rRaUTQcv_v",
        "colab_type": "text"
      },
      "source": [
        "Now we will create the submission file as sample_submission.csv."
      ]
    },
    {
      "cell_type": "code",
      "metadata": {
        "id": "C6UWVrbM2Bob",
        "colab_type": "code",
        "colab": {}
      },
      "source": [
        "# Make predictions on test images, write out sample submission \n",
        "def predict(image_fps, filepath='sample_submission.csv', min_conf=0.98): \n",
        "    \n",
        "    # assume square image\n",
        "    \n",
        "    with open(filepath, 'w') as file:\n",
        "      for image_id in tqdm(image_fps): \n",
        "        ds = pydicom.read_file(image_id)\n",
        "        image = ds.pixel_array\n",
        "          \n",
        "        # If grayscale. Convert to RGB for consistency.\n",
        "        if len(image.shape) != 3 or image.shape[2] != 3:\n",
        "            image = np.stack((image,) * 3, -1) \n",
        "            \n",
        "        patient_id = os.path.splitext(os.path.basename(image_id))[0]\n",
        "\n",
        "        results = model.detect([image])\n",
        "        r = results[0]\n",
        "\n",
        "        out_str = \"\"\n",
        "        out_str += patient_id \n",
        "        assert( len(r['rois']) == len(r['class_ids']) == len(r['scores']) )\n",
        "        if len(r['rois']) == 0: \n",
        "            pass\n",
        "        else: \n",
        "            num_instances = len(r['rois'])\n",
        "            out_str += \",\"\n",
        "            for i in range(num_instances): \n",
        "                if r['scores'][i] > min_conf: \n",
        "                    out_str += ' '\n",
        "                    out_str += str(round(r['scores'][i], 2))\n",
        "                    out_str += ' '\n",
        "\n",
        "                    # x1, y1, width, height \n",
        "                    x1 = r['rois'][i][1]\n",
        "                    y1 = r['rois'][i][0]\n",
        "                    width = r['rois'][i][3] - x1 \n",
        "                    height = r['rois'][i][2] - y1 \n",
        "                    bboxes_str = \"{} {} {} {}\".format(x1, y1, \\\n",
        "                                                      width, height)    \n",
        "                    out_str += bboxes_str\n",
        "\n",
        "        file.write(out_str+\"\\n\")"
      ],
      "execution_count": 0,
      "outputs": []
    },
    {
      "cell_type": "markdown",
      "metadata": {
        "id": "t3sJEXZTo1f1",
        "colab_type": "text"
      },
      "source": [
        "Now we will make the final submition in the **sample_submission.csv** file, which will be located in the **content/DataminingProject/Mask_RCNN**"
      ]
    },
    {
      "cell_type": "markdown",
      "metadata": {
        "id": "zM_KYpME8ePT",
        "colab_type": "text"
      },
      "source": [
        "This will take few minutes."
      ]
    },
    {
      "cell_type": "code",
      "metadata": {
        "id": "C5cBpNka2Bsv",
        "colab_type": "code",
        "outputId": "3063b729-a39c-47c5-9f3f-7c37b57fe7d2",
        "colab": {
          "base_uri": "https://localhost:8080/",
          "height": 34
        }
      },
      "source": [
        "# predict only the first 50 entries\n",
        "sample_submission_fp = 'sample_submission.csv'\n",
        "predict(test_image_fps, filepath=sample_submission_fp)"
      ],
      "execution_count": 33,
      "outputs": [
        {
          "output_type": "stream",
          "text": [
            "100%|██████████| 3000/3000 [04:30<00:00, 11.39it/s]\n"
          ],
          "name": "stderr"
        }
      ]
    },
    {
      "cell_type": "markdown",
      "metadata": {
        "id": "IdpvBdnUhexN",
        "colab_type": "text"
      },
      "source": [
        "**Now we will display the first fifty output as a table. We can select more if you want more in out.head(number)**"
      ]
    },
    {
      "cell_type": "code",
      "metadata": {
        "id": "_BjPE_Ee9rbA",
        "colab_type": "code",
        "outputId": "d7982ceb-9543-4183-d574-8051f4e8a56d",
        "colab": {
          "base_uri": "https://localhost:8080/",
          "height": 1527
        }
      },
      "source": [
        "output = pd.read_csv(sample_submission_fp, names=['id', 'pred_string'])\n",
        "output.head(50)"
      ],
      "execution_count": 34,
      "outputs": [
        {
          "output_type": "execute_result",
          "data": {
            "text/html": [
              "<div>\n",
              "<style scoped>\n",
              "    .dataframe tbody tr th:only-of-type {\n",
              "        vertical-align: middle;\n",
              "    }\n",
              "\n",
              "    .dataframe tbody tr th {\n",
              "        vertical-align: top;\n",
              "    }\n",
              "\n",
              "    .dataframe thead th {\n",
              "        text-align: right;\n",
              "    }\n",
              "</style>\n",
              "<table border=\"1\" class=\"dataframe\">\n",
              "  <thead>\n",
              "    <tr style=\"text-align: right;\">\n",
              "      <th></th>\n",
              "      <th>id</th>\n",
              "      <th>pred_string</th>\n",
              "    </tr>\n",
              "  </thead>\n",
              "  <tbody>\n",
              "    <tr>\n",
              "      <th>0</th>\n",
              "      <td>03e146ff-fd62-4188-9ffa-c61b8f89ac8d</td>\n",
              "      <td>NaN</td>\n",
              "    </tr>\n",
              "    <tr>\n",
              "      <th>1</th>\n",
              "      <td>1bae5ce0-3a82-4c56-9c6b-c9d601fb8308</td>\n",
              "      <td>NaN</td>\n",
              "    </tr>\n",
              "    <tr>\n",
              "      <th>2</th>\n",
              "      <td>20b0afdd-c8ac-4049-b07f-22b5af366bf6</td>\n",
              "      <td>0.99 254 499 174 335 0.99 671 341 209 512</td>\n",
              "    </tr>\n",
              "    <tr>\n",
              "      <th>3</th>\n",
              "      <td>19c61430-be79-4a2b-a888-23f7ef47e5f2</td>\n",
              "      <td>NaN</td>\n",
              "    </tr>\n",
              "    <tr>\n",
              "      <th>4</th>\n",
              "      <td>2b2d704b-cb66-4bcc-afb0-4eff225d620d</td>\n",
              "      <td>0.99 177 205 210 433</td>\n",
              "    </tr>\n",
              "    <tr>\n",
              "      <th>5</th>\n",
              "      <td>2f27d72f-4e93-482c-b52e-d15db6e66d9a</td>\n",
              "      <td>1.0 646 244 198 408 1.0 176 423 191 195</td>\n",
              "    </tr>\n",
              "    <tr>\n",
              "      <th>6</th>\n",
              "      <td>1fe3ad5f-28d1-4d32-a67d-e9ba8188cde7</td>\n",
              "      <td>NaN</td>\n",
              "    </tr>\n",
              "    <tr>\n",
              "      <th>7</th>\n",
              "      <td>30e28d63-56f1-46c9-8cd5-42f821342cf1</td>\n",
              "      <td>NaN</td>\n",
              "    </tr>\n",
              "    <tr>\n",
              "      <th>8</th>\n",
              "      <td>105b67eb-bf68-4312-b594-cac7d97eed16</td>\n",
              "      <td>NaN</td>\n",
              "    </tr>\n",
              "    <tr>\n",
              "      <th>9</th>\n",
              "      <td>1ff10836-3179-4bdb-9c7c-b24acbb4051c</td>\n",
              "      <td>NaN</td>\n",
              "    </tr>\n",
              "    <tr>\n",
              "      <th>10</th>\n",
              "      <td>2efdecc5-1b2a-48cf-8cf7-1f736bbbfd75</td>\n",
              "      <td>NaN</td>\n",
              "    </tr>\n",
              "    <tr>\n",
              "      <th>11</th>\n",
              "      <td>309c1bc5-eec3-478d-9dd5-e5fbc34c057d</td>\n",
              "      <td>NaN</td>\n",
              "    </tr>\n",
              "    <tr>\n",
              "      <th>12</th>\n",
              "      <td>11a04d2d-4f12-4876-abd3-baff3797e66e</td>\n",
              "      <td>NaN</td>\n",
              "    </tr>\n",
              "    <tr>\n",
              "      <th>13</th>\n",
              "      <td>1edccb0a-5f4f-4f6e-8ec3-8e8090f8449e</td>\n",
              "      <td>0.99 162 219 240 354</td>\n",
              "    </tr>\n",
              "    <tr>\n",
              "      <th>14</th>\n",
              "      <td>23262e9c-3767-4beb-8e3d-0d1d50df6d8f</td>\n",
              "      <td>NaN</td>\n",
              "    </tr>\n",
              "    <tr>\n",
              "      <th>15</th>\n",
              "      <td>0f29db26-5ee0-4f6b-a03e-0da08fdb0a3e</td>\n",
              "      <td>0.98 151 463 222 298</td>\n",
              "    </tr>\n",
              "    <tr>\n",
              "      <th>16</th>\n",
              "      <td>2db9ca27-e965-4bcb-bbbd-708eb66625a6</td>\n",
              "      <td>NaN</td>\n",
              "    </tr>\n",
              "    <tr>\n",
              "      <th>17</th>\n",
              "      <td>19c30ace-ee4a-4fb1-a067-a8548428996f</td>\n",
              "      <td>NaN</td>\n",
              "    </tr>\n",
              "    <tr>\n",
              "      <th>18</th>\n",
              "      <td>c09ebc4a-9c22-4a8a-b584-0f90d3fe92f2</td>\n",
              "      <td>0.98 273 403 147 340</td>\n",
              "    </tr>\n",
              "    <tr>\n",
              "      <th>19</th>\n",
              "      <td>2a91d7cf-831f-4691-b25d-23b6fad483ea</td>\n",
              "      <td>NaN</td>\n",
              "    </tr>\n",
              "    <tr>\n",
              "      <th>20</th>\n",
              "      <td>2f279550-0173-4db1-a57b-c1af4ce6060a</td>\n",
              "      <td>0.99 610 461 197 241</td>\n",
              "    </tr>\n",
              "    <tr>\n",
              "      <th>21</th>\n",
              "      <td>230422fe-3a39-4bdd-ac65-70572f14451c</td>\n",
              "      <td>0.98 638 553 174 243</td>\n",
              "    </tr>\n",
              "    <tr>\n",
              "      <th>22</th>\n",
              "      <td>30956603-11a9-49cb-a5e6-8b8ad18b9b13</td>\n",
              "      <td>0.98 660 338 145 379</td>\n",
              "    </tr>\n",
              "    <tr>\n",
              "      <th>23</th>\n",
              "      <td>0f1f2c60-536e-4e50-b9f4-b90cc8c4cc2b</td>\n",
              "      <td>0.99 648 466 205 273</td>\n",
              "    </tr>\n",
              "    <tr>\n",
              "      <th>24</th>\n",
              "      <td>1b66ef47-b795-418f-bc18-1339bc980b8b</td>\n",
              "      <td>1.0 626 371 198 415 0.99 252 588 161 179</td>\n",
              "    </tr>\n",
              "    <tr>\n",
              "      <th>25</th>\n",
              "      <td>04170f9f-5d56-4ef7-9960-0afe2b50f778</td>\n",
              "      <td>0.99 236 281 211 440</td>\n",
              "    </tr>\n",
              "    <tr>\n",
              "      <th>26</th>\n",
              "      <td>022eeb32-8192-44f5-ae9b-1e20ba387890</td>\n",
              "      <td>NaN</td>\n",
              "    </tr>\n",
              "    <tr>\n",
              "      <th>27</th>\n",
              "      <td>03fcfa7a-8d70-437a-ad1e-7172023cbdeb</td>\n",
              "      <td>NaN</td>\n",
              "    </tr>\n",
              "    <tr>\n",
              "      <th>28</th>\n",
              "      <td>2db3f026-9b97-482b-bc8e-35cb490709fb</td>\n",
              "      <td>NaN</td>\n",
              "    </tr>\n",
              "    <tr>\n",
              "      <th>29</th>\n",
              "      <td>1c8ddf66-81c8-4696-a02d-fbe18c19f50e</td>\n",
              "      <td>0.99 603 416 192 264</td>\n",
              "    </tr>\n",
              "    <tr>\n",
              "      <th>30</th>\n",
              "      <td>2140f05c-c1df-4535-ab25-2792522ad89d</td>\n",
              "      <td>NaN</td>\n",
              "    </tr>\n",
              "    <tr>\n",
              "      <th>31</th>\n",
              "      <td>311d7a49-5733-4dd6-9332-e046bf107f8b</td>\n",
              "      <td>NaN</td>\n",
              "    </tr>\n",
              "    <tr>\n",
              "      <th>32</th>\n",
              "      <td>2a31df3c-5131-4622-b63a-be9a058837bd</td>\n",
              "      <td>NaN</td>\n",
              "    </tr>\n",
              "    <tr>\n",
              "      <th>33</th>\n",
              "      <td>206f38dc-9b8a-4559-aaf7-b612fbd06ede</td>\n",
              "      <td>NaN</td>\n",
              "    </tr>\n",
              "    <tr>\n",
              "      <th>34</th>\n",
              "      <td>00e42241-12a0-490a-b856-db3e4ab41104</td>\n",
              "      <td>NaN</td>\n",
              "    </tr>\n",
              "    <tr>\n",
              "      <th>35</th>\n",
              "      <td>03cc6b7a-4eef-46e3-98e0-fe3990325b36</td>\n",
              "      <td>NaN</td>\n",
              "    </tr>\n",
              "    <tr>\n",
              "      <th>36</th>\n",
              "      <td>2e696db4-4fe7-4de8-a4ae-ac4cf76e2c03</td>\n",
              "      <td>NaN</td>\n",
              "    </tr>\n",
              "    <tr>\n",
              "      <th>37</th>\n",
              "      <td>1ed3b831-2452-4598-809e-69bb6f40f69e</td>\n",
              "      <td>0.98 647 193 297 272</td>\n",
              "    </tr>\n",
              "    <tr>\n",
              "      <th>38</th>\n",
              "      <td>2d5d0fc8-314d-41bd-adfd-52f1a1e3cc5c</td>\n",
              "      <td>0.99 171 315 203 307</td>\n",
              "    </tr>\n",
              "    <tr>\n",
              "      <th>39</th>\n",
              "      <td>03f9e13f-1239-4d82-802d-3ea20731e1db</td>\n",
              "      <td>NaN</td>\n",
              "    </tr>\n",
              "    <tr>\n",
              "      <th>40</th>\n",
              "      <td>04b5819e-f756-48ae-824e-ca9c92520bbc</td>\n",
              "      <td>NaN</td>\n",
              "    </tr>\n",
              "    <tr>\n",
              "      <th>41</th>\n",
              "      <td>028fad21-f2a0-4778-8ad2-fcee826331d0</td>\n",
              "      <td>NaN</td>\n",
              "    </tr>\n",
              "    <tr>\n",
              "      <th>42</th>\n",
              "      <td>1cec3d93-889c-4f4f-ae28-72635b933694</td>\n",
              "      <td>NaN</td>\n",
              "    </tr>\n",
              "    <tr>\n",
              "      <th>43</th>\n",
              "      <td>2950b52f-0d4e-4c6b-ad7e-7052b750bf9b</td>\n",
              "      <td>0.98 589 419 209 239</td>\n",
              "    </tr>\n",
              "    <tr>\n",
              "      <th>44</th>\n",
              "      <td>0543bdc7-dc00-4dc5-9ae2-e7f131e0d60c</td>\n",
              "      <td>0.99 232 554 192 305 0.99 640 322 200 560</td>\n",
              "    </tr>\n",
              "    <tr>\n",
              "      <th>45</th>\n",
              "      <td>2cf31164-d6db-43c0-beb4-90dd15363216</td>\n",
              "      <td>0.99 636 491 226 266</td>\n",
              "    </tr>\n",
              "    <tr>\n",
              "      <th>46</th>\n",
              "      <td>2e0b62fd-fdff-4038-a06a-188d2a3aa8e3</td>\n",
              "      <td>NaN</td>\n",
              "    </tr>\n",
              "    <tr>\n",
              "      <th>47</th>\n",
              "      <td>0de684d0-d7e8-4784-80bc-b112a66425e6</td>\n",
              "      <td>0.98 618 353 226 407</td>\n",
              "    </tr>\n",
              "    <tr>\n",
              "      <th>48</th>\n",
              "      <td>0133a3a9-350d-4501-a59f-6a7e74fbc1c8</td>\n",
              "      <td>NaN</td>\n",
              "    </tr>\n",
              "    <tr>\n",
              "      <th>49</th>\n",
              "      <td>2a1f9904-f010-4210-9371-cea55daa52a1</td>\n",
              "      <td>NaN</td>\n",
              "    </tr>\n",
              "  </tbody>\n",
              "</table>\n",
              "</div>"
            ],
            "text/plain": [
              "                                      id  \\\n",
              "0   03e146ff-fd62-4188-9ffa-c61b8f89ac8d   \n",
              "1   1bae5ce0-3a82-4c56-9c6b-c9d601fb8308   \n",
              "2   20b0afdd-c8ac-4049-b07f-22b5af366bf6   \n",
              "3   19c61430-be79-4a2b-a888-23f7ef47e5f2   \n",
              "4   2b2d704b-cb66-4bcc-afb0-4eff225d620d   \n",
              "5   2f27d72f-4e93-482c-b52e-d15db6e66d9a   \n",
              "6   1fe3ad5f-28d1-4d32-a67d-e9ba8188cde7   \n",
              "7   30e28d63-56f1-46c9-8cd5-42f821342cf1   \n",
              "8   105b67eb-bf68-4312-b594-cac7d97eed16   \n",
              "9   1ff10836-3179-4bdb-9c7c-b24acbb4051c   \n",
              "10  2efdecc5-1b2a-48cf-8cf7-1f736bbbfd75   \n",
              "11  309c1bc5-eec3-478d-9dd5-e5fbc34c057d   \n",
              "12  11a04d2d-4f12-4876-abd3-baff3797e66e   \n",
              "13  1edccb0a-5f4f-4f6e-8ec3-8e8090f8449e   \n",
              "14  23262e9c-3767-4beb-8e3d-0d1d50df6d8f   \n",
              "15  0f29db26-5ee0-4f6b-a03e-0da08fdb0a3e   \n",
              "16  2db9ca27-e965-4bcb-bbbd-708eb66625a6   \n",
              "17  19c30ace-ee4a-4fb1-a067-a8548428996f   \n",
              "18  c09ebc4a-9c22-4a8a-b584-0f90d3fe92f2   \n",
              "19  2a91d7cf-831f-4691-b25d-23b6fad483ea   \n",
              "20  2f279550-0173-4db1-a57b-c1af4ce6060a   \n",
              "21  230422fe-3a39-4bdd-ac65-70572f14451c   \n",
              "22  30956603-11a9-49cb-a5e6-8b8ad18b9b13   \n",
              "23  0f1f2c60-536e-4e50-b9f4-b90cc8c4cc2b   \n",
              "24  1b66ef47-b795-418f-bc18-1339bc980b8b   \n",
              "25  04170f9f-5d56-4ef7-9960-0afe2b50f778   \n",
              "26  022eeb32-8192-44f5-ae9b-1e20ba387890   \n",
              "27  03fcfa7a-8d70-437a-ad1e-7172023cbdeb   \n",
              "28  2db3f026-9b97-482b-bc8e-35cb490709fb   \n",
              "29  1c8ddf66-81c8-4696-a02d-fbe18c19f50e   \n",
              "30  2140f05c-c1df-4535-ab25-2792522ad89d   \n",
              "31  311d7a49-5733-4dd6-9332-e046bf107f8b   \n",
              "32  2a31df3c-5131-4622-b63a-be9a058837bd   \n",
              "33  206f38dc-9b8a-4559-aaf7-b612fbd06ede   \n",
              "34  00e42241-12a0-490a-b856-db3e4ab41104   \n",
              "35  03cc6b7a-4eef-46e3-98e0-fe3990325b36   \n",
              "36  2e696db4-4fe7-4de8-a4ae-ac4cf76e2c03   \n",
              "37  1ed3b831-2452-4598-809e-69bb6f40f69e   \n",
              "38  2d5d0fc8-314d-41bd-adfd-52f1a1e3cc5c   \n",
              "39  03f9e13f-1239-4d82-802d-3ea20731e1db   \n",
              "40  04b5819e-f756-48ae-824e-ca9c92520bbc   \n",
              "41  028fad21-f2a0-4778-8ad2-fcee826331d0   \n",
              "42  1cec3d93-889c-4f4f-ae28-72635b933694   \n",
              "43  2950b52f-0d4e-4c6b-ad7e-7052b750bf9b   \n",
              "44  0543bdc7-dc00-4dc5-9ae2-e7f131e0d60c   \n",
              "45  2cf31164-d6db-43c0-beb4-90dd15363216   \n",
              "46  2e0b62fd-fdff-4038-a06a-188d2a3aa8e3   \n",
              "47  0de684d0-d7e8-4784-80bc-b112a66425e6   \n",
              "48  0133a3a9-350d-4501-a59f-6a7e74fbc1c8   \n",
              "49  2a1f9904-f010-4210-9371-cea55daa52a1   \n",
              "\n",
              "                                   pred_string  \n",
              "0                                          NaN  \n",
              "1                                          NaN  \n",
              "2    0.99 254 499 174 335 0.99 671 341 209 512  \n",
              "3                                          NaN  \n",
              "4                         0.99 177 205 210 433  \n",
              "5      1.0 646 244 198 408 1.0 176 423 191 195  \n",
              "6                                          NaN  \n",
              "7                                          NaN  \n",
              "8                                          NaN  \n",
              "9                                          NaN  \n",
              "10                                         NaN  \n",
              "11                                         NaN  \n",
              "12                                         NaN  \n",
              "13                        0.99 162 219 240 354  \n",
              "14                                         NaN  \n",
              "15                        0.98 151 463 222 298  \n",
              "16                                         NaN  \n",
              "17                                         NaN  \n",
              "18                        0.98 273 403 147 340  \n",
              "19                                         NaN  \n",
              "20                        0.99 610 461 197 241  \n",
              "21                        0.98 638 553 174 243  \n",
              "22                        0.98 660 338 145 379  \n",
              "23                        0.99 648 466 205 273  \n",
              "24    1.0 626 371 198 415 0.99 252 588 161 179  \n",
              "25                        0.99 236 281 211 440  \n",
              "26                                         NaN  \n",
              "27                                         NaN  \n",
              "28                                         NaN  \n",
              "29                        0.99 603 416 192 264  \n",
              "30                                         NaN  \n",
              "31                                         NaN  \n",
              "32                                         NaN  \n",
              "33                                         NaN  \n",
              "34                                         NaN  \n",
              "35                                         NaN  \n",
              "36                                         NaN  \n",
              "37                        0.98 647 193 297 272  \n",
              "38                        0.99 171 315 203 307  \n",
              "39                                         NaN  \n",
              "40                                         NaN  \n",
              "41                                         NaN  \n",
              "42                                         NaN  \n",
              "43                        0.98 589 419 209 239  \n",
              "44   0.99 232 554 192 305 0.99 640 322 200 560  \n",
              "45                        0.99 636 491 226 266  \n",
              "46                                         NaN  \n",
              "47                        0.98 618 353 226 407  \n",
              "48                                         NaN  \n",
              "49                                         NaN  "
            ]
          },
          "metadata": {
            "tags": []
          },
          "execution_count": 34
        }
      ]
    },
    {
      "cell_type": "markdown",
      "metadata": {
        "id": "FSE9Z2Iz8t6x",
        "colab_type": "text"
      },
      "source": [
        "\n",
        "\n",
        "---\n",
        "\n",
        "\n",
        "### **Thank you**\n",
        "\n",
        "---\n",
        "\n"
      ]
    },
    {
      "cell_type": "markdown",
      "metadata": {
        "id": "WixB5qrx3vqj",
        "colab_type": "text"
      },
      "source": [
        "**Acknowledgements:**\n",
        "\n",
        "•\tThank you to my Prof. Pantelis Monogioudis, for guiding our project.\n",
        "\n",
        "•\tThank you to the National Institutes of Health Clinical Center for publicly providing the Chest X-Ray dataset.\n",
        "\n",
        "•\tTo original source files and documents.\n",
        "\n",
        "•\tTo Google Colab and Stack Overflow.\n",
        "\n",
        "•\tThanks to Vencent Chen for grading this project.\n",
        "\n"
      ]
    },
    {
      "cell_type": "markdown",
      "metadata": {
        "id": "pXNj39J9350T",
        "colab_type": "text"
      },
      "source": [
        "**References**\n",
        "•\tKernel: Mask R-CNN for Object Detection and Segmentation on Github- https://github.com/matterport/Mask_RCNN\n",
        "\n",
        "•\tKernel: START HERE: Beginner Intro to Lung Opacity S1\n",
        "\n",
        "https://www.kaggle.com/giuliasavorgnan/start-here-beginner-intro-to-lung-opacity-s1\n",
        "\n",
        "•\tKernel: RSNA Pneumonia Detection EDA-\n",
        "\n",
        "https://www.kaggle.com/gpreda/rsna-pneumonia-detection-eda\n",
        "\n",
        "•\tRPN mask r-cnn regions exploration on RSNA data-    \n",
        "https://www.kaggle.com/kretes/rpn-mask-r-cnn-regions-exploration-on- rsna-data\n",
        "\n",
        "•\tGoogle Colab tutorials\n"
      ]
    }
  ]
}