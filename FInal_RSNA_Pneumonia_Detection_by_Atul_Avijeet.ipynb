{
  "nbformat": 4,
  "nbformat_minor": 0,
  "metadata": {
    "colab": {
      "name": "FInal RSNA -Pneumonia-Detection by Atul Avijeet",
      "version": "0.3.2",
      "provenance": [],
      "collapsed_sections": [],
      "toc_visible": true
    },
    "kernelspec": {
      "name": "python3",
      "display_name": "Python 3"
    },
    "accelerator": "GPU"
  },
  "cells": [
    {
      "cell_type": "markdown",
      "metadata": {
        "id": "KBeAf8WgaeSk",
        "colab_type": "text"
      },
      "source": [
        "# **RSNA Pneumonia Detection Challenge**\n",
        "(Final Project for Data Mining in NJIT)\n",
        "\n",
        "Subitted to:         \n",
        "**Pantelis Monogioudis**         \n",
        "(Head of the Applied Machine Learning Department @ Bell Labs. \n",
        "Adjunct Prof. @NJIT\n",
        "                        \n",
        "\n",
        "\n",
        "---\n",
        "\n",
        "\n",
        "Submitted by:\n",
        "\n",
        "*  Atul Avijeet\n",
        "*  Saurav Harjaii                       \n",
        "*   Subhasree Kurusamy\n",
        "\n",
        "\n",
        "\n",
        "---\n",
        "\n",
        "\n",
        "\n",
        "Kaggle Link of the challenge:\n",
        "The [Radiological Society of North America](http://www.rsna.org/) Pneumonia Detection Challenge: https://www.kaggle.com/c/rsna-pneumonia-detection-challenge\n",
        "\n",
        "This notebook covers the basics of parsing the competition dataset, training using a detector basd on the [Mask-RCNN algorithm](https://arxiv.org/abs/1703.06870) for object detection and instance segmentation.  \n",
        "\n",
        "\n",
        "This notebook is developed by Atul Avijeet, Saurav Hajrai and Subhasree based upon the kernel by MD.ai.\n",
        "\n",
        "This notebook requires Google's [TensorFlow](https://www.tensorflow.org/) machine learning framework.\n",
        "\n",
        "\n",
        "---\n",
        "\n",
        "\n"
      ]
    },
    {
      "cell_type": "markdown",
      "metadata": {
        "id": "2YVdCsaJ1cPc",
        "colab_type": "text"
      },
      "source": [
        "Here we will install 3 dependencies, which are not present in Colab.\n",
        "\n",
        "**Pydicom**\n",
        "\n",
        "Pydicom is a pure Python package for working with DICOM files such as medical images, reports, and radiotherapy objects.\n",
        "\n",
        "Pydicom makes it easy to read these complex files into natural pythonic structures for easy manipulation. Modified datasets can be written again to DICOM format files.\n",
        "\n",
        "\n"
      ]
    },
    {
      "cell_type": "markdown",
      "metadata": {
        "id": "gW2umt4CMAph",
        "colab_type": "text"
      },
      "source": [
        "** Tqdm**\n",
        " \n",
        " When dealing with large datasets, even the simplest operations can take hours. Progress bars can help make data processing jobs less of a headache because:\n",
        " \n",
        "\n",
        "1. You get a reliable estimate of how long it will take\n",
        ".\n",
        "\n",
        "2. You can see immediately if it’s gotten stuck\n",
        "\n",
        ".\n",
        "The first of these is especially valuable in a business environment, where having a solid delivery estimate can make you look super professional. The best/only way I’ve found to add progress bars to Python code is with tqdm.)."
      ]
    },
    {
      "cell_type": "markdown",
      "metadata": {
        "id": "AyYZujszMoal",
        "colab_type": "text"
      },
      "source": [
        "**Imaug**\n",
        "\n",
        "A library for image augmentation in machine learning experiments, particularly convolutional neural networks. Supports the augmentation of images, keypoints/landmarks, bounding boxes, heatmaps and segmentation maps in a variety of different ways."
      ]
    },
    {
      "cell_type": "markdown",
      "metadata": {
        "id": "Q8XpUB8w-d36",
        "colab_type": "text"
      },
      "source": [
        "\n",
        "\n",
        "---\n",
        "\n"
      ]
    },
    {
      "cell_type": "code",
      "metadata": {
        "id": "tA57TGos4mtN",
        "colab_type": "code",
        "outputId": "a998bb42-e90b-411b-c4a4-f2197cbda9b2",
        "colab": {
          "base_uri": "https://localhost:8080/",
          "height": 34
        }
      },
      "source": [
        "# install dependencies not included by Colab\n",
        "# use pip3 to ensure compatibility w/ Google Deep Learning Images \n",
        "\n",
        "!pip3 install -q pydicom \n",
        "!pip3 install -q tqdm \n",
        "!pip3 install -q imgaug "
      ],
      "execution_count": 1,
      "outputs": [
        {
          "output_type": "stream",
          "text": [
            "\u001b[K     |████████████████████████████████| 7.0MB 2.6MB/s \n",
            "\u001b[?25h"
          ],
          "name": "stdout"
        }
      ]
    },
    {
      "cell_type": "markdown",
      "metadata": {
        "id": "ACoNeLVm9xBr",
        "colab_type": "text"
      },
      "source": [
        "\n",
        "\n",
        "---\n",
        "\n",
        "**Importing packages**"
      ]
    },
    {
      "cell_type": "markdown",
      "metadata": {
        "id": "8imfF0VDM5dK",
        "colab_type": "text"
      },
      "source": [
        "Now we will import the requied such as \n",
        "os, sys, random, math, numpy, cv2,\n",
        "matplotlib, json, pydicom, imaguag, tqdm, pandas,\n",
        "glob and others which are given below."
      ]
    },
    {
      "cell_type": "markdown",
      "metadata": {
        "id": "WIhZpjaqW9UM",
        "colab_type": "text"
      },
      "source": [
        "The following library is used for-\n",
        "\n",
        "\n",
        "**os**: This module provides a portable way of using operating system dependent functionality. If you just want to read or write a file see open(), if you want to manipulate paths, see the os.path module, and if you want to read all the lines in all the files on the command line see the fileinput module. "
      ]
    },
    {
      "cell_type": "markdown",
      "metadata": {
        "id": "Ly1mN1BgXUBS",
        "colab_type": "text"
      },
      "source": [
        "**sys**: This module provides access to some variables used or maintained by the interpreter and to functions that interact strongly with the interpreter. It is always available."
      ]
    },
    {
      "cell_type": "markdown",
      "metadata": {
        "id": "K6ykHEhZXk5t",
        "colab_type": "text"
      },
      "source": [
        "**random**: This module implements pseudo-random number generators for various distributions."
      ]
    },
    {
      "cell_type": "markdown",
      "metadata": {
        "id": "ekG1euwiXthM",
        "colab_type": "text"
      },
      "source": [
        "**math**: This module is always available. It provides access to the mathematical functions defined by the C standard.\n"
      ]
    },
    {
      "cell_type": "markdown",
      "metadata": {
        "id": "iSx-I0oaXxaM",
        "colab_type": "text"
      },
      "source": [
        "**numpy**: NumPy is the fundamental package for scientific computing with Python. It contains among other things:\n",
        "\n",
        "a powerful N-dimensional array object\n",
        "sophisticated (broadcasting) functions\n",
        "tools for integrating C/C++ and Fortran code\n",
        "useful linear algebra, Fourier transform, and random number capabilities"
      ]
    },
    {
      "cell_type": "markdown",
      "metadata": {
        "id": "-IgvWbbvYhQp",
        "colab_type": "text"
      },
      "source": [
        "**cv2**: Use the function cv2.imread() to read an image. The image should be in the working directory or a full path of image should be given"
      ]
    },
    {
      "cell_type": "markdown",
      "metadata": {
        "id": "r3mG1qsb5mHY",
        "colab_type": "text"
      },
      "source": [
        "**matplotlib.pyplot**: matplotlib.pyplot is a collection of command style functions that make matplotlib work like MATLAB. Each pyplot function makes some change to a figure: e.g., creates a figure, creates a plotting area in a figure, plots some lines in a plotting area, decorates the plot with labels, etc."
      ]
    },
    {
      "cell_type": "markdown",
      "metadata": {
        "id": "ExqtkA-S5ly8",
        "colab_type": "text"
      },
      "source": [
        "**json**: JSON is a syntax for storing and exchanging data."
      ]
    },
    {
      "cell_type": "markdown",
      "metadata": {
        "id": "kPdPvd-87C4f",
        "colab_type": "text"
      },
      "source": [
        "**pydicom**: Pydicom is a pure Python package for working with DICOM files such as medical images, reports, and radiotherapy objects."
      ]
    },
    {
      "cell_type": "markdown",
      "metadata": {
        "id": "5ACJy3cF7Csn",
        "colab_type": "text"
      },
      "source": [
        "\n",
        "**Imaug**: A library for image augmentation in machine learning experiments, particularly convolutional neural networks. Supports the augmentation of images, keypoints/landmarks, bounding boxes, heatmaps and segmentation maps in a variety of different ways.A library for image augmentation in machine learning experiments, particularly convolutional neural networks. Supports the augmentation of images, keypoints/landmarks, bounding boxes, heatmaps and segmentation maps in a variety of different ways."
      ]
    },
    {
      "cell_type": "markdown",
      "metadata": {
        "id": "T9eVCXT67ZB4",
        "colab_type": "text"
      },
      "source": [
        "**pandas**: pandas is an open source, BSD-licensed library providing high-performance, easy-to-use data structures and data analysis tools for the Python programming language."
      ]
    },
    {
      "cell_type": "markdown",
      "metadata": {
        "id": "S1rKebEB7msR",
        "colab_type": "text"
      },
      "source": [
        "**glob** : is a general term used to define techniques to match specified pattern according to rules related Unix shell."
      ]
    },
    {
      "cell_type": "code",
      "metadata": {
        "id": "4kjcC6QqywWl",
        "colab_type": "code",
        "colab": {}
      },
      "source": [
        "import os \n",
        "import sys\n",
        "\n",
        "import random\n",
        "import math\n",
        "import numpy as np\n",
        "import cv2\n",
        "import matplotlib.pyplot as plt\n",
        "import json\n",
        "import pydicom\n",
        "from imgaug import augmenters as iaa\n",
        "from tqdm import tqdm\n",
        "import pandas as pd \n",
        "import glob "
      ],
      "execution_count": 0,
      "outputs": []
    },
    {
      "cell_type": "markdown",
      "metadata": {
        "id": "eCXdW8QfjB81",
        "colab_type": "text"
      },
      "source": [
        "### First: Install Kaggle API for download competition data."
      ]
    },
    {
      "cell_type": "markdown",
      "metadata": {
        "id": "Y16k5lMq8Mm5",
        "colab_type": "text"
      },
      "source": [
        "\n",
        "Installation\n",
        "Ensure you have Python and the package manager pip installed. Run the following command to access the Kaggle API using the command line: pip install kaggle (You may need to do pip install --user kaggle on Mac/Linux. This is recommended if problems come up during the installation process.) Follow the authentication steps below and you’ll be able to use the kaggle CLI tool."
      ]
    },
    {
      "cell_type": "code",
      "metadata": {
        "id": "m3XCS28Oqw8Q",
        "colab_type": "code",
        "colab": {}
      },
      "source": [
        "# Install Kaggle API for downloading the competition data\n",
        "!pip3 install -q kaggle"
      ],
      "execution_count": 0,
      "outputs": []
    },
    {
      "cell_type": "markdown",
      "metadata": {
        "id": "5h0Pm-DP7KX5",
        "colab_type": "text"
      },
      "source": [
        "### Next: Accept the user agreement of the competition website! Then follow [instructions to obtain your Kaggle Credentials.](https://github.com/Kaggle/kaggle-api#api-credentials)  \n",
        "If you are unable to download the competition dataset, check to see if you have accepted the **user agreement** on the competition website. "
      ]
    },
    {
      "cell_type": "markdown",
      "metadata": {
        "id": "Q7T4b2nE9IOc",
        "colab_type": "text"
      },
      "source": [
        "To install the Kaggle API, we will first get the Jason file from going into the Kaggle profile.\n",
        "\n",
        "After that we will run the kaggle file in another notebook to get the kaggle data and key.\n"
      ]
    },
    {
      "cell_type": "markdown",
      "metadata": {
        "id": "RbrHDO3poctz",
        "colab_type": "text"
      },
      "source": [
        "To know your Kaggle Credentials, run this code and upload the jason file. (Since we already have this we will skip this step and mark it as a comment)\n",
        "\n",
        "from google.colab import files\n",
        "files.upload()"
      ]
    },
    {
      "cell_type": "code",
      "metadata": {
        "id": "PvGVpsN0tZqj",
        "colab_type": "code",
        "colab": {}
      },
      "source": [
        "# enter your Kaggle credentionals here\n",
        "\n",
        "os.environ['KAGGLE_USERNAME']=\"aadatamining\"\n",
        "os.environ['KAGGLE_KEY']=\"08b724d41563013a507bc7cf8652ada5\""
      ],
      "execution_count": 0,
      "outputs": []
    },
    {
      "cell_type": "markdown",
      "metadata": {
        "id": "HcjCiVyv9d7b",
        "colab_type": "text"
      },
      "source": [
        "Then we will create a root directory of the project and a directory to save the logs and trained model."
      ]
    },
    {
      "cell_type": "code",
      "metadata": {
        "id": "yP0XLJx_x_6o",
        "colab_type": "code",
        "colab": {}
      },
      "source": [
        "# Root directory of the project\n",
        "ROOT_DIR = os.path.abspath('./DataminingProject')\n",
        "\n",
        "# Directory to save logs and trained model\n",
        "MODEL_DIR = os.path.join(ROOT_DIR, 'logs')\n",
        "\n",
        "if not os.path.exists(ROOT_DIR):\n",
        "    os.makedirs(ROOT_DIR)\n",
        "os.chdir(ROOT_DIR)"
      ],
      "execution_count": 0,
      "outputs": []
    },
    {
      "cell_type": "markdown",
      "metadata": {
        "id": "743Q6-8p-D1G",
        "colab_type": "text"
      },
      "source": [
        "Now we will download the dataset using Kaggle in colab."
      ]
    },
    {
      "cell_type": "code",
      "metadata": {
        "id": "kdEZnDqjr7tp",
        "colab_type": "code",
        "outputId": "bacc25e3-fb4f-4c94-a716-f8d9cd4e26b8",
        "colab": {
          "base_uri": "https://localhost:8080/",
          "height": 319
        }
      },
      "source": [
        "# If you are unable to download the competition dataset, check to see if you have \n",
        "# accepted the user agreement on the competition website. \n",
        "!kaggle competitions download -c rsna-pneumonia-detection-challenge"
      ],
      "execution_count": 6,
      "outputs": [
        {
          "output_type": "stream",
          "text": [
            "Downloading stage_2_detailed_class_info.csv.zip to /content/DataminingProject\n",
            "\r  0% 0.00/583k [00:00<?, ?B/s]\n",
            "\r100% 583k/583k [00:00<00:00, 40.0MB/s]\n",
            "Downloading stage_2_sample_submission.csv to /content/DataminingProject\n",
            "\r  0% 0.00/155k [00:00<?, ?B/s]\n",
            "\r100% 155k/155k [00:00<00:00, 51.2MB/s]\n",
            "Downloading stage_2_train_labels.csv.zip to /content/DataminingProject\n",
            "\r  0% 0.00/661k [00:00<?, ?B/s]\n",
            "\r100% 661k/661k [00:00<00:00, 93.8MB/s]\n",
            "Downloading stage_2_test_images.zip to /content/DataminingProject\n",
            " 96% 361M/377M [00:01<00:00, 215MB/s]\n",
            "100% 377M/377M [00:01<00:00, 217MB/s]\n",
            "Downloading stage_2_train_images.zip to /content/DataminingProject\n",
            " 99% 3.27G/3.29G [00:24<00:00, 175MB/s]\n",
            "100% 3.29G/3.29G [00:24<00:00, 142MB/s]\n",
            "Downloading GCP%20Credits%20Request%20Link%20-%20RSNA.txt to /content/DataminingProject\n",
            "  0% 0.00/55.0 [00:00<?, ?B/s]\n",
            "100% 55.0/55.0 [00:00<00:00, 134kB/s]\n"
          ],
          "name": "stdout"
        }
      ]
    },
    {
      "cell_type": "markdown",
      "metadata": {
        "id": "femDm6VVev6m",
        "colab_type": "text"
      },
      "source": [
        "### Download is completed. Now, unzip the test and train datasets as well as the csv of  annotations."
      ]
    },
    {
      "cell_type": "markdown",
      "metadata": {
        "id": "scwzPTXd-NQN",
        "colab_type": "text"
      },
      "source": [
        "Now we will unzip the required test and train folder. Also the csv annotations."
      ]
    },
    {
      "cell_type": "markdown",
      "metadata": {
        "id": "lo4stTqkxwgN",
        "colab_type": "text"
      },
      "source": [
        "This will take few minutes to unzip as we have around 30000 files in total."
      ]
    },
    {
      "cell_type": "code",
      "metadata": {
        "id": "kHjgAwQyx_4H",
        "colab_type": "code",
        "colab": {}
      },
      "source": [
        "# unzipping takes a few minutes\n",
        "!unzip -q -o stage_2_test_images.zip -d stage_2_test_images\n",
        "!unzip -q -o stage_2_train_images.zip -d stage_2_train_images\n",
        "!unzip -q -o stage_2_train_labels.csv.zip"
      ],
      "execution_count": 0,
      "outputs": []
    },
    {
      "cell_type": "markdown",
      "metadata": {
        "id": "KLTUyeTMTe4u",
        "colab_type": "text"
      },
      "source": [
        "###  MD.ai Annotator \n",
        "MD.ai was founded by Harvard/Duke/Columbia trained doctors to accelerate the application of AI in medicine with a particular focus on medical imaging. \n",
        "\n",
        "**Annotator features**\n",
        "- The annotator can be used to view DICOM images and create image and exam level annotations.\n",
        "- You can apply the annotator to filter by label, adjudicate annotations, and assign annotation tasks to your team.\n",
        "- Notebooks can be built directly within the annotator for rapid model development.\n",
        "- The data wrangling is abstracted away by the interface and by our MD.ai library.\n",
        "- Simplifies image annotation in order to widen the participation in the futrue of medical image deep learning.\n",
        "\n",
        "The annotator allows you to create initial annotations, build and run models, modify/finetune the annotations based on predicted values, and repeat.  \n",
        "The MD.ai python client library implements functions to easily download images and annotations and to prepare the datasets used to train the model for classification."
      ]
    },
    {
      "cell_type": "markdown",
      "metadata": {
        "id": "kdYzLq1zfKL4",
        "colab_type": "text"
      },
      "source": [
        "###  To install Matterport's Mask-RCNN model from github.\n",
        "See the [Matterport's implementation of Mask-RCNN](https://github.com/matterport/Mask_RCNN)."
      ]
    },
    {
      "cell_type": "markdown",
      "metadata": {
        "id": "HVwuvkQt-rYX",
        "colab_type": "text"
      },
      "source": [
        "This is an implementation of Mask R-CNN on Python 3, Keras, and TensorFlow. The model generates bounding boxes and segmentation masks for each instance of an object in the image. It's based on Feature Pyramid Network (FPN) and a ResNet101 backbone."
      ]
    },
    {
      "cell_type": "markdown",
      "metadata": {
        "id": "BenkewNe-2FB",
        "colab_type": "text"
      },
      "source": [
        "To install this we will install this in the root directory and use !git clone link\n",
        "\n",
        "To clone the Mask RCNN model from github."
      ]
    },
    {
      "cell_type": "code",
      "metadata": {
        "id": "KgllzLnDr7kF",
        "colab_type": "code",
        "outputId": "441843f6-f825-4c42-87c4-f6ba6539a6b7",
        "colab": {
          "base_uri": "https://localhost:8080/",
          "height": 134
        }
      },
      "source": [
        "os.chdir(ROOT_DIR)\n",
        "!git clone https://github.com/matterport/Mask_RCNN.git\n",
        "os.chdir('Mask_RCNN')\n",
        "!python setup.py -q install"
      ],
      "execution_count": 8,
      "outputs": [
        {
          "output_type": "stream",
          "text": [
            "Cloning into 'Mask_RCNN'...\n",
            "remote: Enumerating objects: 956, done.\u001b[K\n",
            "remote: Total 956 (delta 0), reused 0 (delta 0), pack-reused 956\u001b[K\n",
            "Receiving objects: 100% (956/956), 119.70 MiB | 43.60 MiB/s, done.\n",
            "Resolving deltas: 100% (555/555), done.\n",
            "WARNING:root:Fail load requirements file, so using default ones.\n",
            "zip_safe flag not set; analyzing archive contents...\n"
          ],
          "name": "stdout"
        }
      ]
    },
    {
      "cell_type": "markdown",
      "metadata": {
        "id": "UI-zTCFSptzi",
        "colab_type": "text"
      },
      "source": [
        "Now import the Mask RCNN in the next step."
      ]
    },
    {
      "cell_type": "code",
      "metadata": {
        "id": "-KZXyWwhzOVU",
        "colab_type": "code",
        "outputId": "f19277c8-3039-47c1-f395-0de161ffcb5c",
        "colab": {
          "base_uri": "https://localhost:8080/",
          "height": 34
        }
      },
      "source": [
        "# Import Mask RCNN\n",
        "sys.path.append(os.path.join(ROOT_DIR, 'Mask_RCNN'))  # To find local version of the library\n",
        "from mrcnn.config import Config\n",
        "from mrcnn import utils\n",
        "import mrcnn.model as modellib\n",
        "from mrcnn import visualize\n",
        "from mrcnn.model import log"
      ],
      "execution_count": 9,
      "outputs": [
        {
          "output_type": "stream",
          "text": [
            "Using TensorFlow backend.\n"
          ],
          "name": "stderr"
        }
      ]
    },
    {
      "cell_type": "markdown",
      "metadata": {
        "id": "TQJvRoNlqC3V",
        "colab_type": "text"
      },
      "source": [
        "**TensorFlow**-\n",
        "The core open source library to help you develop and train ML models. Get started quickly by running Colab notebooks directly in your browser."
      ]
    },
    {
      "cell_type": "code",
      "metadata": {
        "id": "FghMmiMjzOX2",
        "colab_type": "code",
        "colab": {}
      },
      "source": [
        "train_dicom_dir = os.path.join(ROOT_DIR, 'stage_2_train_images')\n",
        "test_dicom_dir = os.path.join(ROOT_DIR, 'stage_2_test_images')"
      ],
      "execution_count": 0,
      "outputs": []
    },
    {
      "cell_type": "markdown",
      "metadata": {
        "id": "gj-tvDvEaDiC",
        "colab_type": "text"
      },
      "source": [
        "### Some setup functions and classes for Mask-RCNN\n",
        "\n",
        "- dicom_fps is a list of the dicom image path and filenames \n",
        "- image_annotions is a dictionary of the annotations keyed by the filenames\n",
        "- parsing the dataset returns a list of the image filenames and the annotations dictionary"
      ]
    },
    {
      "cell_type": "code",
      "metadata": {
        "id": "ivqC4cnszOaM",
        "colab_type": "code",
        "colab": {}
      },
      "source": [
        "def get_dicom_fps(dicom_dir):\n",
        "    dicom_fps = glob.glob(dicom_dir+'/'+'*.dcm')\n",
        "    return list(set(dicom_fps))\n",
        "\n",
        "def parse_dataset(dicom_dir, anns): \n",
        "    image_fps = get_dicom_fps(dicom_dir)\n",
        "    image_annotations = {fp: [] for fp in image_fps}\n",
        "    for index, row in anns.iterrows(): \n",
        "        fp = os.path.join(dicom_dir, row['patientId']+'.dcm')\n",
        "        image_annotations[fp].append(row)\n",
        "    return image_fps, image_annotations "
      ],
      "execution_count": 0,
      "outputs": []
    },
    {
      "cell_type": "markdown",
      "metadata": {
        "id": "v3UGW-1uqMI1",
        "colab_type": "text"
      },
      "source": [
        "Now since it takes very much time we have to train the deta, hence we will set parameters which helps us to run the code faster, but it is not the optimal solution."
      ]
    },
    {
      "cell_type": "code",
      "metadata": {
        "id": "_SfzTa-1zOck",
        "colab_type": "code",
        "outputId": "bcbaa18f-5b59-4a06-9d0a-2d8ccab21002",
        "colab": {
          "base_uri": "https://localhost:8080/",
          "height": 910
        }
      },
      "source": [
        "# The following parameters have been selected to reduce running time for demonstration purposes \n",
        "# These are not optimal \n",
        "\n",
        "class DetectorConfig(Config):\n",
        "    \"\"\"Configuration for training pneumonia detection on the RSNA pneumonia dataset.\n",
        "    Overrides values in the base Config class.\n",
        "    \"\"\"\n",
        "    \n",
        "    # Give the configuration a recognizable name  \n",
        "    NAME = 'pneumonia'\n",
        "    \n",
        "    # Train on 1 GPU and 8 images per GPU. We can put multiple images on each\n",
        "    # GPU because the images are small. Batch size is 8 (GPUs * images/GPU).\n",
        "    GPU_COUNT = 1\n",
        "    IMAGES_PER_GPU = 8 \n",
        "    \n",
        "    BACKBONE = 'resnet50'\n",
        "    \n",
        "    NUM_CLASSES = 2  # background + 1 pneumonia classes\n",
        "    \n",
        "    # Use small images for faster training. Set the limits of the small side\n",
        "    # the large side, and that determines the image shape.\n",
        "    IMAGE_MIN_DIM = 64\n",
        "    IMAGE_MAX_DIM = 64\n",
        "    \n",
        "    RPN_ANCHOR_SCALES = (32, 64)\n",
        "    \n",
        "    TRAIN_ROIS_PER_IMAGE = 16\n",
        "    \n",
        "    MAX_GT_INSTANCES = 3\n",
        "    \n",
        "    DETECTION_MAX_INSTANCES = 3\n",
        "    DETECTION_MIN_CONFIDENCE = 0.9\n",
        "    DETECTION_NMS_THRESHOLD = 0.1\n",
        "    \n",
        "    RPN_TRAIN_ANCHORS_PER_IMAGE = 16\n",
        "    STEPS_PER_EPOCH = 100 \n",
        "    TOP_DOWN_PYRAMID_SIZE = 32\n",
        "    STEPS_PER_EPOCH = 100\n",
        "    \n",
        "    \n",
        "config = DetectorConfig()\n",
        "config.display()"
      ],
      "execution_count": 12,
      "outputs": [
        {
          "output_type": "stream",
          "text": [
            "\n",
            "Configurations:\n",
            "BACKBONE                       resnet50\n",
            "BACKBONE_STRIDES               [4, 8, 16, 32, 64]\n",
            "BATCH_SIZE                     8\n",
            "BBOX_STD_DEV                   [0.1 0.1 0.2 0.2]\n",
            "COMPUTE_BACKBONE_SHAPE         None\n",
            "DETECTION_MAX_INSTANCES        3\n",
            "DETECTION_MIN_CONFIDENCE       0.9\n",
            "DETECTION_NMS_THRESHOLD        0.1\n",
            "FPN_CLASSIF_FC_LAYERS_SIZE     1024\n",
            "GPU_COUNT                      1\n",
            "GRADIENT_CLIP_NORM             5.0\n",
            "IMAGES_PER_GPU                 8\n",
            "IMAGE_CHANNEL_COUNT            3\n",
            "IMAGE_MAX_DIM                  64\n",
            "IMAGE_META_SIZE                14\n",
            "IMAGE_MIN_DIM                  64\n",
            "IMAGE_MIN_SCALE                0\n",
            "IMAGE_RESIZE_MODE              square\n",
            "IMAGE_SHAPE                    [64 64  3]\n",
            "LEARNING_MOMENTUM              0.9\n",
            "LEARNING_RATE                  0.001\n",
            "LOSS_WEIGHTS                   {'rpn_class_loss': 1.0, 'rpn_bbox_loss': 1.0, 'mrcnn_class_loss': 1.0, 'mrcnn_bbox_loss': 1.0, 'mrcnn_mask_loss': 1.0}\n",
            "MASK_POOL_SIZE                 14\n",
            "MASK_SHAPE                     [28, 28]\n",
            "MAX_GT_INSTANCES               3\n",
            "MEAN_PIXEL                     [123.7 116.8 103.9]\n",
            "MINI_MASK_SHAPE                (56, 56)\n",
            "NAME                           pneumonia\n",
            "NUM_CLASSES                    2\n",
            "POOL_SIZE                      7\n",
            "POST_NMS_ROIS_INFERENCE        1000\n",
            "POST_NMS_ROIS_TRAINING         2000\n",
            "PRE_NMS_LIMIT                  6000\n",
            "ROI_POSITIVE_RATIO             0.33\n",
            "RPN_ANCHOR_RATIOS              [0.5, 1, 2]\n",
            "RPN_ANCHOR_SCALES              (32, 64)\n",
            "RPN_ANCHOR_STRIDE              1\n",
            "RPN_BBOX_STD_DEV               [0.1 0.1 0.2 0.2]\n",
            "RPN_NMS_THRESHOLD              0.7\n",
            "RPN_TRAIN_ANCHORS_PER_IMAGE    16\n",
            "STEPS_PER_EPOCH                100\n",
            "TOP_DOWN_PYRAMID_SIZE          32\n",
            "TRAIN_BN                       False\n",
            "TRAIN_ROIS_PER_IMAGE           16\n",
            "USE_MINI_MASK                  True\n",
            "USE_RPN_ROIS                   True\n",
            "VALIDATION_STEPS               50\n",
            "WEIGHT_DECAY                   0.0001\n",
            "\n",
            "\n"
          ],
          "name": "stdout"
        }
      ]
    },
    {
      "cell_type": "markdown",
      "metadata": {
        "id": "_vzc0dpMqpb5",
        "colab_type": "text"
      },
      "source": [
        "Now in this class, we will use it for the training the pneunomia detection.\n",
        "Also note we are using the RSNA pneumonia dataset, which we imported from kaggle.\n",
        "Here add classes and images are added."
      ]
    },
    {
      "cell_type": "code",
      "metadata": {
        "id": "8EBVA1M60yAj",
        "colab_type": "code",
        "colab": {}
      },
      "source": [
        "class DetectorDataset(utils.Dataset):\n",
        "    \"\"\"Dataset class for training pneumonia detection on the RSNA pneumonia dataset.\n",
        "    \"\"\"\n",
        "\n",
        "    def __init__(self, image_fps, image_annotations, orig_height, orig_width):\n",
        "        super().__init__(self)\n",
        "        \n",
        "        # Add classes\n",
        "        self.add_class('pneumonia', 1, 'Lung Opacity')\n",
        "   \n",
        "        # add images \n",
        "        for i, fp in enumerate(image_fps):\n",
        "            annotations = image_annotations[fp]\n",
        "            self.add_image('pneumonia', image_id=i, path=fp, \n",
        "                           annotations=annotations, orig_height=orig_height, orig_width=orig_width)\n",
        "            \n",
        "    def image_reference(self, image_id):\n",
        "        info = self.image_info[image_id]\n",
        "        return info['path']\n",
        "\n",
        "    def load_image(self, image_id):\n",
        "        info = self.image_info[image_id]\n",
        "        fp = info['path']\n",
        "        ds = pydicom.read_file(fp)\n",
        "        image = ds.pixel_array\n",
        "        # If grayscale. Convert to RGB for consistency.\n",
        "        if len(image.shape) != 3 or image.shape[2] != 3:\n",
        "            image = np.stack((image,) * 3, -1)\n",
        "        return image\n",
        "\n",
        "    def load_mask(self, image_id):\n",
        "        info = self.image_info[image_id]\n",
        "        annotations = info['annotations']\n",
        "        count = len(annotations)\n",
        "        if count == 0:\n",
        "            mask = np.zeros((info['orig_height'], info['orig_width'], 1), dtype=np.uint8)\n",
        "            class_ids = np.zeros((1,), dtype=np.int32)\n",
        "        else:\n",
        "            mask = np.zeros((info['orig_height'], info['orig_width'], count), dtype=np.uint8)\n",
        "            class_ids = np.zeros((count,), dtype=np.int32)\n",
        "            for i, a in enumerate(annotations):\n",
        "                if a['Target'] == 1:\n",
        "                    x = int(a['x'])\n",
        "                    y = int(a['y'])\n",
        "                    w = int(a['width'])\n",
        "                    h = int(a['height'])\n",
        "                    mask_instance = mask[:, :, i].copy()\n",
        "                    cv2.rectangle(mask_instance, (x, y), (x+w, y+h), 255, -1)\n",
        "                    mask[:, :, i] = mask_instance\n",
        "                    class_ids[i] = 1\n",
        "        return mask.astype(np.bool), class_ids.astype(np.int32)"
      ],
      "execution_count": 0,
      "outputs": []
    },
    {
      "cell_type": "markdown",
      "metadata": {
        "id": "9RlMo04ckd98",
        "colab_type": "text"
      },
      "source": [
        "### Examine the annotation data, parse the dataset, and view dicom fields"
      ]
    },
    {
      "cell_type": "markdown",
      "metadata": {
        "id": "_iQdOSxHflJW",
        "colab_type": "text"
      },
      "source": [
        "We will examine the annotation data and then parse the dataset and after that we will view the dicom fields.\n",
        "\n",
        "In anns, stage_2_train_labels.csv is used.\n",
        "\n",
        "after that we use anns.head to display 6 patient data."
      ]
    },
    {
      "cell_type": "code",
      "metadata": {
        "id": "EdhUEFDr0yDA",
        "colab_type": "code",
        "outputId": "784d42d2-df16-4c0f-a1aa-d98e366de35d",
        "colab": {
          "base_uri": "https://localhost:8080/",
          "height": 225
        }
      },
      "source": [
        "# training dataset\n",
        "anns = pd.read_csv(os.path.join(ROOT_DIR, 'stage_2_train_labels.csv'))\n",
        "anns.head(6)"
      ],
      "execution_count": 14,
      "outputs": [
        {
          "output_type": "execute_result",
          "data": {
            "text/html": [
              "<div>\n",
              "<style scoped>\n",
              "    .dataframe tbody tr th:only-of-type {\n",
              "        vertical-align: middle;\n",
              "    }\n",
              "\n",
              "    .dataframe tbody tr th {\n",
              "        vertical-align: top;\n",
              "    }\n",
              "\n",
              "    .dataframe thead th {\n",
              "        text-align: right;\n",
              "    }\n",
              "</style>\n",
              "<table border=\"1\" class=\"dataframe\">\n",
              "  <thead>\n",
              "    <tr style=\"text-align: right;\">\n",
              "      <th></th>\n",
              "      <th>patientId</th>\n",
              "      <th>x</th>\n",
              "      <th>y</th>\n",
              "      <th>width</th>\n",
              "      <th>height</th>\n",
              "      <th>Target</th>\n",
              "    </tr>\n",
              "  </thead>\n",
              "  <tbody>\n",
              "    <tr>\n",
              "      <th>0</th>\n",
              "      <td>0004cfab-14fd-4e49-80ba-63a80b6bddd6</td>\n",
              "      <td>NaN</td>\n",
              "      <td>NaN</td>\n",
              "      <td>NaN</td>\n",
              "      <td>NaN</td>\n",
              "      <td>0</td>\n",
              "    </tr>\n",
              "    <tr>\n",
              "      <th>1</th>\n",
              "      <td>00313ee0-9eaa-42f4-b0ab-c148ed3241cd</td>\n",
              "      <td>NaN</td>\n",
              "      <td>NaN</td>\n",
              "      <td>NaN</td>\n",
              "      <td>NaN</td>\n",
              "      <td>0</td>\n",
              "    </tr>\n",
              "    <tr>\n",
              "      <th>2</th>\n",
              "      <td>00322d4d-1c29-4943-afc9-b6754be640eb</td>\n",
              "      <td>NaN</td>\n",
              "      <td>NaN</td>\n",
              "      <td>NaN</td>\n",
              "      <td>NaN</td>\n",
              "      <td>0</td>\n",
              "    </tr>\n",
              "    <tr>\n",
              "      <th>3</th>\n",
              "      <td>003d8fa0-6bf1-40ed-b54c-ac657f8495c5</td>\n",
              "      <td>NaN</td>\n",
              "      <td>NaN</td>\n",
              "      <td>NaN</td>\n",
              "      <td>NaN</td>\n",
              "      <td>0</td>\n",
              "    </tr>\n",
              "    <tr>\n",
              "      <th>4</th>\n",
              "      <td>00436515-870c-4b36-a041-de91049b9ab4</td>\n",
              "      <td>264.0</td>\n",
              "      <td>152.0</td>\n",
              "      <td>213.0</td>\n",
              "      <td>379.0</td>\n",
              "      <td>1</td>\n",
              "    </tr>\n",
              "    <tr>\n",
              "      <th>5</th>\n",
              "      <td>00436515-870c-4b36-a041-de91049b9ab4</td>\n",
              "      <td>562.0</td>\n",
              "      <td>152.0</td>\n",
              "      <td>256.0</td>\n",
              "      <td>453.0</td>\n",
              "      <td>1</td>\n",
              "    </tr>\n",
              "  </tbody>\n",
              "</table>\n",
              "</div>"
            ],
            "text/plain": [
              "                              patientId      x      y  width  height  Target\n",
              "0  0004cfab-14fd-4e49-80ba-63a80b6bddd6    NaN    NaN    NaN     NaN       0\n",
              "1  00313ee0-9eaa-42f4-b0ab-c148ed3241cd    NaN    NaN    NaN     NaN       0\n",
              "2  00322d4d-1c29-4943-afc9-b6754be640eb    NaN    NaN    NaN     NaN       0\n",
              "3  003d8fa0-6bf1-40ed-b54c-ac657f8495c5    NaN    NaN    NaN     NaN       0\n",
              "4  00436515-870c-4b36-a041-de91049b9ab4  264.0  152.0  213.0   379.0       1\n",
              "5  00436515-870c-4b36-a041-de91049b9ab4  562.0  152.0  256.0   453.0       1"
            ]
          },
          "metadata": {
            "tags": []
          },
          "execution_count": 14
        }
      ]
    },
    {
      "cell_type": "code",
      "metadata": {
        "id": "Mxz-pNbt5txY",
        "colab_type": "code",
        "colab": {}
      },
      "source": [
        "image_fps, image_annotations = parse_dataset(train_dicom_dir, anns=anns)"
      ],
      "execution_count": 0,
      "outputs": []
    },
    {
      "cell_type": "markdown",
      "metadata": {
        "id": "IUOIDrrAe-wl",
        "colab_type": "text"
      },
      "source": [
        "In the next step we will read the dicom image from our file path and then will get the image array."
      ]
    },
    {
      "cell_type": "code",
      "metadata": {
        "id": "YPqjEIXWRhSf",
        "colab_type": "code",
        "colab": {}
      },
      "source": [
        "ds = pydicom.read_file(image_fps[0]) # read dicom image from filepath \n",
        "image = ds.pixel_array # get image array"
      ],
      "execution_count": 0,
      "outputs": []
    },
    {
      "cell_type": "markdown",
      "metadata": {
        "id": "_IG2dxfMe7gp",
        "colab_type": "text"
      },
      "source": [
        "We will use ds to show the dicom fields."
      ]
    },
    {
      "cell_type": "code",
      "metadata": {
        "id": "81lovwF2Ro5R",
        "colab_type": "code",
        "outputId": "563458df-2640-464d-a405-19db64710bc4",
        "colab": {
          "base_uri": "https://localhost:8080/",
          "height": 605
        }
      },
      "source": [
        "# show dicom fields \n",
        "ds"
      ],
      "execution_count": 17,
      "outputs": [
        {
          "output_type": "execute_result",
          "data": {
            "text/plain": [
              "(0008, 0005) Specific Character Set              CS: 'ISO_IR 100'\n",
              "(0008, 0016) SOP Class UID                       UI: Secondary Capture Image Storage\n",
              "(0008, 0018) SOP Instance UID                    UI: 1.2.276.0.7230010.3.1.4.8323329.26458.1517874472.309453\n",
              "(0008, 0020) Study Date                          DA: '19010101'\n",
              "(0008, 0030) Study Time                          TM: '000000.00'\n",
              "(0008, 0050) Accession Number                    SH: ''\n",
              "(0008, 0060) Modality                            CS: 'CR'\n",
              "(0008, 0064) Conversion Type                     CS: 'WSD'\n",
              "(0008, 0090) Referring Physician's Name          PN: ''\n",
              "(0008, 103e) Series Description                  LO: 'view: PA'\n",
              "(0010, 0010) Patient's Name                      PN: 'decb4b85-c89b-4122-b00b-bd6a49a68d1f'\n",
              "(0010, 0020) Patient ID                          LO: 'decb4b85-c89b-4122-b00b-bd6a49a68d1f'\n",
              "(0010, 0030) Patient's Birth Date                DA: ''\n",
              "(0010, 0040) Patient's Sex                       CS: 'M'\n",
              "(0010, 1010) Patient's Age                       AS: '44'\n",
              "(0018, 0015) Body Part Examined                  CS: 'CHEST'\n",
              "(0018, 5101) View Position                       CS: 'PA'\n",
              "(0020, 000d) Study Instance UID                  UI: 1.2.276.0.7230010.3.1.2.8323329.26458.1517874472.309452\n",
              "(0020, 000e) Series Instance UID                 UI: 1.2.276.0.7230010.3.1.3.8323329.26458.1517874472.309451\n",
              "(0020, 0010) Study ID                            SH: ''\n",
              "(0020, 0011) Series Number                       IS: \"1\"\n",
              "(0020, 0013) Instance Number                     IS: \"1\"\n",
              "(0020, 0020) Patient Orientation                 CS: ''\n",
              "(0028, 0002) Samples per Pixel                   US: 1\n",
              "(0028, 0004) Photometric Interpretation          CS: 'MONOCHROME2'\n",
              "(0028, 0010) Rows                                US: 1024\n",
              "(0028, 0011) Columns                             US: 1024\n",
              "(0028, 0030) Pixel Spacing                       DS: ['0.168', '0.168']\n",
              "(0028, 0100) Bits Allocated                      US: 8\n",
              "(0028, 0101) Bits Stored                         US: 8\n",
              "(0028, 0102) High Bit                            US: 7\n",
              "(0028, 0103) Pixel Representation                US: 0\n",
              "(0028, 2110) Lossy Image Compression             CS: '01'\n",
              "(0028, 2114) Lossy Image Compression Method      CS: 'ISO_10918_1'\n",
              "(7fe0, 0010) Pixel Data                          OB: Array of 125982 bytes"
            ]
          },
          "metadata": {
            "tags": []
          },
          "execution_count": 17
        }
      ]
    },
    {
      "cell_type": "code",
      "metadata": {
        "id": "gYNSd1AhRqOV",
        "colab_type": "code",
        "colab": {}
      },
      "source": [
        "# Original DICOM image size: 1024 x 1024\n",
        "ORIG_SIZE = 1024"
      ],
      "execution_count": 0,
      "outputs": []
    },
    {
      "cell_type": "markdown",
      "metadata": {
        "id": "4FlRu8ML-ceg",
        "colab_type": "text"
      },
      "source": [
        "### Split the data into training and validation datasets\n",
        "**Note: We have only used only a portion of the images for demonstration purposes. See comments below.**\n",
        " \n",
        " - To use all the images do: image_fps_list = list(image_fps)\n",
        " - Or change the number of images from 100 to a custom number"
      ]
    },
    {
      "cell_type": "code",
      "metadata": {
        "id": "7jByVCZt-ZOC",
        "colab_type": "code",
        "outputId": "51262a1c-efd3-4cae-e1dd-50720ef2f2c5",
        "colab": {
          "base_uri": "https://localhost:8080/",
          "height": 34
        }
      },
      "source": [
        "######################################################################\n",
        "# Modify this line to use more or fewer images for training/validation. \n",
        "# To use all images, do: image_fps_list = list(image_fps)\n",
        "image_fps_list = list(image_fps[:1000]) \n",
        "#####################################################################\n",
        "\n",
        "# split dataset into training vs. validation dataset \n",
        "# split ratio is set to 0.9 vs. 0.1 (train vs. validation, respectively)\n",
        "sorted(image_fps_list)\n",
        "random.seed(42)\n",
        "random.shuffle(image_fps_list)\n",
        "\n",
        "validation_split = 0.1\n",
        "split_index = int((1 - validation_split) * len(image_fps_list))\n",
        "\n",
        "image_fps_train = image_fps_list[:split_index]\n",
        "image_fps_val = image_fps_list[split_index:]\n",
        "\n",
        "print(len(image_fps_train), len(image_fps_val))"
      ],
      "execution_count": 19,
      "outputs": [
        {
          "output_type": "stream",
          "text": [
            "900 100\n"
          ],
          "name": "stdout"
        }
      ]
    },
    {
      "cell_type": "markdown",
      "metadata": {
        "id": "9KUvacUbgiEX",
        "colab_type": "text"
      },
      "source": [
        "### Create and prepare the training dataset using the DetectorDataset class."
      ]
    },
    {
      "cell_type": "code",
      "metadata": {
        "id": "jwMkhotP0yFf",
        "colab_type": "code",
        "colab": {}
      },
      "source": [
        "# prepare the training dataset\n",
        "dataset_train = DetectorDataset(image_fps_train, image_annotations, ORIG_SIZE, ORIG_SIZE)\n",
        "dataset_train.prepare()"
      ],
      "execution_count": 0,
      "outputs": []
    },
    {
      "cell_type": "markdown",
      "metadata": {
        "id": "wPDQ9EVDgxa6",
        "colab_type": "text"
      },
      "source": [
        "### Let's look at a sample annotation. We see a bounding box with (x, y) of the the top left corner as well as the width and height."
      ]
    },
    {
      "cell_type": "code",
      "metadata": {
        "id": "0xEc47Jz59x5",
        "colab_type": "code",
        "outputId": "bf74c76a-549a-4e41-be51-aebde362de63",
        "colab": {
          "base_uri": "https://localhost:8080/",
          "height": 134
        }
      },
      "source": [
        "# Show annotation(s) for a DICOM image \n",
        "test_fp = random.choice(image_fps_train)\n",
        "image_annotations[test_fp]"
      ],
      "execution_count": 21,
      "outputs": [
        {
          "output_type": "execute_result",
          "data": {
            "text/plain": [
              "[patientId    87fca20d-c5ef-4390-9ea0-7ad0bc6f5ad4\n",
              " x                                             NaN\n",
              " y                                             NaN\n",
              " width                                         NaN\n",
              " height                                        NaN\n",
              " Target                                          0\n",
              " Name: 13540, dtype: object]"
            ]
          },
          "metadata": {
            "tags": []
          },
          "execution_count": 21
        }
      ]
    },
    {
      "cell_type": "code",
      "metadata": {
        "id": "K1TkWuGP0yHl",
        "colab_type": "code",
        "colab": {}
      },
      "source": [
        "# prepare the validation dataset\n",
        "dataset_val = DetectorDataset(image_fps_val, image_annotations, ORIG_SIZE, ORIG_SIZE)\n",
        "dataset_val.prepare()"
      ],
      "execution_count": 0,
      "outputs": []
    },
    {
      "cell_type": "markdown",
      "metadata": {
        "id": "pEXEt8fygWuC",
        "colab_type": "text"
      },
      "source": [
        "### Display a random image with bounding boxes"
      ]
    },
    {
      "cell_type": "markdown",
      "metadata": {
        "id": "sd5YTY3pcmjV",
        "colab_type": "text"
      },
      "source": [
        "Now here we will display a random image with bounding boxes. "
      ]
    },
    {
      "cell_type": "code",
      "metadata": {
        "id": "4xwsrf9G1lHR",
        "colab_type": "code",
        "outputId": "0f987d6b-daa4-4bc8-ce0e-2c96298de623",
        "colab": {
          "base_uri": "https://localhost:8080/",
          "height": 355
        }
      },
      "source": [
        "# Load and display random samples and their bounding boxes\n",
        "# Suggestion: Run this a few times to see different examples. \n",
        "\n",
        "image_id = random.choice(dataset_train.image_ids)\n",
        "image_fp = dataset_train.image_reference(image_id)\n",
        "image = dataset_train.load_image(image_id)\n",
        "mask, class_ids = dataset_train.load_mask(image_id)\n",
        "\n",
        "print(image.shape)\n",
        "\n",
        "plt.figure(figsize=(10, 10))\n",
        "plt.subplot(1, 2, 1)\n",
        "plt.imshow(image[:, :, 0], cmap='gray')\n",
        "plt.axis('off')\n",
        "\n",
        "plt.subplot(1, 2, 2)\n",
        "masked = np.zeros(image.shape[:2])\n",
        "for i in range(mask.shape[2]):\n",
        "    masked += image[:, :, 0] * mask[:, :, i]\n",
        "plt.imshow(masked, cmap='gray')\n",
        "plt.axis('off')\n",
        "\n",
        "print(image_fp)\n",
        "print(class_ids)"
      ],
      "execution_count": 23,
      "outputs": [
        {
          "output_type": "stream",
          "text": [
            "(1024, 1024, 3)\n",
            "/content/DataminingProject/stage_2_train_images/4fc32801-55fb-4b6a-9e1f-b61356d0c8ad.dcm\n",
            "[0]\n"
          ],
          "name": "stdout"
        },
        {
          "output_type": "display_data",
          "data": {
            "image/png": "[encoded data removed]",
            "text/plain": [
              "<Figure size 720x720 with 2 Axes>"
            ]
          },
          "metadata": {
            "tags": []
          }
        }
      ]
    },
    {
      "cell_type": "code",
      "metadata": {
        "id": "geTvh0sU1lJo",
        "colab_type": "code",
        "outputId": "4ceeef65-c2dd-453c-d785-26e7f0bdab4f",
        "colab": {
          "base_uri": "https://localhost:8080/",
          "height": 87
        }
      },
      "source": [
        "model = modellib.MaskRCNN(mode='training', config=config, model_dir=MODEL_DIR)"
      ],
      "execution_count": 24,
      "outputs": [
        {
          "output_type": "stream",
          "text": [
            "WARNING:tensorflow:From /usr/local/lib/python3.6/dist-packages/tensorflow/python/framework/op_def_library.py:263: colocate_with (from tensorflow.python.framework.ops) is deprecated and will be removed in a future version.\n",
            "Instructions for updating:\n",
            "Colocations handled automatically by placer.\n"
          ],
          "name": "stdout"
        }
      ]
    },
    {
      "cell_type": "markdown",
      "metadata": {
        "id": "ustAIH78hZI_",
        "colab_type": "text"
      },
      "source": [
        "### Image Augmentation. Try finetuning some variables to custom values"
      ]
    },
    {
      "cell_type": "code",
      "metadata": {
        "id": "STZnQTE61lME",
        "colab_type": "code",
        "colab": {}
      },
      "source": [
        "# Image augmentation \n",
        "augmentation = iaa.SomeOf((0, 1), [\n",
        "    iaa.Fliplr(0.5),\n",
        "    iaa.Affine(\n",
        "        scale={\"x\": (0.8, 1.2), \"y\": (0.8, 1.2)},\n",
        "        translate_percent={\"x\": (-0.2, 0.2), \"y\": (-0.2, 0.2)},\n",
        "        rotate=(-25, 25),\n",
        "        shear=(-8, 8)\n",
        "    ),\n",
        "    iaa.Multiply((0.9, 1.1))\n",
        "])"
      ],
      "execution_count": 0,
      "outputs": []
    },
    {
      "cell_type": "markdown",
      "metadata": {
        "id": "M4kt7LKuc78e",
        "colab_type": "text"
      },
      "source": [
        "### Now it's time to train the model. Note that training even a basic model can take a few hours. \n",
        "\n",
        "Note: the following model is for demonstration purpose only. We have limited the training to one epoch, and have set nominal values for the Detector Configuration to reduce run-time. \n",
        "\n",
        "- dataset_train and dataset_val are derived from DetectorDataset \n",
        "- DetectorDataset loads images from image filenames and  masks from the annotation data\n",
        "- model is Mask-RCNN"
      ]
    },
    {
      "cell_type": "markdown",
      "metadata": {
        "id": "lGqfDKOmdFKZ",
        "colab_type": "text"
      },
      "source": [
        "Now we have to select number of EPOCHS. An average time for 1 EPOCHS is around 18 minutes. \n",
        "\n",
        "As said by our Professor, we should select EPOCHS atleast 26. \n",
        "\n",
        "Therefore, we are selecting EPOCHS as 26."
      ]
    },
    {
      "cell_type": "code",
      "metadata": {
        "id": "RVgNhHjl1lOS",
        "colab_type": "code",
        "outputId": "e73a1fd5-14d9-415c-ecc0-12bf706b021b",
        "colab": {
          "base_uri": "https://localhost:8080/",
          "height": 2557
        }
      },
      "source": [
        "NUM_EPOCHS = 30\n",
        "\n",
        "# Train Mask-RCNN Model \n",
        "import warnings \n",
        "warnings.filterwarnings(\"ignore\")\n",
        "model.train(dataset_train, dataset_val, \n",
        "            learning_rate=config.LEARNING_RATE, \n",
        "            epochs=NUM_EPOCHS, \n",
        "            layers='all',\n",
        "            augmentation=augmentation)"
      ],
      "execution_count": 0,
      "outputs": [
        {
          "output_type": "stream",
          "text": [
            "\n",
            "Starting at epoch 0. LR=0.001\n",
            "\n",
            "Checkpoint Path: /content/DataminingProject/logs/pneumonia20190505T2120/mask_rcnn_pneumonia_{epoch:04d}.h5\n",
            "Selecting layers to train\n",
            "conv1                  (Conv2D)\n",
            "bn_conv1               (BatchNorm)\n",
            "res2a_branch2a         (Conv2D)\n",
            "bn2a_branch2a          (BatchNorm)\n",
            "res2a_branch2b         (Conv2D)\n",
            "bn2a_branch2b          (BatchNorm)\n",
            "res2a_branch2c         (Conv2D)\n",
            "res2a_branch1          (Conv2D)\n",
            "bn2a_branch2c          (BatchNorm)\n",
            "bn2a_branch1           (BatchNorm)\n",
            "res2b_branch2a         (Conv2D)\n",
            "bn2b_branch2a          (BatchNorm)\n",
            "res2b_branch2b         (Conv2D)\n",
            "bn2b_branch2b          (BatchNorm)\n",
            "res2b_branch2c         (Conv2D)\n",
            "bn2b_branch2c          (BatchNorm)\n",
            "res2c_branch2a         (Conv2D)\n",
            "bn2c_branch2a          (BatchNorm)\n",
            "res2c_branch2b         (Conv2D)\n",
            "bn2c_branch2b          (BatchNorm)\n",
            "res2c_branch2c         (Conv2D)\n",
            "bn2c_branch2c          (BatchNorm)\n",
            "res3a_branch2a         (Conv2D)\n",
            "bn3a_branch2a          (BatchNorm)\n",
            "res3a_branch2b         (Conv2D)\n",
            "bn3a_branch2b          (BatchNorm)\n",
            "res3a_branch2c         (Conv2D)\n",
            "res3a_branch1          (Conv2D)\n",
            "bn3a_branch2c          (BatchNorm)\n",
            "bn3a_branch1           (BatchNorm)\n",
            "res3b_branch2a         (Conv2D)\n",
            "bn3b_branch2a          (BatchNorm)\n",
            "res3b_branch2b         (Conv2D)\n",
            "bn3b_branch2b          (BatchNorm)\n",
            "res3b_branch2c         (Conv2D)\n",
            "bn3b_branch2c          (BatchNorm)\n",
            "res3c_branch2a         (Conv2D)\n",
            "bn3c_branch2a          (BatchNorm)\n",
            "res3c_branch2b         (Conv2D)\n",
            "bn3c_branch2b          (BatchNorm)\n",
            "res3c_branch2c         (Conv2D)\n",
            "bn3c_branch2c          (BatchNorm)\n",
            "res3d_branch2a         (Conv2D)\n",
            "bn3d_branch2a          (BatchNorm)\n",
            "res3d_branch2b         (Conv2D)\n",
            "bn3d_branch2b          (BatchNorm)\n",
            "res3d_branch2c         (Conv2D)\n",
            "bn3d_branch2c          (BatchNorm)\n",
            "res4a_branch2a         (Conv2D)\n",
            "bn4a_branch2a          (BatchNorm)\n",
            "res4a_branch2b         (Conv2D)\n",
            "bn4a_branch2b          (BatchNorm)\n",
            "res4a_branch2c         (Conv2D)\n",
            "res4a_branch1          (Conv2D)\n",
            "bn4a_branch2c          (BatchNorm)\n",
            "bn4a_branch1           (BatchNorm)\n",
            "res4b_branch2a         (Conv2D)\n",
            "bn4b_branch2a          (BatchNorm)\n",
            "res4b_branch2b         (Conv2D)\n",
            "bn4b_branch2b          (BatchNorm)\n",
            "res4b_branch2c         (Conv2D)\n",
            "bn4b_branch2c          (BatchNorm)\n",
            "res4c_branch2a         (Conv2D)\n",
            "bn4c_branch2a          (BatchNorm)\n",
            "res4c_branch2b         (Conv2D)\n",
            "bn4c_branch2b          (BatchNorm)\n",
            "res4c_branch2c         (Conv2D)\n",
            "bn4c_branch2c          (BatchNorm)\n",
            "res4d_branch2a         (Conv2D)\n",
            "bn4d_branch2a          (BatchNorm)\n",
            "res4d_branch2b         (Conv2D)\n",
            "bn4d_branch2b          (BatchNorm)\n",
            "res4d_branch2c         (Conv2D)\n",
            "bn4d_branch2c          (BatchNorm)\n",
            "res4e_branch2a         (Conv2D)\n",
            "bn4e_branch2a          (BatchNorm)\n",
            "res4e_branch2b         (Conv2D)\n",
            "bn4e_branch2b          (BatchNorm)\n",
            "res4e_branch2c         (Conv2D)\n",
            "bn4e_branch2c          (BatchNorm)\n",
            "res4f_branch2a         (Conv2D)\n",
            "bn4f_branch2a          (BatchNorm)\n",
            "res4f_branch2b         (Conv2D)\n",
            "bn4f_branch2b          (BatchNorm)\n",
            "res4f_branch2c         (Conv2D)\n",
            "bn4f_branch2c          (BatchNorm)\n",
            "res5a_branch2a         (Conv2D)\n",
            "bn5a_branch2a          (BatchNorm)\n",
            "res5a_branch2b         (Conv2D)\n",
            "bn5a_branch2b          (BatchNorm)\n",
            "res5a_branch2c         (Conv2D)\n",
            "res5a_branch1          (Conv2D)\n",
            "bn5a_branch2c          (BatchNorm)\n",
            "bn5a_branch1           (BatchNorm)\n",
            "res5b_branch2a         (Conv2D)\n",
            "bn5b_branch2a          (BatchNorm)\n",
            "res5b_branch2b         (Conv2D)\n",
            "bn5b_branch2b          (BatchNorm)\n",
            "res5b_branch2c         (Conv2D)\n",
            "bn5b_branch2c          (BatchNorm)\n",
            "res5c_branch2a         (Conv2D)\n",
            "bn5c_branch2a          (BatchNorm)\n",
            "res5c_branch2b         (Conv2D)\n",
            "bn5c_branch2b          (BatchNorm)\n",
            "res5c_branch2c         (Conv2D)\n",
            "bn5c_branch2c          (BatchNorm)\n",
            "fpn_c5p5               (Conv2D)\n",
            "fpn_c4p4               (Conv2D)\n",
            "fpn_c3p3               (Conv2D)\n",
            "fpn_c2p2               (Conv2D)\n",
            "fpn_p5                 (Conv2D)\n",
            "fpn_p2                 (Conv2D)\n",
            "fpn_p3                 (Conv2D)\n",
            "fpn_p4                 (Conv2D)\n",
            "In model:  rpn_model\n",
            "    rpn_conv_shared        (Conv2D)\n",
            "    rpn_class_raw          (Conv2D)\n",
            "    rpn_bbox_pred          (Conv2D)\n",
            "mrcnn_mask_conv1       (TimeDistributed)\n",
            "mrcnn_mask_bn1         (TimeDistributed)\n",
            "mrcnn_mask_conv2       (TimeDistributed)\n",
            "mrcnn_mask_bn2         (TimeDistributed)\n",
            "mrcnn_class_conv1      (TimeDistributed)\n",
            "mrcnn_class_bn1        (TimeDistributed)\n",
            "mrcnn_mask_conv3       (TimeDistributed)\n",
            "mrcnn_mask_bn3         (TimeDistributed)\n",
            "mrcnn_class_conv2      (TimeDistributed)\n",
            "mrcnn_class_bn2        (TimeDistributed)\n",
            "mrcnn_mask_conv4       (TimeDistributed)\n",
            "mrcnn_mask_bn4         (TimeDistributed)\n",
            "mrcnn_bbox_fc          (TimeDistributed)\n",
            "mrcnn_mask_deconv      (TimeDistributed)\n",
            "mrcnn_class_logits     (TimeDistributed)\n",
            "mrcnn_mask             (TimeDistributed)\n",
            "WARNING:tensorflow:From /usr/local/lib/python3.6/dist-packages/tensorflow/python/ops/math_ops.py:3066: to_int32 (from tensorflow.python.ops.math_ops) is deprecated and will be removed in a future version.\n",
            "Instructions for updating:\n",
            "Use tf.cast instead.\n",
            "Epoch 1/30\n",
            "100/100 [==============================] - 360s 4s/step - loss: 3.8973 - rpn_class_loss: 0.7770 - rpn_bbox_loss: 1.4755 - mrcnn_class_loss: 0.3195 - mrcnn_bbox_loss: 0.6693 - mrcnn_mask_loss: 0.6560 - val_loss: 2.8382 - val_rpn_class_loss: 0.3641 - val_rpn_bbox_loss: 0.9839 - val_mrcnn_class_loss: 0.3292 - val_mrcnn_bbox_loss: 0.6023 - val_mrcnn_mask_loss: 0.5587\n",
            "Epoch 2/30\n",
            "100/100 [==============================] - 44s 439ms/step - loss: 2.8219 - rpn_class_loss: 0.3966 - rpn_bbox_loss: 1.0388 - mrcnn_class_loss: 0.2286 - mrcnn_bbox_loss: 0.5827 - mrcnn_mask_loss: 0.5752 - val_loss: 2.7522 - val_rpn_class_loss: 0.3453 - val_rpn_bbox_loss: 0.9764 - val_mrcnn_class_loss: 0.2775 - val_mrcnn_bbox_loss: 0.6083 - val_mrcnn_mask_loss: 0.5447\n",
            "Epoch 3/30\n",
            "100/100 [==============================] - 246s 2s/step - loss: 2.6158 - rpn_class_loss: 0.3171 - rpn_bbox_loss: 0.9585 - mrcnn_class_loss: 0.2166 - mrcnn_bbox_loss: 0.5678 - mrcnn_mask_loss: 0.5557 - val_loss: 2.5228 - val_rpn_class_loss: 0.2951 - val_rpn_bbox_loss: 0.8431 - val_mrcnn_class_loss: 0.2734 - val_mrcnn_bbox_loss: 0.6169 - val_mrcnn_mask_loss: 0.4943\n",
            "Epoch 4/30\n",
            " 22/100 [=====>........................] - ETA: 3:54 - loss: 2.5750 - rpn_class_loss: 0.4141 - rpn_bbox_loss: 0.8402 - mrcnn_class_loss: 0.2469 - mrcnn_bbox_loss: 0.5270 - mrcnn_mask_loss: 0.5466"
          ],
          "name": "stdout"
        }
      ]
    },
    {
      "cell_type": "markdown",
      "metadata": {
        "id": "4MNhLzSChK5l",
        "colab_type": "text"
      },
      "source": [
        "**Now we will select trained model.**"
      ]
    },
    {
      "cell_type": "code",
      "metadata": {
        "id": "eraRlzgPmmIZ",
        "colab_type": "code",
        "outputId": "7899b0e4-fd6b-4517-a14c-00d6257d32cb",
        "colab": {
          "base_uri": "https://localhost:8080/",
          "height": 34
        }
      },
      "source": [
        "# select trained model \n",
        "dir_names = next(os.walk(model.model_dir))[1]\n",
        "key = config.NAME.lower()\n",
        "dir_names = filter(lambda f: f.startswith(key), dir_names)\n",
        "dir_names = sorted(dir_names)\n",
        "\n",
        "if not dir_names:\n",
        "    import errno\n",
        "    raise FileNotFoundError(\n",
        "        errno.ENOENT,\n",
        "        \"Could not find model directory under {}\".format(self.model_dir))\n",
        "    \n",
        "fps = []\n",
        "# Pick last directory\n",
        "for d in dir_names: \n",
        "    dir_name = os.path.join(model.model_dir, d)\n",
        "    # Find the last checkpoint\n",
        "    checkpoints = next(os.walk(dir_name))[2]\n",
        "    checkpoints = filter(lambda f: f.startswith(\"mask_rcnn\"), checkpoints)\n",
        "    checkpoints = sorted(checkpoints)\n",
        "    if not checkpoints:\n",
        "        print('No weight files in {}'.format(dir_name))\n",
        "    else: \n",
        "      \n",
        "      checkpoint = os.path.join(dir_name, checkpoints[-1])\n",
        "      fps.append(checkpoint)\n",
        "\n",
        "model_path = sorted(fps)[-1]\n",
        "print('Found model {}'.format(model_path))"
      ],
      "execution_count": 27,
      "outputs": [
        {
          "output_type": "stream",
          "text": [
            "Found model /content/DataminingProject/logs/pneumonia20190505T1617/mask_rcnn_pneumonia_0007.h5\n"
          ],
          "name": "stdout"
        }
      ]
    },
    {
      "cell_type": "code",
      "metadata": {
        "id": "TgpT9AzC2Bgz",
        "colab_type": "code",
        "outputId": "5cd834ab-5bff-45d1-ad8c-3a919ea5a81e",
        "colab": {
          "base_uri": "https://localhost:8080/",
          "height": 121
        }
      },
      "source": [
        "class InferenceConfig(DetectorConfig):\n",
        "    GPU_COUNT = 1\n",
        "    IMAGES_PER_GPU = 1\n",
        "\n",
        "inference_config = InferenceConfig()\n",
        "\n",
        "# Recreate the model in inference mode\n",
        "model = modellib.MaskRCNN(mode='inference', \n",
        "                          config=inference_config,\n",
        "                          model_dir=MODEL_DIR)\n",
        "\n",
        "# Load trained weights (fill in path to trained weights here)\n",
        "assert model_path != \"\", \"Provide path to trained weights\"\n",
        "print(\"Loading weights from \", model_path)\n",
        "model.load_weights(model_path, by_name=True)"
      ],
      "execution_count": 28,
      "outputs": [
        {
          "output_type": "stream",
          "text": [
            "WARNING:tensorflow:From /content/DataminingProject/Mask_RCNN/mrcnn/model.py:772: to_float (from tensorflow.python.ops.math_ops) is deprecated and will be removed in a future version.\n",
            "Instructions for updating:\n",
            "Use tf.cast instead.\n",
            "Loading weights from  /content/DataminingProject/logs/pneumonia20190505T1617/mask_rcnn_pneumonia_0007.h5\n",
            "Re-starting from epoch 7\n"
          ],
          "name": "stdout"
        }
      ]
    },
    {
      "cell_type": "markdown",
      "metadata": {
        "id": "qgoL1WkzywMW",
        "colab_type": "text"
      },
      "source": [
        "Now we will set the color for the class"
      ]
    },
    {
      "cell_type": "code",
      "metadata": {
        "id": "9mTBig7D2BjU",
        "colab_type": "code",
        "colab": {}
      },
      "source": [
        "# set color for class\n",
        "def get_colors_for_class_ids(class_ids):\n",
        "    colors = []\n",
        "    for class_id in class_ids:\n",
        "        if class_id == 1:\n",
        "            colors.append((.941, .204, .204))\n",
        "    return colors"
      ],
      "execution_count": 0,
      "outputs": []
    },
    {
      "cell_type": "markdown",
      "metadata": {
        "id": "A8EiL2LOiCr_",
        "colab_type": "text"
      },
      "source": [
        "### How does the predicted box compared to the expected value? Let's use the validation dataset to check. \n",
        "\n",
        "Note that we trained 27 epoch for demonstration purposes."
      ]
    },
    {
      "cell_type": "code",
      "metadata": {
        "id": "irheTbrW2Bl0",
        "colab_type": "code",
        "outputId": "0a5d6960-bb44-4d59-b4c5-2deb4aa630ce",
        "colab": {
          "base_uri": "https://localhost:8080/",
          "height": 1527
        }
      },
      "source": [
        "# Show few example of ground truth vs. predictions on the validation dataset \n",
        "dataset = dataset_val\n",
        "fig = plt.figure(figsize=(10, 30))\n",
        "\n",
        "for i in range(4):\n",
        "\n",
        "    image_id = random.choice(dataset.image_ids)\n",
        "    \n",
        "    original_image, image_meta, gt_class_id, gt_bbox, gt_mask =\\\n",
        "        modellib.load_image_gt(dataset_val, inference_config, \n",
        "                               image_id, use_mini_mask=False)\n",
        "        \n",
        "    plt.subplot(6, 2, 2*i + 1)\n",
        "    visualize.display_instances(original_image, gt_bbox, gt_mask, gt_class_id, \n",
        "                                dataset.class_names,\n",
        "                                colors=get_colors_for_class_ids(gt_class_id), ax=fig.axes[-1])\n",
        "    \n",
        "    plt.subplot(6, 2, 2*i + 2)\n",
        "    results = model.detect([original_image]) #, verbose=1)\n",
        "    r = results[0]\n",
        "    visualize.display_instances(original_image, r['rois'], r['masks'], r['class_ids'], \n",
        "                                dataset.class_names, r['scores'], \n",
        "                                colors=get_colors_for_class_ids(r['class_ids']), ax=fig.axes[-1])"
      ],
      "execution_count": 30,
      "outputs": [
        {
          "output_type": "stream",
          "text": [
            "\n",
            "*** No instances to display *** \n",
            "\n",
            "\n",
            "*** No instances to display *** \n",
            "\n",
            "\n",
            "*** No instances to display *** \n",
            "\n",
            "\n",
            "*** No instances to display *** \n",
            "\n",
            "\n",
            "*** No instances to display *** \n",
            "\n",
            "\n",
            "*** No instances to display *** \n",
            "\n",
            "\n",
            "*** No instances to display *** \n",
            "\n",
            "\n",
            "*** No instances to display *** \n",
            "\n"
          ],
          "name": "stdout"
        },
        {
          "output_type": "display_data",
          "data": {
            "image/png": "[encoded data removed]",
            "text/plain": [
              "<Figure size 720x2160 with 8 Axes>"
            ]
          },
          "metadata": {
            "tags": []
          }
        }
      ]
    },
    {
      "cell_type": "code",
      "metadata": {
        "id": "qRWBVJKYNdWM",
        "colab_type": "code",
        "colab": {}
      },
      "source": [
        "# Get filenames of test dataset DICOM images\n",
        "test_image_fps = get_dicom_fps(test_dicom_dir)"
      ],
      "execution_count": 0,
      "outputs": []
    },
    {
      "cell_type": "markdown",
      "metadata": {
        "id": "WcV1cL_aiSc4",
        "colab_type": "text"
      },
      "source": [
        "### Final steps - Create the submission file"
      ]
    },
    {
      "cell_type": "markdown",
      "metadata": {
        "id": "r-rRaUTQcv_v",
        "colab_type": "text"
      },
      "source": [
        "Now we will create the submission file as sample_submission.csv."
      ]
    },
    {
      "cell_type": "code",
      "metadata": {
        "id": "C6UWVrbM2Bob",
        "colab_type": "code",
        "colab": {}
      },
      "source": [
        "# Make predictions on test images, write out sample submission \n",
        "def predict(image_fps, filepath='sample_submission.csv', min_conf=0.98): \n",
        "    \n",
        "    # assume square image\n",
        "    \n",
        "    with open(filepath, 'w') as file:\n",
        "      for image_id in tqdm(image_fps): \n",
        "        ds = pydicom.read_file(image_id)\n",
        "        image = ds.pixel_array\n",
        "          \n",
        "        # If grayscale. Convert to RGB for consistency.\n",
        "        if len(image.shape) != 3 or image.shape[2] != 3:\n",
        "            image = np.stack((image,) * 3, -1) \n",
        "            \n",
        "        patient_id = os.path.splitext(os.path.basename(image_id))[0]\n",
        "\n",
        "        results = model.detect([image])\n",
        "        r = results[0]\n",
        "\n",
        "        out_str = \"\"\n",
        "        out_str += patient_id \n",
        "        assert( len(r['rois']) == len(r['class_ids']) == len(r['scores']) )\n",
        "        if len(r['rois']) == 0: \n",
        "            pass\n",
        "        else: \n",
        "            num_instances = len(r['rois'])\n",
        "            out_str += \",\"\n",
        "            for i in range(num_instances): \n",
        "                if r['scores'][i] > min_conf: \n",
        "                    out_str += ' '\n",
        "                    out_str += str(round(r['scores'][i], 2))\n",
        "                    out_str += ' '\n",
        "\n",
        "                    # x1, y1, width, height \n",
        "                    x1 = r['rois'][i][1]\n",
        "                    y1 = r['rois'][i][0]\n",
        "                    width = r['rois'][i][3] - x1 \n",
        "                    height = r['rois'][i][2] - y1 \n",
        "                    bboxes_str = \"{} {} {} {}\".format(x1, y1, \\\n",
        "                                                      width, height)    \n",
        "                    out_str += bboxes_str\n",
        "\n",
        "        file.write(out_str+\"\\n\")"
      ],
      "execution_count": 0,
      "outputs": []
    },
    {
      "cell_type": "markdown",
      "metadata": {
        "id": "t3sJEXZTo1f1",
        "colab_type": "text"
      },
      "source": [
        "Now we will make the final submition in the **sample_submission.csv** file, which will be located in the **content/DataminingProject/Mask_RCNN**"
      ]
    },
    {
      "cell_type": "markdown",
      "metadata": {
        "id": "zM_KYpME8ePT",
        "colab_type": "text"
      },
      "source": [
        "This will take few minutes."
      ]
    },
    {
      "cell_type": "code",
      "metadata": {
        "id": "C5cBpNka2Bsv",
        "colab_type": "code",
        "outputId": "8ff40e37-511b-441e-8fdb-131dcebc9f5c",
        "colab": {
          "base_uri": "https://localhost:8080/",
          "height": 34
        }
      },
      "source": [
        "# predict only the first 50 entries\n",
        "sample_submission_fp = 'sample_submission.csv'\n",
        "predict(test_image_fps, filepath=sample_submission_fp)"
      ],
      "execution_count": 33,
      "outputs": [
        {
          "output_type": "stream",
          "text": [
            "100%|██████████| 3000/3000 [05:48<00:00,  8.94it/s]\n"
          ],
          "name": "stderr"
        }
      ]
    },
    {
      "cell_type": "markdown",
      "metadata": {
        "id": "IdpvBdnUhexN",
        "colab_type": "text"
      },
      "source": [
        "**Now we will display the first fifty output as a table. We can select more if you want more in out.head(number)**"
      ]
    },
    {
      "cell_type": "code",
      "metadata": {
        "id": "_BjPE_Ee9rbA",
        "colab_type": "code",
        "outputId": "2b8dad29-ae54-4fb7-dd70-a6c7d51ff1fe",
        "colab": {
          "base_uri": "https://localhost:8080/",
          "height": 1527
        }
      },
      "source": [
        "output = pd.read_csv(sample_submission_fp, names=['id', 'pred_string'])\n",
        "output.head(50)"
      ],
      "execution_count": 34,
      "outputs": [
        {
          "output_type": "execute_result",
          "data": {
            "text/html": [
              "<div>\n",
              "<style scoped>\n",
              "    .dataframe tbody tr th:only-of-type {\n",
              "        vertical-align: middle;\n",
              "    }\n",
              "\n",
              "    .dataframe tbody tr th {\n",
              "        vertical-align: top;\n",
              "    }\n",
              "\n",
              "    .dataframe thead th {\n",
              "        text-align: right;\n",
              "    }\n",
              "</style>\n",
              "<table border=\"1\" class=\"dataframe\">\n",
              "  <thead>\n",
              "    <tr style=\"text-align: right;\">\n",
              "      <th></th>\n",
              "      <th>id</th>\n",
              "      <th>pred_string</th>\n",
              "    </tr>\n",
              "  </thead>\n",
              "  <tbody>\n",
              "    <tr>\n",
              "      <th>0</th>\n",
              "      <td>24f7c131-9d07-4251-83fc-20ab9079e326</td>\n",
              "      <td>NaN</td>\n",
              "    </tr>\n",
              "    <tr>\n",
              "      <th>1</th>\n",
              "      <td>1ef18823-a5f5-48e2-8e51-032110b4e6fc</td>\n",
              "      <td>NaN</td>\n",
              "    </tr>\n",
              "    <tr>\n",
              "      <th>2</th>\n",
              "      <td>1368a45a-8fdf-4ae1-9d41-323dc06810ca</td>\n",
              "      <td>NaN</td>\n",
              "    </tr>\n",
              "    <tr>\n",
              "      <th>3</th>\n",
              "      <td>1143ff94-7f23-47df-b327-9c1dacd3f0a3</td>\n",
              "      <td>NaN</td>\n",
              "    </tr>\n",
              "    <tr>\n",
              "      <th>4</th>\n",
              "      <td>03e73ec7-8b85-49d3-9740-d6151fcc32f8</td>\n",
              "      <td>NaN</td>\n",
              "    </tr>\n",
              "    <tr>\n",
              "      <th>5</th>\n",
              "      <td>21287f7f-c054-4a78-8afc-23fe395eb213</td>\n",
              "      <td>NaN</td>\n",
              "    </tr>\n",
              "    <tr>\n",
              "      <th>6</th>\n",
              "      <td>1ae4aec3-f102-47a2-94a3-a59503f450f7</td>\n",
              "      <td>NaN</td>\n",
              "    </tr>\n",
              "    <tr>\n",
              "      <th>7</th>\n",
              "      <td>2bacef12-1a74-46f1-8c7a-3ea5da506a42</td>\n",
              "      <td>NaN</td>\n",
              "    </tr>\n",
              "    <tr>\n",
              "      <th>8</th>\n",
              "      <td>25eb25e4-35a7-4357-a112-264787e32094</td>\n",
              "      <td>NaN</td>\n",
              "    </tr>\n",
              "    <tr>\n",
              "      <th>9</th>\n",
              "      <td>306f9134-2913-4da1-bf7a-36873b83d5ec</td>\n",
              "      <td>NaN</td>\n",
              "    </tr>\n",
              "    <tr>\n",
              "      <th>10</th>\n",
              "      <td>1dd0b293-1563-4cf3-ae1e-fcd4232f852c</td>\n",
              "      <td>NaN</td>\n",
              "    </tr>\n",
              "    <tr>\n",
              "      <th>11</th>\n",
              "      <td>1e505e44-d8e9-4fbe-bc3c-613c3671bbb8</td>\n",
              "      <td>NaN</td>\n",
              "    </tr>\n",
              "    <tr>\n",
              "      <th>12</th>\n",
              "      <td>04c2264b-9e77-464d-92e6-0c6cec3a2393</td>\n",
              "      <td>NaN</td>\n",
              "    </tr>\n",
              "    <tr>\n",
              "      <th>13</th>\n",
              "      <td>2e1f64dc-4b8f-4cfb-950d-800abdbc833e</td>\n",
              "      <td>NaN</td>\n",
              "    </tr>\n",
              "    <tr>\n",
              "      <th>14</th>\n",
              "      <td>2d6ecd46-1683-46b8-bbe0-2356622a62ea</td>\n",
              "      <td>NaN</td>\n",
              "    </tr>\n",
              "    <tr>\n",
              "      <th>15</th>\n",
              "      <td>02ed876f-f335-482d-af13-0d0b8af51774</td>\n",
              "      <td>NaN</td>\n",
              "    </tr>\n",
              "    <tr>\n",
              "      <th>16</th>\n",
              "      <td>2a2cae39-a625-41b9-a817-8389fdb07799</td>\n",
              "      <td>NaN</td>\n",
              "    </tr>\n",
              "    <tr>\n",
              "      <th>17</th>\n",
              "      <td>0df7e57e-b1c5-4ccb-ad19-4348b8818882</td>\n",
              "      <td>NaN</td>\n",
              "    </tr>\n",
              "    <tr>\n",
              "      <th>18</th>\n",
              "      <td>2d7f5392-f56e-413a-9129-fa51a6189d26</td>\n",
              "      <td>NaN</td>\n",
              "    </tr>\n",
              "    <tr>\n",
              "      <th>19</th>\n",
              "      <td>2ce40417-1531-4101-be24-e85416c812cc</td>\n",
              "      <td>NaN</td>\n",
              "    </tr>\n",
              "    <tr>\n",
              "      <th>20</th>\n",
              "      <td>2479b752-baae-4fbb-8b35-5a43464f1188</td>\n",
              "      <td>NaN</td>\n",
              "    </tr>\n",
              "    <tr>\n",
              "      <th>21</th>\n",
              "      <td>2489f5f3-8df3-464b-8f1a-8bba82c506c8</td>\n",
              "      <td>NaN</td>\n",
              "    </tr>\n",
              "    <tr>\n",
              "      <th>22</th>\n",
              "      <td>29f4ade7-a785-419f-8d39-9c7d57f3a296</td>\n",
              "      <td>0.99 609 457 186 268</td>\n",
              "    </tr>\n",
              "    <tr>\n",
              "      <th>23</th>\n",
              "      <td>1eeecd10-16a2-476f-8d81-867d5480bf01</td>\n",
              "      <td>NaN</td>\n",
              "    </tr>\n",
              "    <tr>\n",
              "      <th>24</th>\n",
              "      <td>1ad5f416-0e7e-4f08-9e8d-abd19bbe25f5</td>\n",
              "      <td>NaN</td>\n",
              "    </tr>\n",
              "    <tr>\n",
              "      <th>25</th>\n",
              "      <td>2b0bfba4-ae3c-41a8-9e21-c3053b896445</td>\n",
              "      <td>NaN</td>\n",
              "    </tr>\n",
              "    <tr>\n",
              "      <th>26</th>\n",
              "      <td>2164b764-955a-4d94-abd9-b0e5782319cf</td>\n",
              "      <td>NaN</td>\n",
              "    </tr>\n",
              "    <tr>\n",
              "      <th>27</th>\n",
              "      <td>260b87ff-df13-4177-90bb-53fb0618b1db</td>\n",
              "      <td>NaN</td>\n",
              "    </tr>\n",
              "    <tr>\n",
              "      <th>28</th>\n",
              "      <td>1df5a620-00ad-4266-a508-0d29f1e00d04</td>\n",
              "      <td>NaN</td>\n",
              "    </tr>\n",
              "    <tr>\n",
              "      <th>29</th>\n",
              "      <td>1d88820a-7428-4d97-a9b7-1202bc43939d</td>\n",
              "      <td>0.99 229 435 220 171</td>\n",
              "    </tr>\n",
              "    <tr>\n",
              "      <th>30</th>\n",
              "      <td>13584fbe-6565-4aea-ba4e-3336996dc946</td>\n",
              "      <td>NaN</td>\n",
              "    </tr>\n",
              "    <tr>\n",
              "      <th>31</th>\n",
              "      <td>c0a533e9-21c9-4c3a-9165-410eaed5b294</td>\n",
              "      <td>NaN</td>\n",
              "    </tr>\n",
              "    <tr>\n",
              "      <th>32</th>\n",
              "      <td>1a90ed6e-a6ab-4a9b-84a7-ac57e76fad42</td>\n",
              "      <td>NaN</td>\n",
              "    </tr>\n",
              "    <tr>\n",
              "      <th>33</th>\n",
              "      <td>1cb4057e-ef4b-4bec-af16-29073efee522</td>\n",
              "      <td>NaN</td>\n",
              "    </tr>\n",
              "    <tr>\n",
              "      <th>34</th>\n",
              "      <td>24df3a5d-14be-4d97-bb7c-96c274141e6c</td>\n",
              "      <td>NaN</td>\n",
              "    </tr>\n",
              "    <tr>\n",
              "      <th>35</th>\n",
              "      <td>2f279550-0173-4db1-a57b-c1af4ce6060a</td>\n",
              "      <td>NaN</td>\n",
              "    </tr>\n",
              "    <tr>\n",
              "      <th>36</th>\n",
              "      <td>10aea5ae-b0be-48e1-87cd-477c15a85772</td>\n",
              "      <td>NaN</td>\n",
              "    </tr>\n",
              "    <tr>\n",
              "      <th>37</th>\n",
              "      <td>0e74967f-8e25-4916-8133-b527f4df6dcf</td>\n",
              "      <td>NaN</td>\n",
              "    </tr>\n",
              "    <tr>\n",
              "      <th>38</th>\n",
              "      <td>1ec28d4c-00d2-4370-bcd4-58067ba215d6</td>\n",
              "      <td>NaN</td>\n",
              "    </tr>\n",
              "    <tr>\n",
              "      <th>39</th>\n",
              "      <td>1f6f5cb0-c537-4346-9300-98cf782d434f</td>\n",
              "      <td>NaN</td>\n",
              "    </tr>\n",
              "    <tr>\n",
              "      <th>40</th>\n",
              "      <td>1e8707e7-338c-4a66-bc14-5fee9e73bb14</td>\n",
              "      <td>NaN</td>\n",
              "    </tr>\n",
              "    <tr>\n",
              "      <th>41</th>\n",
              "      <td>11978f36-7caa-426b-8dd9-1bf9a6acc522</td>\n",
              "      <td>NaN</td>\n",
              "    </tr>\n",
              "    <tr>\n",
              "      <th>42</th>\n",
              "      <td>0e46f58b-4caa-4b3b-9306-3a68054bf193</td>\n",
              "      <td>NaN</td>\n",
              "    </tr>\n",
              "    <tr>\n",
              "      <th>43</th>\n",
              "      <td>04994871-0d95-4104-9e60-9573851ee997</td>\n",
              "      <td>NaN</td>\n",
              "    </tr>\n",
              "    <tr>\n",
              "      <th>44</th>\n",
              "      <td>1114d11a-201b-4105-8d7f-032dc2143e61</td>\n",
              "      <td>NaN</td>\n",
              "    </tr>\n",
              "    <tr>\n",
              "      <th>45</th>\n",
              "      <td>2b0652d1-2313-49a8-8758-18ebadadb620</td>\n",
              "      <td>NaN</td>\n",
              "    </tr>\n",
              "    <tr>\n",
              "      <th>46</th>\n",
              "      <td>1fa750dd-38ed-4002-99ee-5138338afa5c</td>\n",
              "      <td>NaN</td>\n",
              "    </tr>\n",
              "    <tr>\n",
              "      <th>47</th>\n",
              "      <td>20a20749-60a9-4132-81f1-aeac418676c6</td>\n",
              "      <td>NaN</td>\n",
              "    </tr>\n",
              "    <tr>\n",
              "      <th>48</th>\n",
              "      <td>15443e86-b8c9-4fd2-81f2-390a6a0fffa4</td>\n",
              "      <td>NaN</td>\n",
              "    </tr>\n",
              "    <tr>\n",
              "      <th>49</th>\n",
              "      <td>2793fcf7-a41b-4c76-a750-bcfc1632245f</td>\n",
              "      <td>NaN</td>\n",
              "    </tr>\n",
              "  </tbody>\n",
              "</table>\n",
              "</div>"
            ],
            "text/plain": [
              "                                      id            pred_string\n",
              "0   24f7c131-9d07-4251-83fc-20ab9079e326                    NaN\n",
              "1   1ef18823-a5f5-48e2-8e51-032110b4e6fc                    NaN\n",
              "2   1368a45a-8fdf-4ae1-9d41-323dc06810ca                    NaN\n",
              "3   1143ff94-7f23-47df-b327-9c1dacd3f0a3                    NaN\n",
              "4   03e73ec7-8b85-49d3-9740-d6151fcc32f8                    NaN\n",
              "5   21287f7f-c054-4a78-8afc-23fe395eb213                    NaN\n",
              "6   1ae4aec3-f102-47a2-94a3-a59503f450f7                    NaN\n",
              "7   2bacef12-1a74-46f1-8c7a-3ea5da506a42                    NaN\n",
              "8   25eb25e4-35a7-4357-a112-264787e32094                    NaN\n",
              "9   306f9134-2913-4da1-bf7a-36873b83d5ec                    NaN\n",
              "10  1dd0b293-1563-4cf3-ae1e-fcd4232f852c                    NaN\n",
              "11  1e505e44-d8e9-4fbe-bc3c-613c3671bbb8                    NaN\n",
              "12  04c2264b-9e77-464d-92e6-0c6cec3a2393                    NaN\n",
              "13  2e1f64dc-4b8f-4cfb-950d-800abdbc833e                    NaN\n",
              "14  2d6ecd46-1683-46b8-bbe0-2356622a62ea                    NaN\n",
              "15  02ed876f-f335-482d-af13-0d0b8af51774                    NaN\n",
              "16  2a2cae39-a625-41b9-a817-8389fdb07799                    NaN\n",
              "17  0df7e57e-b1c5-4ccb-ad19-4348b8818882                    NaN\n",
              "18  2d7f5392-f56e-413a-9129-fa51a6189d26                    NaN\n",
              "19  2ce40417-1531-4101-be24-e85416c812cc                    NaN\n",
              "20  2479b752-baae-4fbb-8b35-5a43464f1188                    NaN\n",
              "21  2489f5f3-8df3-464b-8f1a-8bba82c506c8                    NaN\n",
              "22  29f4ade7-a785-419f-8d39-9c7d57f3a296   0.99 609 457 186 268\n",
              "23  1eeecd10-16a2-476f-8d81-867d5480bf01                    NaN\n",
              "24  1ad5f416-0e7e-4f08-9e8d-abd19bbe25f5                    NaN\n",
              "25  2b0bfba4-ae3c-41a8-9e21-c3053b896445                    NaN\n",
              "26  2164b764-955a-4d94-abd9-b0e5782319cf                    NaN\n",
              "27  260b87ff-df13-4177-90bb-53fb0618b1db                    NaN\n",
              "28  1df5a620-00ad-4266-a508-0d29f1e00d04                    NaN\n",
              "29  1d88820a-7428-4d97-a9b7-1202bc43939d   0.99 229 435 220 171\n",
              "30  13584fbe-6565-4aea-ba4e-3336996dc946                    NaN\n",
              "31  c0a533e9-21c9-4c3a-9165-410eaed5b294                    NaN\n",
              "32  1a90ed6e-a6ab-4a9b-84a7-ac57e76fad42                    NaN\n",
              "33  1cb4057e-ef4b-4bec-af16-29073efee522                    NaN\n",
              "34  24df3a5d-14be-4d97-bb7c-96c274141e6c                    NaN\n",
              "35  2f279550-0173-4db1-a57b-c1af4ce6060a                    NaN\n",
              "36  10aea5ae-b0be-48e1-87cd-477c15a85772                    NaN\n",
              "37  0e74967f-8e25-4916-8133-b527f4df6dcf                    NaN\n",
              "38  1ec28d4c-00d2-4370-bcd4-58067ba215d6                    NaN\n",
              "39  1f6f5cb0-c537-4346-9300-98cf782d434f                    NaN\n",
              "40  1e8707e7-338c-4a66-bc14-5fee9e73bb14                    NaN\n",
              "41  11978f36-7caa-426b-8dd9-1bf9a6acc522                    NaN\n",
              "42  0e46f58b-4caa-4b3b-9306-3a68054bf193                    NaN\n",
              "43  04994871-0d95-4104-9e60-9573851ee997                    NaN\n",
              "44  1114d11a-201b-4105-8d7f-032dc2143e61                    NaN\n",
              "45  2b0652d1-2313-49a8-8758-18ebadadb620                    NaN\n",
              "46  1fa750dd-38ed-4002-99ee-5138338afa5c                    NaN\n",
              "47  20a20749-60a9-4132-81f1-aeac418676c6                    NaN\n",
              "48  15443e86-b8c9-4fd2-81f2-390a6a0fffa4                    NaN\n",
              "49  2793fcf7-a41b-4c76-a750-bcfc1632245f                    NaN"
            ]
          },
          "metadata": {
            "tags": []
          },
          "execution_count": 34
        }
      ]
    },
    {
      "cell_type": "markdown",
      "metadata": {
        "id": "FSE9Z2Iz8t6x",
        "colab_type": "text"
      },
      "source": [
        "\n",
        "\n",
        "---\n",
        "\n",
        "\n",
        "### **Thank you**\n",
        "\n",
        "---\n",
        "\n"
      ]
    },
    {
      "cell_type": "markdown",
      "metadata": {
        "id": "WixB5qrx3vqj",
        "colab_type": "text"
      },
      "source": [
        "**Acknowledgements:**\n",
        "\n",
        "•\tThank you to my Prof. Pantelis Monogioudis, for guiding our project.\n",
        "\n",
        "•\tThank you to the National Institutes of Health Clinical Center for publicly providing the Chest X-Ray dataset.\n",
        "\n",
        "•\tTo original source files and documents.\n",
        "\n",
        "•\tTo Google Colab and Stack Overflow.\n",
        "\n",
        "•\tThanks to Vencent Chen for grading this project.\n",
        "\n"
      ]
    },
    {
      "cell_type": "markdown",
      "metadata": {
        "id": "pXNj39J9350T",
        "colab_type": "text"
      },
      "source": [
        "**References**\n",
        "•\tKernel: Mask R-CNN for Object Detection and Segmentation on Github- https://github.com/matterport/Mask_RCNN\n",
        "\n",
        "•\tKernel: START HERE: Beginner Intro to Lung Opacity S1\n",
        "\n",
        "https://www.kaggle.com/giuliasavorgnan/start-here-beginner-intro-to-lung-opacity-s1\n",
        "\n",
        "•\tKernel: RSNA Pneumonia Detection EDA-\n",
        "\n",
        "https://www.kaggle.com/gpreda/rsna-pneumonia-detection-eda\n",
        "\n",
        "•\tRPN mask r-cnn regions exploration on RSNA data-    \n",
        "https://www.kaggle.com/kretes/rpn-mask-r-cnn-regions-exploration-on- rsna-data\n",
        "\n",
        "•\tGoogle Colab tutorials\n"
      ]
    }
  ]
}